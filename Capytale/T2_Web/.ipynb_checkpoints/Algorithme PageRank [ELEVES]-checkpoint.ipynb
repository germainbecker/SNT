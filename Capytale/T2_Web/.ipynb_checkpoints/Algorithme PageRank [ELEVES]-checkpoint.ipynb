{
 "cells": [
  {
   "cell_type": "markdown",
   "metadata": {},
   "source": [
    "<div style=\"margin-left: auto; margin-right: auto; background-color: rgb(0,161,153); color: white; padding: 10px;\">\n",
    "    <span><strong>SNT / Thème 2 : Le Web</strong></span>\n",
    "    <h1 style=\"font-size:3em;padding-bottom:30px; text-align:center\">Algorithme PageRank</h1>\n",
    "</div>"
   ]
  },
  {
   "cell_type": "markdown",
   "metadata": {},
   "source": [
    "<img width=\"200\" src=\"https://upload.wikimedia.org/wikipedia/commons/thumb/2/2f/Google_2015_logo.svg/langfr-1920px-Google_2015_logo.svg.png\" alt=\"logo de Google\">\n",
    "\n",
    "L'algorithme **PageRank** est un algorithme permettant de **calculer la popularité** des pages Web afin de classer les pages de réponses avec beaucoup de pertinence. Dans cette partie, vous allez programmer cet algorithme qui a été l'idée révolutionnaire des fondateurs du moteur de recherche Google."
   ]
  },
  {
   "cell_type": "markdown",
   "metadata": {},
   "source": [
    "On suppose qu'un moteur de recherche a enregistré 6 pages web. Voici le schéma (http://graphonline.ru/fr/?graph=vZaaBJOnrSKcaRYzZZcst) représentant ces 6 pages ainsi que les hyperliens entre elles symbolisés par des flèches.\n",
    "\n",
    "![graphe des 6 pages web](graphe_pagerank.svg)\n",
    "\n",
    "Ainsi :\n",
    "\n",
    "- la page A possède un hyperlien sortant vers la page E\n",
    "- la page B possède deux hyperliens sortants vers les pages A et E\n",
    "- etc.\n"
   ]
  },
  {
   "cell_type": "markdown",
   "metadata": {},
   "source": [
    "✏️ **Question 1** : Quel nom porte ce genre de schéma ? Comment appelle-t-on les pages Web et les hyperliens dans ce cas ?"
   ]
  },
  {
   "cell_type": "raw",
   "metadata": {},
   "source": [
    "Votre réponse :"
   ]
  },
  {
   "cell_type": "markdown",
   "metadata": {},
   "source": [
    "# Création des hyperliens\n",
    "\n",
    "✏️ **Question 2** : Si un internaute se trouve sur la page C, vers quelle(s) pages(s) peut-il être redirigé s'il clique sur les hyperliens de la page C ?"
   ]
  },
  {
   "cell_type": "raw",
   "metadata": {},
   "source": [
    "Votre réponse :"
   ]
  },
  {
   "cell_type": "markdown",
   "metadata": {},
   "source": [
    "🐍 **Question 3** : En Python, on peut représenter les hyperliens de chacune des six pages Web de la façon suivante. Complétez les pointillés avec les hyperliens manquants."
   ]
  },
  {
   "cell_type": "code",
   "execution_count": null,
   "metadata": {},
   "outputs": [],
   "source": [
    "# à compléter\n",
    "hyperliens = {}\n",
    "hyperliens[\"A\"] = [\"E\"]  # l'hyperlien sur la page A pointe vers la page E\n",
    "hyperliens[\"B\"] = [\"A\", \"E\"]  # les hyperliens sur la page B pointent vers les pages A et E\n",
    "hyperliens[\"C\"] = [..., ...]\n",
    "hyperliens[\"D\"] = ...\n",
    "hyperliens[\"E\"] = ...\n",
    "hyperliens[\"F\"] = ..."
   ]
  },
  {
   "cell_type": "markdown",
   "metadata": {},
   "source": [
    "Désormais, la variable `hyperliens` contient bien tous les hyperliens pour chacune des six pages Web qui nous intéressent."
   ]
  },
  {
   "cell_type": "code",
   "execution_count": null,
   "metadata": {},
   "outputs": [],
   "source": [
    "hyperliens"
   ]
  },
  {
   "cell_type": "markdown",
   "metadata": {},
   "source": [
    "On peut obtenir facilement la liste des pages accessibles à partir d'une autre. Par exemple, pour connaître les pages vers lesquelles on peut se rendre si on se trouve sur la page B, on utilise l'instruction :"
   ]
  },
  {
   "cell_type": "code",
   "execution_count": null,
   "metadata": {},
   "outputs": [],
   "source": [
    "hyperliens[\"B\"]"
   ]
  },
  {
   "cell_type": "markdown",
   "metadata": {},
   "source": [
    "🐍 **Question 4** : Complétez/écrivez les instructions permettant de connaître la liste des pages vers lesquelles on peut se rendre si on se trouve sur la page C, puis si on se trouve sur la page E (vérifiez avec le schéma bien sûr !)."
   ]
  },
  {
   "cell_type": "code",
   "execution_count": null,
   "metadata": {},
   "outputs": [],
   "source": [
    "# pages accessibles à partir de la page C\n",
    "hyperliens[\"...\"]"
   ]
  },
  {
   "cell_type": "code",
   "execution_count": null,
   "metadata": {},
   "outputs": [],
   "source": [
    "# pages accessibles à partir de la page E\n",
    "..."
   ]
  },
  {
   "cell_type": "markdown",
   "metadata": {},
   "source": [
    "# Visiter les pages au hasard\n",
    "\n",
    "On rappelle que l'idée pour calculer la popularité des pages consiste à se déplacer au hasard en suivant les liens hypertextes.\n",
    "\n",
    "En Python, on peut utiliser la fonction `choice` (du module `random`) pour choisir au hasard un élément dans une liste.\n",
    "\n",
    "Par exemple, le code suivant permet de choisir aléatoirement une page dans la liste `[\"A\", \"B\", \"C\", \"D\", \"E\", \"F\"]` et de stocker cette page dans la variable `page`. "
   ]
  },
  {
   "cell_type": "code",
   "execution_count": null,
   "metadata": {},
   "outputs": [],
   "source": [
    "from random import choice\n",
    "\n",
    "page = choice([\"A\", \"B\", \"C\", \"D\", \"E\", \"F\"])\n",
    "print(page)  # pour voir la page choisie aléatoirement"
   ]
  },
  {
   "cell_type": "markdown",
   "metadata": {},
   "source": [
    "> 📣 Exécutez plusieurs fois le code précédent pour comprendre le principe."
   ]
  },
  {
   "cell_type": "markdown",
   "metadata": {},
   "source": [
    "🐍 **Question 5** : Complétez le programme suivant pour choisir aléatoirement une page parmi celles accessibles à partir de la page B. Exécutez ensuite plusieurs fois le code pour constater que la variable `page` ne peut qu'être la page A ou la page E."
   ]
  },
  {
   "cell_type": "code",
   "execution_count": null,
   "metadata": {},
   "outputs": [],
   "source": [
    "from random import choice\n",
    "\n",
    "page = choice(...)\n",
    "print(page)"
   ]
  },
  {
   "cell_type": "markdown",
   "metadata": {},
   "source": [
    "🐍 **Question 6** : Exécutez plusieurs fois le programme suivant et expliquer ce qu'il affiche."
   ]
  },
  {
   "cell_type": "code",
   "execution_count": null,
   "metadata": {},
   "outputs": [],
   "source": [
    "from random import choice\n",
    "\n",
    "nb_etapes = 20\n",
    "page = \"A\"\n",
    "for i in range(nb_etapes):\n",
    "    page = choice(hyperliens[page])\n",
    "    print(\"Page actuelle : \" + page)"
   ]
  },
  {
   "cell_type": "raw",
   "metadata": {},
   "source": [
    "Votre réponse (qu'affiche le programme ?) :\n",
    "\n"
   ]
  },
  {
   "cell_type": "markdown",
   "metadata": {},
   "source": [
    "# Calculer le score de chaque page"
   ]
  },
  {
   "cell_type": "markdown",
   "metadata": {},
   "source": [
    "🐍 **Question 7** : Le programme ci-dessous doit afficher le nombre de fois où l'on passe par la page E. Complétez ce programme en écrivant les trois lignes suivantes à la place des pointillés.\n",
    "\n",
    "```python\n",
    "if page == \"A\":\n",
    "```\n",
    "```python\n",
    "nb_visites_A = 0\n",
    "```\n",
    "```python\n",
    "nb_visites_A = nb_visites_A + 1\n",
    "```"
   ]
  },
  {
   "cell_type": "code",
   "execution_count": null,
   "metadata": {},
   "outputs": [],
   "source": [
    "# à compléter\n",
    "from random import choice\n",
    "\n",
    "...\n",
    "nb_etapes = 20\n",
    "page = \"A\"\n",
    "for i in range(nb_etapes):\n",
    "    page = choice(hyperliens[page])\n",
    "    ...\n",
    "        ...\n",
    "print(nb_visites_A)"
   ]
  },
  {
   "cell_type": "markdown",
   "metadata": {},
   "source": [
    "🐍 **Question 8** : Ajoutez les bonnes instructions conditionnelles pour calculer le nombre de visites de chaque page."
   ]
  },
  {
   "cell_type": "code",
   "execution_count": null,
   "metadata": {},
   "outputs": [],
   "source": [
    "# à compléter\n",
    "\n",
    "from random import choice\n",
    "\n",
    "nb_visites_A = 0\n",
    "nb_visites_B = 0\n",
    "nb_visites_C = 0\n",
    "nb_visites_D = 0\n",
    "nb_visites_E = 0\n",
    "nb_visites_F = 0\n",
    "page = \"A\"\n",
    "nb_etapes = 10\n",
    "for i in range(nb_etapes):\n",
    "    page = choice(hyperliens[page])\n",
    "    if page == \"A\":\n",
    "        nb_visites_A = nb_visites_A + 1\n",
    "    # à compléter (plusieurs lignes)\n",
    "    ...\n",
    "    ...\n",
    "    \n",
    "\n",
    "    \n",
    "\n",
    "print(nb_visites_A, nb_visites_B, nb_visites_C, nb_visites_D, nb_visites_E, nb_visites_F)"
   ]
  },
  {
   "cell_type": "markdown",
   "metadata": {},
   "source": [
    "✏️ **Question 9** : Le score d'une page est égale à la fréquence de visite de la page. Si au cours des 20 répétitions la page B a été visitée 2 fois, quel est son score ?"
   ]
  },
  {
   "cell_type": "raw",
   "metadata": {},
   "source": [
    "Votre réponse : "
   ]
  },
  {
   "cell_type": "markdown",
   "metadata": {},
   "source": [
    "🐍 **Question 10** : Recopiez et modifiez la dernière ligne du programme précédent pour afficher les scores de chaque page (et non plus le nombre de visites)."
   ]
  },
  {
   "cell_type": "code",
   "execution_count": null,
   "metadata": {},
   "outputs": [],
   "source": [
    "# à vous de jouer !\n"
   ]
  },
  {
   "cell_type": "markdown",
   "metadata": {},
   "source": [
    "🐍 **Question 11** : Augmentez le nombre d'étapes (100 puis 1000 puis 10000 puis 100000) et observez que le score des pages devient de plus en plus proche de :\n",
    "\n",
    "| Page | A | B | C | D | E | F |\n",
    "| --- | --- | --- | --- | --- | --- | --- |\n",
    "| Score | 0,15 | 0,10 | 0,10 | 0,10 | 0,40 | 0,15 |"
   ]
  },
  {
   "cell_type": "code",
   "execution_count": null,
   "metadata": {},
   "outputs": [],
   "source": [
    "# à vous de jouer !\n"
   ]
  },
  {
   "cell_type": "markdown",
   "metadata": {},
   "source": [
    "> <span style=\"font-size:1.5em\">📣</span> Les scores ainsi calculés correspondent à la popularité de chaque page. Plus le score est élevé, plus la page est considérée comme populaire !"
   ]
  },
  {
   "cell_type": "markdown",
   "metadata": {},
   "source": [
    "---\n",
    "**Référence**\n",
    "\n",
    "- L'idée de l'activité est issue du manuel de SNT BORDAS, collection 3.0 (activités 10 et 11 pages 61-69).\n",
    "- Le graphe a été réalisé avec le site [graphe online](http://graphonline.ru/fr/?graph=vZaaBJOnrSKcaRYzZZcst).\n",
    "\n",
    "---\n",
    "Germain Becker, lycée Emmanuel Mounier, ANGERS \n",
    "\n",
    "![Licence Creative Commons](https://i.creativecommons.org/l/by-nc-sa/4.0/88x31.png)"
   ]
  }
 ],
 "metadata": {
  "kernelspec": {
   "display_name": "Python 3",
   "language": "python",
   "name": "python3"
  },
  "language_info": {
   "codemirror_mode": {
    "name": "ipython",
    "version": 3
   },
   "file_extension": ".py",
   "mimetype": "text/x-python",
   "name": "python",
   "nbconvert_exporter": "python",
   "pygments_lexer": "ipython3",
   "version": "3.7.10"
  }
 },
 "nbformat": 4,
 "nbformat_minor": 2
}
