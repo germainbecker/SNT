{
 "cells": [
  {
   "cell_type": "markdown",
   "metadata": {},
   "source": [
    "<div style=\"margin-left: auto; margin-right: auto; background-color: rgb(0,161,153); color: white; padding: 10px;\">\n",
    "    <span><strong>SNT / Programmation Python / Séance 3</strong></span>\n",
    "    <h1 style=\"font-size:3em;padding-bottom:30px; text-align:center\">Les instructions conditionnelles</h1>\n",
    "</div>"
   ]
  },
  {
   "cell_type": "markdown",
   "metadata": {},
   "source": [
    "# 🟥 1. Introduction\n",
    "---\n",
    "\n",
    "<div class=\"alert\" style=\"color:black; background-color:rgb(255, 214, 220); border-left: 8px solid rgb(255, 50, 80);\">\n",
    "\n",
    "Une **instruction conditionnelle**, ou instruction de test, permet de *faire des choix* en fonction de la valeur d’une *condition*. On parle souvent d’une instruction *si-alors*, ou *if-else* en anglais.\n",
    "\n",
    "Une **condition** est une instruction qui est soit vraie, soit fausse. On dit qu’il s’agit d’un *booléen*.\n",
    "\n",
    "</div>"
   ]
  },
  {
   "cell_type": "markdown",
   "metadata": {},
   "source": [
    "**Exemple** : Par exemple, si une variable `a` vaut 5 et qu'une variable `b` vaut 10 alors la condition `a < b` est une condition qui est vraie, tandis que les conditions `a > b` et `a == b` sont fausses.  \n",
    "\n",
    "On peut tester cela en exécutant les cellules suivantes :"
   ]
  },
  {
   "cell_type": "code",
   "execution_count": null,
   "metadata": {},
   "outputs": [],
   "source": [
    "a = 5\n",
    "b = 10"
   ]
  },
  {
   "cell_type": "code",
   "execution_count": null,
   "metadata": {},
   "outputs": [],
   "source": [
    "a < b"
   ]
  },
  {
   "cell_type": "code",
   "execution_count": null,
   "metadata": {},
   "outputs": [],
   "source": [
    "a > b"
   ]
  },
  {
   "cell_type": "code",
   "execution_count": null,
   "metadata": {},
   "outputs": [],
   "source": [
    "a == b"
   ]
  },
  {
   "cell_type": "markdown",
   "metadata": {},
   "source": [
    "<blockquote class=\"alert alert-info\" style=\"background-color:rgb(220,240,255); margin:10px 10%; \">\n",
    " \n",
    "<span style=\"font-size:1.5em\">⚠️</span> **Source d'erreur classique** : Le test d'égalité entre deux variables se fait avec un double égal `==` (car le simple `=` a un rôle différent : celui d'affecter une valeur à une variable).\n",
    "    \n",
    "</blockquote>"
   ]
  },
  {
   "cell_type": "markdown",
   "metadata": {},
   "source": [
    "Pour tester des inégalité larges (comme $a \\leq b$ et $a \\geq$ b) ou l'absence d'égalité (comme $a\\neq b$) on utilise les syntaxes suivantes :\n",
    "- le signe `<=` pour *inférieur ou égal*\n",
    "- le signe `>=` pour *supérieur ou égal*\n",
    "- le signe `!=` pour *n'est pas égal à*"
   ]
  },
  {
   "cell_type": "code",
   "execution_count": null,
   "metadata": {},
   "outputs": [],
   "source": [
    "a <= b"
   ]
  },
  {
   "cell_type": "code",
   "execution_count": null,
   "metadata": {},
   "outputs": [],
   "source": [
    "a >= b"
   ]
  },
  {
   "cell_type": "code",
   "execution_count": null,
   "metadata": {},
   "outputs": [],
   "source": [
    "a != b"
   ]
  },
  {
   "cell_type": "markdown",
   "metadata": {},
   "source": [
    "On peut résumer les tests possibles dans le tableau ci-dessous :\n",
    "\n",
    "| Test | Syntaxe Python |\n",
    "| --- | --- |\n",
    "| $$a=b$$ | `a == b` |\n",
    "| $$a\\neq b$$ | `a != b` |\n",
    "| $$a<b$$ | `a < b` |\n",
    "| $$a\\leq b$$ | `a <= b` |\n",
    "| $$a>b$$ | `a > b` |\n",
    "| $$a\\geq b$$ | `a >= b` |\n",
    "| $$a<b<c$$ | `a < b < c` |\n",
    "| $$a\\leq b \\leq c$$ | `a <= b <= c` |\n",
    "| $$a<b\\leq c$$ | `a < b <= c` |\n"
   ]
  },
  {
   "cell_type": "markdown",
   "metadata": {},
   "source": [
    "## Exemple concret\n",
    "\n",
    "<img src=\"https://raw.githubusercontent.com/germainbecker/SNT/master/Capytale/Python/les-instructions-conditionnelles/football.svg\" alt=\"illustration\" width=\"200\">\n",
    "\n",
    "On souhaite connaître le vainqueur d’un match de football connaissant le score des deux équipes A et B . À la fin de l'*algorithme* suivant , la variable `vainqueur` contient la réponse à la question :\n",
    "\n",
    "```\n",
    "si scoreA > scoreB alors\n",
    "    vainqueur ← \"équipe A\"     (la flèche ← signifie \"prend la valeur\")\n",
    "sinon \n",
    "    vainqueur ← \"équipe B\"\n",
    "```\n",
    "\n",
    "Cet algorithme s'écrirait en Python de la façon suivante :\n",
    "\n",
    "```python\n",
    "if scoreA > scoreB:\n",
    "    vainqueur = \"équipe A\"\n",
    "else:\n",
    "    vainqueur = \"équipe B\"\n",
    "```"
   ]
  },
  {
   "cell_type": "markdown",
   "metadata": {},
   "source": [
    "<blockquote class=\"alert alert-info\" style=\"background-color:rgb(220,240,255); margin:10px 10%; \">\n",
    " \n",
    "<span style=\"font-size:1.5em\">🧐</span> Dans ce programme, il y a une condition `scoreA > scoreB`. Si elle est vraie, alors le vainqueur sera l'équipe A, sinon ce sera l'équipe B. On voit bien qu’un choix est effectué (pour la variable `vainqueur`) selon la valeur de la condition.\n",
    "    \n",
    "</blockquote>"
   ]
  },
  {
   "cell_type": "markdown",
   "metadata": {},
   "source": [
    "Notre algorithme n'est pas optimal car il y a un troisième cas possible, celui du match nul. On peut l'adapter de la façon suivante pour en tenir compte :\n",
    "\n",
    "```\n",
    "si scoreA > scoreB alors\n",
    "    vainqueur ← \"équipe A\"     (la flèche ← signifie \"prend la valeur\")\n",
    "sinon si scoreA < scoreB alors\n",
    "    vainqueur ← \"équipe B\"\n",
    "sinon\n",
    "    vainqueur ← \"Match nul\"\n",
    "```\n",
    "\n",
    "Cet algorithme s'écrirait en Python de la façon suivante :\n",
    "\n",
    "```python\n",
    "if scoreA > scoreB:         # si scoreA > scoreB\n",
    "    vainqueur = \"équipe A\"\n",
    "elif scoreA < scoreB:       # sinon si scoreA < scoreB\n",
    "    vainqueur = \"équipe B\"\n",
    "else:                       # sinon\n",
    "    vainqueur = \"Match nul\"\n",
    "```"
   ]
  },
  {
   "cell_type": "markdown",
   "metadata": {},
   "source": [
    "<blockquote class=\"alert alert-info\" style=\"background-color:rgb(220,240,255); margin:10px 10%; \">\n",
    " \n",
    "<span style=\"font-size:1.5em\">🧐</span> Dans ce nouveau programme, il y a deux conditions : `scoreA > scoreB` et `scoreA < scoreB`. Si la première est vraie, alors le vainqueur est l'équipe A, sinon on teste si la seconde est vraie et dans l'affirmative le vainqueur est l'équipe B, sinon c'est qu'il y a match nul.\n",
    "    \n",
    "</blockquote>"
   ]
  },
  {
   "cell_type": "markdown",
   "metadata": {},
   "source": [
    "Synthétisons comment écrire des instructions conditionnelles en Python tout de suite !"
   ]
  },
  {
   "cell_type": "markdown",
   "metadata": {},
   "source": [
    "# 🟥 2. La syntaxe en Python\n",
    "---\n",
    "\n",
    "<div class=\"alert\" style=\"color:black; background-color:rgb(255, 214, 220); border-left: 8px solid rgb(255, 50, 80);\">\n",
    "\n",
    "Pour écrire des instructions conditionnelles en Python, il faut utiliser la syntaxe suivante :\n",
    "\n",
    "```python\n",
    "if condition1:\n",
    "\tbloc_instructions_1\n",
    "elif condition2:\n",
    "\tbloc_instructions_2\n",
    "else:\n",
    "\tbloc_instructions_3\n",
    "```\n",
    "    \n",
    "Les mots-clés `if`, `elif` (contraction de *else if*) et `else` sont les traductions respectives de \"si\", \"sinon si\" et \"sinon\".\n",
    "\n",
    "</div>"
   ]
  },
  {
   "cell_type": "markdown",
   "metadata": {},
   "source": [
    "**Remarques importantes** :\n",
    "\n",
    "- ⚠️ Il ne faut pas oublier les deux points (`:`) à la fin des lignes avec `if`, `elif` et `else`\n",
    "- Il est nécessaire de spécifier une condition après les mots clés `if` et `elif`, mais il ne faut pas en donner après le mot clé `else` \n",
    "- Les blocs d'instructions à effectuer selon le cas sont **indentés** (“décalage vers la droite”). Ces indentations sont obligatoires dans la syntaxe Python et se font automatiquement si le `:` n’a pas été oublié.\n",
    "- Les mots clés `elif` et `else` sont optionnels, c'est-à-dire que l’on peut avoir seulement un `if` ou un `if` suivi d'un `else` comme ceci :\n",
    "\n",
    "```python\n",
    "if condition:\n",
    "    bloc_instructions\n",
    "```\n",
    "\n",
    "ou \n",
    "\n",
    "```python\n",
    "if condition:\n",
    "    bloc_instructions_1\n",
    "else:\n",
    "    bloc_instructions_2\n",
    "```\n",
    "\n",
    "- On peut ajouter autant d'instructions `elif` que l'on souhaite (dépend du nombre de cas à considérer)"
   ]
  },
  {
   "cell_type": "markdown",
   "metadata": {},
   "source": [
    "# 🟥 3. À vous de jouer !\n",
    "---"
   ]
  },
  {
   "cell_type": "markdown",
   "metadata": {},
   "source": [
    "<h2 style=\"background-color: rgb(0,161,153); color: white; border-radius: 3px;padding: 10px;\">✏️ Exercice 1 : Retour sur le vainqueur d'un match</h2>\n",
    "  \n",
    "On peut écrire la fonction suivante pour traduire l'algorithme précédent sur le vainqueur d'un match entre deux équipes.\n",
    "\n",
    "```python\n",
    "def gagnant(scoreA, scoreB):\n",
    "    if scoreA > scoreB:\n",
    "    \tvainqueur = \"équipe A\"\n",
    "    elif scoreA < scoreB:\n",
    "    \tvainqueur = \"équipe B\"\n",
    "    else:\n",
    "    \tvainqueur = \"Match nul\"\n",
    "    return vainqueur\n",
    "```\n",
    "\n",
    "\n",
    "✍️ **Question 1** : Inspectez le code de cette fonction pour repérer :\n",
    "\n",
    "- son nom\n",
    "- son nombre de parametres et leurs noms\n",
    "- le nombre de valeurs renvoyées et leurs noms"
   ]
  },
  {
   "cell_type": "raw",
   "metadata": {},
   "source": [
    "Votre réponse (à compléter):\n",
    "\n",
    "- nom : \n",
    "- nombre de parametres et leurs noms : \n",
    "- nombre de valeurs renvoyées et leurs noms : "
   ]
  },
  {
   "cell_type": "markdown",
   "metadata": {},
   "source": [
    "🐍 **Question 2** : Écrivez le code de cette fonction dans la cellule ci-dessous (sans faire de copier-coller !).  \n"
   ]
  },
  {
   "cell_type": "code",
   "execution_count": null,
   "metadata": {},
   "outputs": [],
   "source": [
    "# à vous de jouer !\n"
   ]
  },
  {
   "cell_type": "markdown",
   "metadata": {},
   "source": [
    "<blockquote class=\"alert alert-info\" style=\"background-color:rgb(220,240,255); margin:10px 10%; \">\n",
    " \n",
    "<span style=\"font-size:1.5em\">⚠️</span> N'oubliez pas d'exécuter la cellule ci-dessus pour mémoriser cette fonction et pouvoir l'utiliser par la suite !\n",
    "    \n",
    "</blockquote>\n"
   ]
  },
  {
   "cell_type": "markdown",
   "metadata": {},
   "source": [
    "🐍 **Question 3** : Faites l'appel `gagnant(4, 1)` et vérifiez que la valeur renvoyée est cohérente. "
   ]
  },
  {
   "cell_type": "code",
   "execution_count": null,
   "metadata": {},
   "outputs": [],
   "source": [
    "# à vous de jouer !\n"
   ]
  },
  {
   "cell_type": "markdown",
   "metadata": {},
   "source": [
    "🐍 **Question 4** : L'équipe A a marqué 2 buts et l'équipe B en a marqué 3. Quel appel à la fonction `gagnant` faut-il faire pour connaitre le vainqueur de ce match ? Faites-le et vérifiez !"
   ]
  },
  {
   "cell_type": "code",
   "execution_count": null,
   "metadata": {},
   "outputs": [],
   "source": [
    "# à vous de jouer !\n"
   ]
  },
  {
   "cell_type": "markdown",
   "metadata": {},
   "source": [
    "🐍 **Question 5** : Proposez un appel à la fonction `gagnant` qui renvoie la chaîne de caractères \"Match nul\". Testez-le !"
   ]
  },
  {
   "cell_type": "code",
   "execution_count": null,
   "metadata": {},
   "outputs": [],
   "source": [
    "# à vous de jouer !\n"
   ]
  },
  {
   "cell_type": "markdown",
   "metadata": {},
   "source": [
    "<h2 style=\"background-color: rgb(0,161,153); color: white; border-radius: 3px;padding: 10px;\">✏️ Exercice 2 : Vérifier sa compréhension</h2>\n",
    "\n",
    "Dans cet exercice on propose plusieurs questions pour vérifier votre compréhension des instructions conditionnelles et de la syntaxe du langage Python pour les écrire.\n",
    "\n",
    "Il suffit d'exécuter chacune des cellules suivantes pour faire apparaître la question.\n",
    "\n",
    "🐍 **Question 1**"
   ]
  },
  {
   "cell_type": "code",
   "execution_count": null,
   "metadata": {},
   "outputs": [],
   "source": [
    "from IPython.display import IFrame\n",
    "IFrame('https://www.codepuzzle.io/DQF76', width='100%', height=850)"
   ]
  },
  {
   "cell_type": "markdown",
   "metadata": {},
   "source": [
    "🐍 **Question 2**"
   ]
  },
  {
   "cell_type": "code",
   "execution_count": null,
   "metadata": {},
   "outputs": [],
   "source": [
    "from IPython.display import IFrame\n",
    "IFrame('https://www.codepuzzle.io/IDA4GZ', width='100%', height=900)"
   ]
  },
  {
   "cell_type": "markdown",
   "metadata": {},
   "source": [
    "🐍 **Question 3**"
   ]
  },
  {
   "cell_type": "code",
   "execution_count": null,
   "metadata": {},
   "outputs": [],
   "source": [
    "from IPython.display import IFrame\n",
    "IFrame('https://www.codepuzzle.io/DGLXR', width='100%', height=900)"
   ]
  },
  {
   "cell_type": "markdown",
   "metadata": {},
   "source": [
    "🐍 **Question 4**"
   ]
  },
  {
   "cell_type": "code",
   "execution_count": null,
   "metadata": {},
   "outputs": [],
   "source": [
    "from IPython.display import IFrame\n",
    "IFrame('https://www.codepuzzle.io/IDNZE5', width='100%', height=700)"
   ]
  },
  {
   "cell_type": "markdown",
   "metadata": {},
   "source": [
    "<h2 style=\"background-color: rgb(0,161,153); color: white; border-radius: 3px;padding: 10px;\">✏️ Exercice 3 : Inscription sur un réseau social</h2>\n",
    "\n",
    "<img src=\"https://raw.githubusercontent.com/germainbecker/SNT/master/Capytale/Python/les-instructions-conditionnelles/rs.svg\" alt=\"illustration\" width=\"200\">\n",
    "\n",
    "Pour s’inscrire sur certains réseaux sociaux, il faut avoir au moins 13 ans. On veut écrire une fonction qui indique si un utilisateur peut s’y inscrire en fonction de son âge.\n",
    "\n",
    "La fonction `age_requis` a pour paramètre l'`age` d’un utilisateur et renvoie `True` (= Vrai) s’il peut s’inscrire sur le réseau social en question, et `False` (= Faux) si ce n’est pas le cas.\n",
    "\n",
    "🐍 **Question 1** : Exécutez la cellule suivante et complétez le code de la fonction `age_requis` et vérifiez votre proposition."
   ]
  },
  {
   "cell_type": "code",
   "execution_count": null,
   "metadata": {
    "scrolled": true
   },
   "outputs": [],
   "source": [
    "from IPython.display import IFrame\n",
    "IFrame('https://www.codepuzzle.io/IDYDRB', width='100%', height=900)"
   ]
  },
  {
   "cell_type": "markdown",
   "metadata": {},
   "source": [
    "🐍 **Question 2** : Copiez le code correct de la fonction `age_requis` dans la cellule ci-dessous et exécutez-là pour mémoriser cette fonction."
   ]
  },
  {
   "cell_type": "code",
   "execution_count": null,
   "metadata": {},
   "outputs": [],
   "source": [
    "# code à recopier ici \n"
   ]
  },
  {
   "cell_type": "markdown",
   "metadata": {},
   "source": [
    "🐍 **Question 3** : Testez la fonction avec un appel renvoyant la valeur `True` et un appel renvoyant la valeur `False`."
   ]
  },
  {
   "cell_type": "code",
   "execution_count": null,
   "metadata": {},
   "outputs": [],
   "source": [
    "# à vous de jouer !\n"
   ]
  },
  {
   "cell_type": "code",
   "execution_count": null,
   "metadata": {},
   "outputs": [],
   "source": [
    "# à vous de jouer !\n"
   ]
  },
  {
   "cell_type": "markdown",
   "metadata": {},
   "source": [
    "<h2 style=\"background-color: rgb(0,161,153); color: white; border-radius: 3px;padding: 10px;\">✏️ Exercice 4 : Application de fitness</h2>\n",
    "\n",
    "<blockquote class=\"alert alert-info\" style=\"background-color:rgb(220,240,255); margin:10px 10%; \">\n",
    " \n",
    "**Crédits** :  Cet exercice est grandement inspiré du travail proposé par Franck Chevrier sur son site python-lycee.com. Activité d'origine : [https://www.python-lycee.com/parcours-apprentissage-pl3](https://www.python-lycee.com/parcours-apprentissage-pl3)\n",
    "    \n",
    "</blockquote>\n",
    "\n",
    "<img src=\"https://raw.githubusercontent.com/germainbecker/SNT/master/Capytale/Python/les-instructions-conditionnelles/fitness.svg\" alt=\"illustration\" width=\"200\">\n",
    "\n"
   ]
  },
  {
   "cell_type": "markdown",
   "metadata": {},
   "source": [
    "Les applications de fitness permettent de calculer l’Indice de Masse Corporelle (IMC) de l’utilisateur. Celui-ci se calcule avec la formule : \n",
    "\n",
    "$$\\text{IMC}=\\frac{\\text{masse}}{\\text{taille}^2}$$\n",
    "\n",
    "\n",
    "où la masse est exprimée en kg et la taille en mètre.\n",
    "\n",
    "La fonction `imc` suivante permet de calculer et renvoyer l'IMC d'une personne :"
   ]
  },
  {
   "cell_type": "code",
   "execution_count": null,
   "metadata": {},
   "outputs": [],
   "source": [
    "def imc(masse, taille):\n",
    "    indice = masse / (taille ** 2)\n",
    "    return indice"
   ]
  },
  {
   "cell_type": "markdown",
   "metadata": {},
   "source": [
    "🐍 **Question 1** : Testez la fonction `imc` pour les 3 personnes présentées (il faut faire les bons appels).\n",
    "\n",
    "![3 individus](https://raw.githubusercontent.com/germainbecker/SNT/master/Capytale/Python/les-instructions-conditionnelles/imc_individus.png)"
   ]
  },
  {
   "cell_type": "code",
   "execution_count": null,
   "metadata": {},
   "outputs": [],
   "source": [
    "# à vous de jouer !\n"
   ]
  },
  {
   "cell_type": "code",
   "execution_count": null,
   "metadata": {},
   "outputs": [],
   "source": [
    "# à vous de jouer !\n"
   ]
  },
  {
   "cell_type": "code",
   "execution_count": null,
   "metadata": {},
   "outputs": [],
   "source": [
    "# à vous de jouer !\n"
   ]
  },
  {
   "cell_type": "markdown",
   "metadata": {},
   "source": [
    "🐍 **Question 2** : On considère que l'IMC d'un individu est dans la norme s'il est compris entre 18.5 et 25. On veut écrire une fonction `diagnostic` qui permet de renvoyer un message indiquant si un individu possède un IMC dans la norme ou non."
   ]
  },
  {
   "cell_type": "code",
   "execution_count": null,
   "metadata": {},
   "outputs": [],
   "source": [
    "from IPython.display import IFrame\n",
    "IFrame('https://www.codepuzzle.io/IPBCNW', width='100%', height=600)"
   ]
  },
  {
   "cell_type": "markdown",
   "metadata": {},
   "source": [
    "🐍 **Question 3** : Une fois le code bien ordonné, copiez le code de la fonction `diagnostic` dans la cellule ci-dessous. Testez ensuite cette fonction pour les 3 personnages."
   ]
  },
  {
   "cell_type": "code",
   "execution_count": null,
   "metadata": {},
   "outputs": [],
   "source": [
    "# recopier le code de la fonction ici\n"
   ]
  },
  {
   "cell_type": "code",
   "execution_count": null,
   "metadata": {},
   "outputs": [],
   "source": [
    "# test pour Alice\n"
   ]
  },
  {
   "cell_type": "code",
   "execution_count": null,
   "metadata": {},
   "outputs": [],
   "source": [
    "# test pour Barnabé\n"
   ]
  },
  {
   "cell_type": "code",
   "execution_count": null,
   "metadata": {},
   "outputs": [],
   "source": [
    "# test pour Corentin\n"
   ]
  },
  {
   "cell_type": "markdown",
   "metadata": {},
   "source": [
    "🐍 **Question 4** : Adaptez la fonction Python `diagnostic` pour obtenir une analyse plus précise, en tenant compte de la grille de lecture ci-dessous.\n",
    "\n",
    "![diagnostic imc](https://raw.githubusercontent.com/germainbecker/SNT/master/Capytale/Python/les-instructions-conditionnelles/imc_diagnostic.png)\n",
    "\n",
    "<blockquote class=\"alert alert-info\" style=\"background-color:rgb(220,240,255); margin:10px 10%; \">\n",
    " \n",
    "<span style=\"font-size:1.5em\">🆘</span> Inspirez-vous de la fonction `gagnant` et regardez dans le tableau donné au départ pour voir la bonne syntaxe pour écrire des inégalités.</span> \n",
    "    \n",
    "</blockquote>"
   ]
  },
  {
   "cell_type": "code",
   "execution_count": null,
   "metadata": {},
   "outputs": [],
   "source": [
    "# à vous de jouer !\n"
   ]
  },
  {
   "cell_type": "markdown",
   "metadata": {},
   "source": [
    "🐍 **Question 5** : Testez la nouvelle fonction `diagnostic` pour les 3 personnages précédents."
   ]
  },
  {
   "cell_type": "code",
   "execution_count": null,
   "metadata": {},
   "outputs": [],
   "source": [
    "# test pour Alice\n"
   ]
  },
  {
   "cell_type": "code",
   "execution_count": null,
   "metadata": {},
   "outputs": [],
   "source": [
    "# test pour Barnabé\n"
   ]
  },
  {
   "cell_type": "code",
   "execution_count": null,
   "metadata": {},
   "outputs": [],
   "source": [
    "# test pour Corentin\n"
   ]
  },
  {
   "cell_type": "markdown",
   "metadata": {},
   "source": [
    "<h2 style=\"background-color: rgb(0,161,153); color: white; border-radius: 3px;padding: 10px;\">✏️ Exercice 5 : Alien Python - Dessiner un parcours</h2>"
   ]
  },
  {
   "cell_type": "markdown",
   "metadata": {},
   "source": [
    "**⚠️ N'oubliez pas d'exécuter la cellule ci-dessous avant de poursuivre ! ⚠️**"
   ]
  },
  {
   "cell_type": "code",
   "execution_count": null,
   "metadata": {},
   "outputs": [],
   "source": [
    "from alien_python import *"
   ]
  },
  {
   "cell_type": "markdown",
   "metadata": {},
   "source": [
    "><span style=\"font-size:1.5em\">📣</span> Pour les questions de cet exercice, exécutez le programme donné puis dessinez le parcours de l'alien en cliquant sur les différentes positions parcourues. Vous pouvez annuler la dernière position en cliquant dessus.\n",
    "\n",
    "🐍 **Question 1**"
   ]
  },
  {
   "cell_type": "code",
   "execution_count": null,
   "metadata": {},
   "outputs": [],
   "source": [
    "centrer_alien()  # l'alien est au départ en case H8\n",
    "\n",
    "a = 2\n",
    "b = 3\n",
    "gauche(a)\n",
    "bas(b)\n",
    "if a < b:\n",
    "    droite(b)\n",
    "else:\n",
    "    haut(b)\n",
    "haut(2*a)\n",
    "\n",
    "dessiner_parcours()"
   ]
  },
  {
   "cell_type": "markdown",
   "metadata": {},
   "source": [
    "🐍 **Question 2**"
   ]
  },
  {
   "cell_type": "code",
   "execution_count": null,
   "metadata": {},
   "outputs": [],
   "source": [
    "centrer_alien()\n",
    "\n",
    "a = 10\n",
    "b = 7\n",
    "\n",
    "haut(4)\n",
    "if a > b :\n",
    "    droite(6)\n",
    "    bas(3)\n",
    "gauche(3)\n",
    "if a < b :\n",
    "    haut(2)\n",
    "gauche(2)\n",
    "\n",
    "dessiner_parcours()"
   ]
  },
  {
   "cell_type": "markdown",
   "metadata": {},
   "source": [
    "🐍 **Question 3**"
   ]
  },
  {
   "cell_type": "code",
   "execution_count": null,
   "metadata": {},
   "outputs": [],
   "source": [
    "centrer_alien()\n",
    "\n",
    "a = 5\n",
    "b = 2\n",
    "if a < b:\n",
    "    droite(a)\n",
    "    bas(a + b)\n",
    "else:\n",
    "    gauche(a)\n",
    "    haut(a + b)\n",
    "\n",
    "dessiner_parcours()"
   ]
  },
  {
   "cell_type": "markdown",
   "metadata": {},
   "source": [
    "🐍 **Question 4**"
   ]
  },
  {
   "cell_type": "code",
   "execution_count": null,
   "metadata": {},
   "outputs": [],
   "source": [
    "centrer_alien()\n",
    "\n",
    "a = 1\n",
    "b = 2\n",
    "droite(a + b)\n",
    "if a < b:\n",
    "    haut(a)\n",
    "    gauche(b)\n",
    "    b = 5\n",
    "else:\n",
    "    b = b + 1\n",
    "    haut(b)\n",
    "bas(b)\n",
    "\n",
    "dessiner_parcours()"
   ]
  },
  {
   "cell_type": "markdown",
   "metadata": {},
   "source": [
    "🐍 **Question 5**"
   ]
  },
  {
   "cell_type": "code",
   "execution_count": null,
   "metadata": {},
   "outputs": [],
   "source": [
    "centrer_alien()\n",
    "\n",
    "a = 1\n",
    "b = 2\n",
    "c = 5\n",
    "gauche(c - a - b)\n",
    "if a > b:\n",
    "    haut(a)\n",
    "    gauche(a + b)\n",
    "elif c <= a:\n",
    "    haut(c)\n",
    "    bas(c - a)\n",
    "else:\n",
    "    b = 2 * b\n",
    "    haut(b + 2)\n",
    "\n",
    "dessiner_parcours()"
   ]
  },
  {
   "cell_type": "markdown",
   "metadata": {},
   "source": [
    "<h2 style=\"background-color: rgb(0,161,153); color: white; border-radius: 3px;padding: 10px;\">✏️ Exercice 6 : Alien Python - Compléter un programme</h2>\n",
    "\n",
    "><span style=\"font-size:1.5em\">📣</span> Pour les questions de cet exercice, complétez chaque programme en remplaçant les pointillés par les bonnes valeurs afin d'obtenir le déplacement donné. Puis exécutez le programme pour vérifier s'il est correct."
   ]
  },
  {
   "cell_type": "markdown",
   "metadata": {},
   "source": [
    "**⚠️ N'oubliez pas d'exécuter la cellule ci-dessous avant de poursuivre ! ⚠️**"
   ]
  },
  {
   "cell_type": "code",
   "execution_count": null,
   "metadata": {},
   "outputs": [],
   "source": [
    "from alien_python import *"
   ]
  },
  {
   "attachments": {},
   "cell_type": "markdown",
   "metadata": {},
   "source": [
    "🐍 **Question 1**\n",
    "\n",
    "Voici le déplacement à obtenir (les numéros correspondent aux différentes étapes) :\n",
    "\n",
    "![deplacement](https://raw.githubusercontent.com/germainbecker/SNT/master/Capytale/Python/les-instructions-conditionnelles/instructions_conditionnelles.png)"
   ]
  },
  {
   "cell_type": "code",
   "execution_count": null,
   "metadata": {},
   "outputs": [],
   "source": [
    "centrer_alien()\n",
    "\n",
    "a = 8\n",
    "b = 10\n",
    "c = ...\n",
    "d = ...\n",
    "gauche(...)\n",
    "if a < b :\n",
    "    e = c - 2\n",
    "else :\n",
    "    e = c - 3\n",
    "haut(e)\n",
    "droite(a)\n",
    "if a > b :\n",
    "    f = d + 3\n",
    "else :\n",
    "    f = d + 6\n",
    "bas(f)\n",
    "droite(...)\n",
    "\n",
    "verifier_programme(['H8', 'H3', 'F3', 'F11', 'N11', 'N13'])"
   ]
  },
  {
   "cell_type": "code",
   "execution_count": null,
   "metadata": {},
   "outputs": [],
   "source": []
  },
  {
   "attachments": {},
   "cell_type": "markdown",
   "metadata": {},
   "source": [
    "🐍 **Question 2**\n",
    "\n",
    "Voici le déplacement à obtenir (les numéros correspondent aux différentes étapes) :\n",
    "\n",
    "![deplacement](https://raw.githubusercontent.com/germainbecker/SNT/master/Capytale/Python/les-instructions-conditionnelles//instructions_conditionnelles_2.png)"
   ]
  },
  {
   "cell_type": "code",
   "execution_count": null,
   "metadata": {},
   "outputs": [],
   "source": [
    "centrer_alien()\n",
    "\n",
    "a = ...\n",
    "b = ...\n",
    "gauche(a)\n",
    "... a < b:\n",
    "    bas(b)\n",
    "...:\n",
    "    haut(b)\n",
    "droite(a)\n",
    "\n",
    "verifier_programme(['H8', 'H6', 'M6', 'M8'])"
   ]
  },
  {
   "attachments": {},
   "cell_type": "markdown",
   "metadata": {},
   "source": [
    "🐍 **Question 3**\n",
    "\n",
    "Voici le déplacement à obtenir (les numéros correspondent aux différentes étapes) :\n",
    "\n",
    "![deplacement](https://raw.githubusercontent.com/germainbecker/SNT/master/Capytale/Python/les-instructions-conditionnelles/instructions_conditionnelles_3.png)"
   ]
  },
  {
   "cell_type": "code",
   "execution_count": null,
   "metadata": {},
   "outputs": [],
   "source": [
    "centrer_alien()\n",
    "\n",
    "a = ...\n",
    "gauche(...)\n",
    "if a < 4:\n",
    "    bas(5)\n",
    "    if a > 2 :\n",
    "        droite(2)\n",
    "    haut(2)\n",
    "droite(2)\n",
    "\n",
    "verifier_programme(['H8', 'H4', 'M4', 'M6', 'K6', 'K8'])"
   ]
  },
  {
   "cell_type": "markdown",
   "metadata": {},
   "source": [
    "<h2 style=\"background-color: rgb(0,161,153); color: white; border-radius: 3px;padding: 10px;\">✏️ Exercice 7 (Bonus) : Mention au bac</h2>\n",
    "\n",
    "<img src=\"https://raw.githubusercontent.com/germainbecker/SNT/master/Capytale/Python/les-instructions-conditionnelles/diplome.svg\" alt=\"illustration\" width=\"200\">\n",
    "\n",
    "\n",
    "On veut écrire une fonction Python `mention_bac` qui prend en paramètre la moyenne `moy` d’un élève au baccalauréat et qui renvoie selon les cas une chaîne de caractères : \"Sans mention\", \"Assez bien\", ... selon le tableau suivant :\n",
    "\n",
    "\n",
    "| Moyenne | Mention |\n",
    "| --- | --- |\n",
    "| $$[0;8[$$ | Recalé |\n",
    "| $$[8;10[$$ | Rattrapage |\n",
    "| $$[10,12[$$ | Sans mention |\n",
    "| $$[12;14[$$ | Assez bien |\n",
    "| $$[14;16[$$ | Bien |\n",
    "| $$[16;18[$$ | Très bien |\n",
    "| $$[18;20]$$ | Félicitations |\n",
    "\n",
    "Exemples :\n",
    "\n",
    "```python\n",
    ">>> mention_bac(13.4)\n",
    "'Assez bien'\n",
    ">>> mention_bac(8)\n",
    "'Rattrapage'\n",
    "```\n",
    "\n",
    "🐍 **Question** : Écrivez cette fonction `mention_bac` et testez-là dans tous les cas de figure."
   ]
  },
  {
   "cell_type": "code",
   "execution_count": null,
   "metadata": {},
   "outputs": [],
   "source": [
    "# à vous de jouer !\n"
   ]
  },
  {
   "cell_type": "markdown",
   "metadata": {},
   "source": [
    "<h2 style=\"background-color: rgb(0,161,153); color: white; border-radius: 3px;padding: 10px;\">✏️ Exercice 8 (Bonus) : Combiner des conditions</h2>\n",
    "\n",
    "Parfois il est nécessaire de combiner plusieurs conditions dans un test.\n",
    "\n",
    "**Exemple** : à la faculté, pour valider son semestre il est parfois nécessaire d’obtenir au moins la moyenne (soit 10/20) dans **toutes** les matières. De manière simplifiée, on suppose ici qu’il n’y a que trois matières (A, B et C). Ainsi, à la fin de l’algorithme suivant, la variable `resultat` vaut `True` si le semestre est validé et `False` sinon.\n",
    "\n",
    "```\n",
    "si noteA >= 10 et noteB >= 10 et noteC >= 10 alors\n",
    "    valide = True\n",
    "sinon\n",
    "    valide = False\n",
    "```"
   ]
  },
  {
   "cell_type": "markdown",
   "metadata": {},
   "source": [
    "Il est nécessaire que les trois conditions `noteA >= 10`, `noteB >= 10` et `noteC >= 10` soient vraies pour que le trimestre soit validé.\n",
    "\n",
    "En Python, on utilise le mot clé `and` pour traduire le \"et\" et le mot clé `or` pour traduire le \"ou\".\n",
    "\n",
    "| Condition | Syntaxe Python | Interprétation |\n",
    "| --- | --- | --- |\n",
    "| condition1 et condition2 | `condition1 and condition2` | est vraie si les deux conditions sont vraies |\n",
    "| condition1 ou condition2 | `condition1 or condition2` | est vraie si au moins l'une des deux conditions est vraie |\n"
   ]
  },
  {
   "cell_type": "markdown",
   "metadata": {},
   "source": [
    "<blockquote class=\"alert alert-info\" style=\"background-color:rgb(220,240,255); margin:10px 10%; \">\n",
    " \n",
    "<span style=\"font-size:1.5em\">🧐</span> On peut combiner autant de conditions que l'on souhaite dans un test. \n",
    "    \n",
    "</blockquote>"
   ]
  },
  {
   "cell_type": "markdown",
   "metadata": {},
   "source": [
    "🐍 **Question 1** : On veut écrire une fonction `semestre_valide` qui possède les trois notes en paramètres et qui renvoie `True` si le semestre est validé et `False` sinon.  \n",
    "Mettez dans la zone jaune et dans le bon ordre les lignes de code de la fonction. Il faut bien respecter les indentations. Attention, certaines instructions sont fausses et donc inutiles, elles sont à laisser dans la partie sur fond gris. Cliquez ensuite sur le bouton pour vérifier."
   ]
  },
  {
   "cell_type": "code",
   "execution_count": null,
   "metadata": {
    "scrolled": true
   },
   "outputs": [],
   "source": [
    "from IPython.display import IFrame\n",
    "IFrame('https://www.codepuzzle.io/IPMSWZ', width='100%', height=800)"
   ]
  },
  {
   "cell_type": "markdown",
   "metadata": {},
   "source": [
    "🐍 **Question 2** : Une fois le code bien ordonné, copiez le code de la fonction `semestre_valide` ci-dessous et testez ensuite cette fonction en veillant à tester les différents cas de figure."
   ]
  },
  {
   "cell_type": "code",
   "execution_count": null,
   "metadata": {},
   "outputs": [],
   "source": [
    "# à vous de jouer !\n"
   ]
  },
  {
   "cell_type": "markdown",
   "metadata": {},
   "source": [
    "---\n",
    "**Références** :\n",
    "- L'exercice 4 est grandement inspiré du travail proposé par Franck Chevrier sur son site python-lycee.com. Activité d'origine : [https://www.python-lycee.com/parcours-apprentissage-pl3](https://www.python-lycee.com/parcours-apprentissage-pl3)\n",
    "\n",
    "\n",
    "---\n",
    "Les enseignants de SNT du lycée Emmanuel Mounier, ANGERS \n",
    "\n",
    "![Licence Creative Commons](https://i.creativecommons.org/l/by-sa/4.0/88x31.png)"
   ]
  }
 ],
 "metadata": {
  "kernelspec": {
   "display_name": "Python 3",
   "language": "python",
   "name": "python3"
  },
  "language_info": {
   "codemirror_mode": {
    "name": "ipython",
    "version": 3
   },
   "file_extension": ".py",
   "mimetype": "text/x-python",
   "name": "python",
   "nbconvert_exporter": "python",
   "pygments_lexer": "ipython3",
   "version": "3.7.10"
  }
 },
 "nbformat": 4,
 "nbformat_minor": 2
}
