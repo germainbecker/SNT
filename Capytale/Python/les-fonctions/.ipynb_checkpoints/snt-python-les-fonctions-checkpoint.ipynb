{
 "cells": [
  {
   "cell_type": "markdown",
   "metadata": {},
   "source": [
    "<div style=\"margin-left: auto; margin-right: auto; background-color: rgb(0,161,153); color: white; padding: 10px;\">\n",
    "    <span><strong>SNT / Programmation Python / Séance 2</strong></span>\n",
    "    <h1 style=\"font-size:3em;padding-bottom:30px; text-align:center\">Les fonctions</h1>\n",
    "</div>"
   ]
  },
  {
   "cell_type": "markdown",
   "metadata": {},
   "source": [
    "# 🟥 1. Introduction\n",
    "---\n",
    "\n",
    "<div class=\"alert\" style=\"color:black; background-color:rgb(255, 214, 220); border-left: 8px solid rgb(255, 50, 80);\">\n",
    "\n",
    "Dans un langage de programmation, on utilise ce qu'on appelle des **fonctions**. Une fonction est un ensemble d'instructions qui peut recevoir des **paramètres** (qui sont des *valeurs* ou des *variables*) et qui peut **renvoyer le contenu d'une ou plusieurs variables**.\n",
    "\n",
    "</div>"
   ]
  },
  {
   "cell_type": "markdown",
   "metadata": {},
   "source": [
    "<blockquote class=\"alert alert-info\" style=\"background-color:rgb(220,240,255); margin:10px 10%; \">\n",
    " \n",
    "<span style=\"font-size:1.5em\">❔</span> **Pourquoi utilise-t-on le mot _fonction_ ?**\n",
    "    \n",
    "Par analogie, on utilise le même terme qu'en mathématiques car le principe est identique puisqu'une fonction mathématique reçoit aussi des paramètres et renvoie des valeurs.\n",
    "\n",
    "</blockquote>\n"
   ]
  },
  {
   "cell_type": "markdown",
   "metadata": {},
   "source": [
    "## Premier exemple\n",
    "\n",
    "**Exemple 1** : Prenons la fonction mathématique $f$ définie par $f(x) = 2x +1$. Celle-ci reçoit un paramètre (ici $x$) et renvoie une valeur (ici $2x+1$). Cette fonction mathématique $f$ s'écrirait en la fonction Python suivante.\n",
    "\n",
    "```python\n",
    "def f(x):\n",
    "    return 2 * x + 1\n",
    "```\n",
    "\n",
    "Les fonctions (en programmation) ne servent pas qu'à faire des mathématiques, loin de là, et sont énormément utilisées, partout, tout le temps."
   ]
  },
  {
   "cell_type": "markdown",
   "metadata": {},
   "source": [
    "## Syntaxe d'une fonction Python\n",
    "\n",
    "<div class=\"alert\" style=\"color:black; background-color:rgb(255, 214, 220); border-left: 8px solid rgb(255, 50, 80);\">\n",
    "\n",
    "Une fonction Python a la syntaxe suivante :\n",
    "\n",
    "```python\n",
    "def nom_fonction(parametre1, parametre2, etc.):\n",
    "    instruction1\n",
    "    instruction2\n",
    "    ...\n",
    "    return valeur_renvoyee_1, valeur_renvoyee_2, etc.\n",
    "```\n",
    "\n",
    "</div>\n",
    "\n",
    "**Analyse** :\n",
    "\n",
    "-   Le mot clé `def` annonce que l'on va écrire une fonction ;\n",
    "-   On commence par écrire le **nom** de notre fonction ;\n",
    "-   Ensuite, entre parenthèses, on écrit ses **paramètres** séparés par des virgules (il se peut qu'une fonction ne possède pas de paramètres, auquel cas on écrit tout de même les parenthèses mais avec rien entre elles) ;\n",
    "-   On termine la ligne par un deux points (`:`) ;\n",
    "-   On **indente** et écrit toutes les **instructions** devant être exécutées par la fonction : toutes les lignes indentées correspondent au _bloc d'instructions_ ;\n",
    "-   Enfin, le bloc d'instruction se termine généralement par le mot clé `return` qui permet de **renvoyer** le contenu d'une ou plusieurs variables (séparées par des virgules s'il y en a plusieurs)\n",
    "\n",
    "Pour fixer les idées, prenons un exemple concret.\n"
   ]
  },
  {
   "cell_type": "markdown",
   "metadata": {},
   "source": [
    "## Deuxième exemple\n",
    "\n",
    "**Exemple 2**\n",
    "\n",
    "<img src=\"https://raw.githubusercontent.com/germainbecker/SNT/master/Capytale/Python/les-fonctions/farine.png\" alt=\"vente en ligne\" width=\"300\">\n",
    "\n",
    "Sur un site de vente en ligne, il est possible de modifier la quantité du produit que l'on souhaite acheter (souvent avec des boutons \"+\" et \"-\"). Prenons l'exemple d'un paquet de farine bio coûtant 1,15 €. À chaque clic sur un des boutons \"+\" ou \"-\", une fonction est chargée de calculer le prix à afficher à l'écran _en fonction de_ la quantité sélectionnée par l'acheteur. Cette fonction pourrait être définie en Python de la façon suivante.\n",
    "\n",
    "```python\n",
    "def prix_a_afficher(quantite):\n",
    "    prix = 1.15 * quantite\n",
    "    return prix\n",
    "```"
   ]
  },
  {
   "cell_type": "markdown",
   "metadata": {},
   "source": [
    "<h2 style=\"background-color: rgb(0,161,153); color: white; border-radius: 3px;padding: 10px;\">✏️ Activité 1 : Maîtriser le vocabulaire</h2>\n",
    "  \n",
    "✍️ **Question** : Inspectez le code de cette fonction pour repérer :\n",
    "\n",
    "- son nom\n",
    "- son nombre de parametres et leurs noms\n",
    "- son bloc d'instructions\n",
    "- le nombre de valeurs renvoyées et leurs noms\n",
    "\n",
    "```python\n",
    "def prix_a_afficher(quantite):\n",
    "    prix = 1.15 * quantite\n",
    "    return prix\n",
    "```\n",
    "\n",
    "> <span style=\"font-size:1.5em\">🆘</span> N'hésitez pas à bien relire le paragraphe [Syntaxe d'une fonction Python](#Syntaxe-d'une-fonction-Python) pour répondre.\n",
    "</div>"
   ]
  },
  {
   "cell_type": "raw",
   "metadata": {},
   "source": [
    "Votre réponse (à compléter):\n",
    "\n",
    "- nom : \n",
    "- nombre de parametres et leurs noms : \n",
    "- bloc d'instructions : \n",
    "- nombre de valeurs renvoyées et leurs noms : "
   ]
  },
  {
   "cell_type": "markdown",
   "metadata": {},
   "source": [
    "# 🟥 2. Écrire et appeler une fonction\n",
    "---\n",
    "\n",
    "Lorsqu'une fonction est écrite, on peut exécuter son code mais il ne se passera rien à l'écran car cela permet juste de mémoriser la fonction, autrement dit d'enregistrer en mémoire ce que doit faire la fonction. \n",
    "\n",
    "Pour utiliser une fonction et exécuter son bloc d'instructions, il faut l'**appeler** pour connaître la valeur qu'elle renvoie, c'est ce que l'on propose dans l'activité qui suit."
   ]
  },
  {
   "cell_type": "markdown",
   "metadata": {},
   "source": [
    "<h2 style=\"background-color: rgb(0,161,153); color: white; border-radius: 3px;padding: 10px;\">✏️ Activité 2 : Écrire et appeler une fonction</h2>\n",
    "  \n",
    "**Commencez par exécuter la cellule suivante et regardez la vidéo qui explique comment écrire et appeler une fonction, à la fois dans un notebook et dans un éditeur de code.**"
   ]
  },
  {
   "cell_type": "code",
   "execution_count": null,
   "metadata": {},
   "outputs": [],
   "source": [
    "from IPython.display import HTML\n",
    "HTML(\"\"\"<iframe width=\"560\" height=\"315\" src=\"https://www.youtube-nocookie.com/embed/WzF7PqUCzm8\" title=\"YouTube video player\" frameborder=\"0\" allow=\"accelerometer; autoplay; clipboard-write; encrypted-media; gyroscope; picture-in-picture\" allowfullscreen></iframe>\"\"\")"
   ]
  },
  {
   "cell_type": "markdown",
   "metadata": {},
   "source": [
    "🐍 **Question 1 (dans le notebook)** : Recopiez dans la cellule ci-dessous tout le code de la fonction `prix_a_afficher` que l'on rappelle ci-dessous (sans faire de copier-coller, c'est pour apprendre). *Faites attention à ne pas oublier les deux-points à la fin de la première ligne et à respecter les indentations !*\n",
    "\n",
    "```python\n",
    "def prix_a_afficher(quantite):\n",
    "    prix = 1.15 * quantite\n",
    "    return prix\n",
    "```"
   ]
  },
  {
   "cell_type": "code",
   "execution_count": null,
   "metadata": {},
   "outputs": [],
   "source": [
    "# à vous de jouer !\n"
   ]
  },
  {
   "cell_type": "markdown",
   "metadata": {},
   "source": [
    "🐍 **Question 2** : Appelez la fonction `prix_a_afficher` pour connaître le prix total affiché si on sélectionne 5 paquets de farine, puis si on en sélectionne 2 paquets de farine. "
   ]
  },
  {
   "cell_type": "code",
   "execution_count": null,
   "metadata": {},
   "outputs": [],
   "source": [
    "# à vous de jouer ! (pour 5 paquets)\n"
   ]
  },
  {
   "cell_type": "code",
   "execution_count": null,
   "metadata": {},
   "outputs": [],
   "source": [
    "# à vous de jouer ! (pour 2 paquets)\n"
   ]
  },
  {
   "cell_type": "markdown",
   "metadata": {},
   "source": [
    "Comme indiqué dans la vidéo, dans un éditeur de code c'est un peu différent : on écrit le code de la fonction dans la zone d'édition (à gauche dans Basthon) et on l'appelle dans la console (à droite dans Basthon).\n",
    "\n",
    "🐍 **Question 3 (dans un éditeur de code)** : Lancez l'éditeur Basthon en cliquant sur ce lien [https://console.basthon.fr/](https://console.basthon.fr/) puis recopiez dans la zone de gauche le code de la fonction `prix_a_afficher`.\n",
    "\n",
    "🐍 **Question 4 (dans un éditeur de code)** : Exécutez le code de cette fonction dans l'éditeur Basthon puis appelez la fonction dans la console (à droite) pour connaître le prix total affiché si on sélectionne 5 paquets de farine puis si on en sélectionne 2."
   ]
  },
  {
   "cell_type": "markdown",
   "metadata": {},
   "source": [
    "<h2 style=\"background-color: rgb(0,161,153); color: white; border-radius: 3px;padding: 10px;\">✏️ Activité 3 : Définition d'une image</h2>\n",
    "\n",
    "<img src=\"https://cdn.pixabay.com/photo/2016/11/21/22/57/heart-1847868_960_720.png\" alt=\"illustration\" width=\"400\">\n",
    "\n",
    "<p style=\"text-align:center\">Crédit : <a href=\"https://pixabay.com/fr/vectors/c%c5%93ur-pixels-carr%c3%a9-amour-rouge-1847868/\">Pixabay</a></p>"
   ]
  },
  {
   "cell_type": "markdown",
   "metadata": {},
   "source": [
    "Une image numérique est constituée de **pixels**. Le nombre total de pixels composant une image s'appelle la **définition de l'image**.  \n",
    "Par exemple, une image de 800 pixels en largeur et 600 pixels en hauteur a une définition égale à 800 x 600 = 480 000 pixels.\n",
    "\n",
    "✍️ **Question 1** : Calculer à la main la définition de l'image d'illustration ci-dessus (on supposera que chaque carré colorié correspond à 1 pixel)."
   ]
  },
  {
   "cell_type": "raw",
   "metadata": {},
   "source": [
    "Votre réponse : "
   ]
  },
  {
   "cell_type": "markdown",
   "metadata": {},
   "source": [
    "🐍 **Question 2** : On veut écrire une fonction appelée `definition_image` qui possède deux paramètres `L` et `H` correspondant aux nombres de pixels en largeur et en hauteur de l'image. Cette fonction doit calculer et renvoyer la définition de cette image.  \n",
    "Complétez la fonction ci-dessous (vous remplacerez les pointillés)."
   ]
  },
  {
   "cell_type": "code",
   "execution_count": null,
   "metadata": {},
   "outputs": [],
   "source": [
    "def definition_image(L, ...):\n",
    "    d = ... * ...\n",
    "    return ..."
   ]
  },
  {
   "cell_type": "markdown",
   "metadata": {},
   "source": [
    "🐍 **Question 3** : Appelez cette fonction pour connaître la définition d'un image de 800\\*600 pixels."
   ]
  },
  {
   "cell_type": "code",
   "execution_count": null,
   "metadata": {},
   "outputs": [],
   "source": [
    "# à vous de jouer !\n"
   ]
  },
  {
   "cell_type": "markdown",
   "metadata": {},
   "source": [
    "🐍 **Question 4** : Appelez cette fonction pour connaître la définition de l'image d'illustration ci-dessus. Vous comparerez la valeur renvoyée avec votre réponse à la question 1."
   ]
  },
  {
   "cell_type": "code",
   "execution_count": null,
   "metadata": {},
   "outputs": [],
   "source": [
    "# à vous de jouer !\n"
   ]
  },
  {
   "cell_type": "markdown",
   "metadata": {},
   "source": [
    "🐍 **Question 5** : Lancez l'éditeur Basthon ([https://console.basthon.fr/](https://console.basthon.fr/)) puis recopiez, exécutez et appelez cette fonction pour retrouver les résultats aux questions 3 et 4."
   ]
  },
  {
   "cell_type": "markdown",
   "metadata": {},
   "source": [
    "<h2 style=\"background-color: rgb(0,161,153); color: white; border-radius: 3px;padding: 10px;\">✏️ Activité 4 : Dessiner avec la tortue</h2>\n",
    "\n",
    "<img src=\"https://upload.wikimedia.org/wikipedia/commons/3/3d/Turtle-animation.gif?20181216174412\" alt=\"illustration\">\n",
    "\n",
    "<p style=\"text-align:center\">Crédit : <a href=\"https://commons.wikimedia.org/wiki/File:Turtle-animation.gif\">Cormullion</a>, <a href=\"https://creativecommons.org/licenses/by-sa/4.0\">CC BY-SA 4.0</a>, via Wikimedia Commons.</p>\n",
    "\n",
    "Dans Scratch, on trouve quelques *blocs* de base, pour avancer ou faire tourner le chat :\n",
    "\n",
    "![illustration](https://raw.githubusercontent.com/germainbecker/SNT/master/Capytale/Python/les-fonctions/scratch_avancer.png)\n",
    "![illustration](https://raw.githubusercontent.com/germainbecker/SNT/master/Capytale/Python/les-fonctions/scratch_tourner_droite.png)\n",
    "![illustration](https://raw.githubusercontent.com/germainbecker/SNT/master/Capytale/Python/les-fonctions/scratch_tourner_gauche.png)\n",
    "\n",
    "Cela permettait, entre autres, de faire dessiner le chat (ou le lutin).\n",
    "\n",
    "En Python, on peut utiliser le module `turtle` (= tortue en français) pour dessiner. Avec ce module, les équivalents des blocs de base précédents sont les **fonctions** `forward`, `right` et `left`, qui permettent de faire avancer ou tourner une tortue :\n",
    "\n",
    "* `forward(x)` pour faire avancer de `x` pixels\n",
    "* `right(a)` pour faire tourner de `a` degrés vers la droite\n",
    "* `left(a)` pour faire tourner de `a` degrés vers la gauche\n",
    "\n",
    "Pour dessiner, on appelle ces fonctions les unes à la suite des autres avec les paramètres souhaités (c'est l’équivalent d’imbriquer les blocs les uns à la suite des autres avec Scratch)\n",
    "\n",
    "Par exemple :\n",
    "```python\n",
    "forward(100)\n",
    "right(90)\n",
    "forward(50)\n",
    "left(45)\n",
    "forward(200)\n",
    "```\n",
    "\n",
    "Pour utiliser ces fonctions il faut dire en première ligne à Python que l'on veut charger le module `turtle`. Cela se fait avec l'instruction \n",
    "\n",
    "```python\n",
    "from turtle import *\n",
    "```"
   ]
  },
  {
   "cell_type": "markdown",
   "metadata": {},
   "source": [
    "**Exécutez les instructions ci-dessous pour voir un premier dessin !**"
   ]
  },
  {
   "cell_type": "code",
   "execution_count": null,
   "metadata": {},
   "outputs": [],
   "source": [
    "from turtle import *  # pour charger le module turtle\n",
    "\n",
    "forward(100)\n",
    "right(90)\n",
    "forward(50)\n",
    "left(45)\n",
    "forward(200)\n",
    "\n",
    "done()  # pour demander l'affichage du tracé"
   ]
  },
  {
   "cell_type": "markdown",
   "metadata": {},
   "source": [
    "<blockquote class=\"alert alert-danger\" style=\"margin:10px 10%; border-left: 10px solid #a94442;\">\n",
    " \n",
    "<span style=\"font-size:1.5em\">⚠️</span> La dernière instruction, <code>done()</code>, permet de demander l’affichage du tracé. Si on l’oublie, il ne se passe rien.\n",
    "\n",
    "</blockquote>"
   ]
  },
  {
   "cell_type": "markdown",
   "metadata": {},
   "source": [
    "✍️ **Question 1** : Combien les fonctions `forward`, `right` et `left` possèdent-elles de paramètres ? Expliquer rapidement."
   ]
  },
  {
   "cell_type": "raw",
   "metadata": {},
   "source": [
    "Votre réponse : "
   ]
  },
  {
   "cell_type": "markdown",
   "metadata": {},
   "source": [
    "🐍 **Question 2** : Complétez les instructions suivantes pour dessiner un carré, de 50 pixels de côté. Puis exécutez les instructions pour vérifier (et corriger si nécessaire)."
   ]
  },
  {
   "cell_type": "code",
   "execution_count": null,
   "metadata": {},
   "outputs": [],
   "source": [
    "from turtle import *\n",
    "\n",
    "forward(...)\n",
    "...\n",
    "...\n",
    "...\n",
    "...\n",
    "...\n",
    "...\n",
    "...\n",
    "\n",
    "done()"
   ]
  },
  {
   "cell_type": "markdown",
   "metadata": {},
   "source": [
    "🐍 **Question 3** : Écrivez les instructions permettant de dessiner un carré, de 100 pixels de côté, puis les exécutez."
   ]
  },
  {
   "cell_type": "code",
   "execution_count": null,
   "metadata": {},
   "outputs": [],
   "source": [
    "# à vous de jouer !\n"
   ]
  },
  {
   "cell_type": "markdown",
   "metadata": {},
   "source": [
    "<blockquote class=\"alert alert-info\" style=\"background-color:rgb(220,240,255); margin:10px 10%; \">\n",
    " \n",
    "<span style=\"font-size:1.5em\">🧐</span> Normalement, vous avez du écrire quasiment les mêmes instructions aux questions 2 et 3. Ce n'est pas forcément efficace. Vous allez voir qu'il est préférable de définir une fonction permettant de dessiner un carré puis de l'appeler à chaque fois que l'on veut dessiner un carré.\n",
    "\n",
    "</blockquote>\n",
    "\n"
   ]
  },
  {
   "cell_type": "markdown",
   "metadata": {},
   "source": [
    "🐍 **Question 4** : On veut écrire une fonction `carre` qui possède un paramètre `taille` qui correspond à la taille des côtés du carré dessiné.\n",
    "\n",
    "*Exemples* : L'appel `carre(50)` devra dessiner un carré de côté 50 pixels, l'appel `carre(80)` devra dessiner un carré de côté 80 pixels."
   ]
  },
  {
   "cell_type": "code",
   "execution_count": null,
   "metadata": {},
   "outputs": [],
   "source": [
    "def carre(taille):\n",
    "    forward(...)\n",
    "    right(...)\n",
    "    ... # à poursuivre\n",
    "   "
   ]
  },
  {
   "cell_type": "markdown",
   "metadata": {},
   "source": [
    "**Pensez à bien exécuter la cellule ci-dessus pour mémoriser la fonction `carre`**.\n",
    "\n",
    "On peut maintenant appeler cette fonction pour tracer d'affilée trois carrés de tailles différentes :"
   ]
  },
  {
   "cell_type": "code",
   "execution_count": null,
   "metadata": {},
   "outputs": [],
   "source": [
    "carre(80)\n",
    "carre(50)\n",
    "carre(150)\n",
    "\n",
    "done()"
   ]
  },
  {
   "cell_type": "markdown",
   "metadata": {},
   "source": [
    "**Ces instructions doivent produire le dessin ci-dessous, si ce n'est pas le cas il faut corriger le code de votre fonction `carre`.**\n",
    "\n",
    "![trois carrés](https://raw.githubusercontent.com/germainbecker/SNT/master/Capytale/Python/les-fonctions/trois_carres.png)"
   ]
  },
  {
   "cell_type": "markdown",
   "metadata": {},
   "source": [
    "🐍 **Question 5** : On veut obtenir la figure ci-dessous. Écrivez les bonnes instructions. *Ne pas oublier de terminer par `done()` !*\n",
    "\n",
    "![plusieurs carrés](https://raw.githubusercontent.com/germainbecker/SNT/master/Capytale/Python/les-fonctions/carres.png)"
   ]
  },
  {
   "cell_type": "code",
   "execution_count": null,
   "metadata": {},
   "outputs": [],
   "source": [
    "# à vous de jouer !\n"
   ]
  },
  {
   "cell_type": "markdown",
   "metadata": {},
   "source": [
    "<h2 style=\"background-color: rgb(0,161,153); color: white; border-radius: 3px;padding: 10px;\">💪 Défi !</h2>\n",
    "\n",
    "Créez une fonction `rectangle` qui permet de dessiner un rectangle qui possède la longueur et la largeur voulue, puis utilisez cette fonction pour dessiner un court de tennis dont on rappelle les dimensions ci-dessous.\n",
    "\n",
    "<img src=\"https://raw.githubusercontent.com/germainbecker/SNT/master/Capytale/Python/les-fonctions/Tennis_court_metric.svg\" alt=\"dimensions d'un court de tennis\" width=\"250\">"
   ]
  },
  {
   "cell_type": "code",
   "execution_count": null,
   "metadata": {},
   "outputs": [],
   "source": [
    "# à vous de jouer !\n"
   ]
  },
  {
   "cell_type": "markdown",
   "metadata": {},
   "source": [
    "# 🟥 Bilan\n",
    "---\n",
    "\n",
    "- Une **fonction** permet de regrouper une série d'instructions.\n",
    "- Une fonction possède un **nom**, éventuellement des **paramètres** qui sont utilisés dans le **bloc d'instructions** de la fonction. La fonction **renvoie** généralement une ou plusieurs valeurs.\n",
    "- On peut faire **appel** à une fonction pour exécuter les instructions qu'elle contient et connaître la valeur renvoyée par celle-ci. On l'appelle par son nom en précisant les valeurs des paramètres souhaités entre parenthèses.\n",
    "- En Python :\n",
    "    - on utilise le mot clé `def` pour annoncer que l'on va écrire une fonction\n",
    "    - suivi du nom de la fonction puis de ses paramètres écrits entre parenthèses\n",
    "    - il ne faut pas oublier le `:` à la fin de la première ligne\n",
    "    - le bloc d'instructions d'une fonction doit être *indenté*\n",
    "    - c'est le mot clé `return` qui permet de renvoyer une ou plusieurs valeurs\n",
    "\n",
    "```python\n",
    "def nom_fonction(parametre1, parametre2, etc.):\n",
    "    instruction1\n",
    "    instruction2\n",
    "    ...\n",
    "    return valeur_renvoyee_1, valeur_renvoyee_2, etc.\n",
    "```\n",
    "\n",
    "- L'un des intérêts d'une fonction est de pouvoir regrouper des instructions susceptibles d'être utilisées à plusieurs reprises. Cela permet donc d'alléger le code puisqu'il suffit ensuite d'appeler la fonction sans avoir à recopier toutes ses instructions à chaque fois.\n",
    "- Il y a d'autres raisons qui font que l'on utilise beaucoup les fonctions en programmation mais nous ne les aborderons pas.\n"
   ]
  },
  {
   "cell_type": "markdown",
   "metadata": {},
   "source": [
    "---\n",
    "**Références** :\n",
    "- Les travaux d'Alexandre André sur le module `turtle` : [De Scratch à Python : le chat et la tortue](https://capytale2.ac-paris.fr/basthon/notebook/?id=32146#) et [Tortue : fonctions, frises, feu d'artifice](https://capytale2.ac-paris.fr/basthon/notebook/?id=33841#) pour les idées de l'activité 4.\n",
    "\n",
    "---\n",
    "Les enseignants de SNT du lycée Emmanuel Mounier, ANGERS \n",
    "\n",
    "![Licence Creative Commons](https://i.creativecommons.org/l/by-sa/4.0/88x31.png)"
   ]
  }
 ],
 "metadata": {
  "kernelspec": {
   "display_name": "Python 3",
   "language": "python",
   "name": "python3"
  },
  "language_info": {
   "codemirror_mode": {
    "name": "ipython",
    "version": 3
   },
   "file_extension": ".py",
   "mimetype": "text/x-python",
   "name": "python",
   "nbconvert_exporter": "python",
   "pygments_lexer": "ipython3",
   "version": "3.7.10"
  }
 },
 "nbformat": 4,
 "nbformat_minor": 2
}
