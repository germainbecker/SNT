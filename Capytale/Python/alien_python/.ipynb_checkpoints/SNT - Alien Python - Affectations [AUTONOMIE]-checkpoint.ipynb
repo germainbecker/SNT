{
 "cells": [
  {
   "cell_type": "markdown",
   "metadata": {},
   "source": [
    "<h1 style=\"text-align:center;font-size:2.2em;\">Alien Python - Variables et affectations</h1>\n",
    "\n",
    "---\n",
    "\n",
    "<img style=\"background-color:#eee; border-radius:10px;\" src=\"https://capytale2.ac-paris.fr/web/sites/default/files/2022/09-01/15-58-33/alien.svg\" alt=\"logo de l'alien\" width=\"150\">\n",
    "\n",
    "Pour travailler en autonomie les notions de variables et d'affectation avec Alien Python.\n",
    "\n",
    "\n",
    "<span style=\"font-size:2em\">⚠️</span> **N'oubliez pas d'exécuter la cellule ci-dessous avant de poursuivre !**"
   ]
  },
  {
   "cell_type": "code",
   "execution_count": null,
   "metadata": {},
   "outputs": [],
   "source": [
    "from alien_python import *"
   ]
  },
  {
   "cell_type": "markdown",
   "metadata": {},
   "source": [
    "# 🟥 Dessiner un parcours\n",
    "---\n",
    "\n",
    "><span style=\"font-size:1.5em\">📣</span> Pour les exercices 1 à 4, exécutez chaque programme donné puis dessinez le parcours de l'alien en cliquant sur les différentes positions parcourues. Vous pourrez ensuite validez votre parcours pour vérifier s'il est correct."
   ]
  },
  {
   "cell_type": "markdown",
   "metadata": {},
   "source": [
    "## 🐍 Exercice 1"
   ]
  },
  {
   "cell_type": "code",
   "execution_count": null,
   "metadata": {},
   "outputs": [],
   "source": [
    "centrer_alien()\n",
    "\n",
    "a = 3\n",
    "haut(a)\n",
    "gauche(a)\n",
    " \n",
    "dessiner_parcours()"
   ]
  },
  {
   "cell_type": "markdown",
   "metadata": {},
   "source": [
    "## 🐍 Exercice 2"
   ]
  },
  {
   "cell_type": "code",
   "execution_count": null,
   "metadata": {},
   "outputs": [],
   "source": [
    "centrer_alien()\n",
    "\n",
    "a = 3\n",
    "haut(a)\n",
    "a = a - 1\n",
    "droite(a)\n",
    "a = a + 2\n",
    "haut(-a)\n",
    "\n",
    "dessiner_parcours()"
   ]
  },
  {
   "cell_type": "markdown",
   "metadata": {},
   "source": [
    "## 🐍 Exercice 3"
   ]
  },
  {
   "cell_type": "code",
   "execution_count": null,
   "metadata": {},
   "outputs": [],
   "source": [
    "centrer_alien()\n",
    "\n",
    "a = 3\n",
    "bas(a)\n",
    "droite(2 * a)\n",
    "a = a - 5\n",
    "bas(a)\n",
    "a = a + 4\n",
    "gauche(a)\n",
    "a = 2 * a\n",
    "haut(a)\n",
    "\n",
    "dessiner_parcours()"
   ]
  },
  {
   "cell_type": "markdown",
   "metadata": {},
   "source": [
    "## 🐍 Exercice 4"
   ]
  },
  {
   "cell_type": "code",
   "execution_count": null,
   "metadata": {},
   "outputs": [],
   "source": [
    "centrer_alien()\n",
    "\n",
    "x = 5\n",
    "y = x - 2\n",
    "gauche(x)\n",
    "bas(y)\n",
    "droite(x - 1)\n",
    "z = x - y\n",
    "bas(2 * z)\n",
    "\n",
    "dessiner_parcours()"
   ]
  },
  {
   "cell_type": "markdown",
   "metadata": {},
   "source": [
    "# 🟥 Compléter/écrire un programme\n",
    "---\n",
    "\n",
    "><span style=\"font-size:1.5em\">📣</span> Pour les exercices 5 à 7, complétez chaque programme en remplaçant les pointillés par les bonnes valeurs afin d'obtenir le déplacement donné. Puis exécutez le programme pour vérifier s'il est correct.\n",
    "\n",
    "## 🐍 Exercice 5\n",
    "\n",
    "Voici le déplacement à obtenir (les numéros correspondent aux différentes étapes) :\n",
    "\n",
    "![déplacement](https://capytale2.ac-paris.fr/web/sites/default/files/2022/09-29/15-28-48/snt_alien_python_variables_ex5.png)"
   ]
  },
  {
   "cell_type": "code",
   "execution_count": null,
   "metadata": {},
   "outputs": [],
   "source": [
    "centrer_alien()\n",
    "\n",
    "bas(...)\n",
    "gauche(...)\n",
    "...\n",
    "x = ...\n",
    "droite(x - 1)\n",
    "\n",
    "verifier_programme(['H8', 'K8', 'K4', 'D4', 'D8'])"
   ]
  },
  {
   "cell_type": "markdown",
   "metadata": {},
   "source": [
    "## 🐍 Exercice 6\n",
    "\n",
    "Voici le déplacement à obtenir (les numéros correspondent aux différentes étapes) :\n",
    "\n",
    "![déplacement](https://capytale2.ac-paris.fr/web/sites/default/files/2022/09-29/15-28-48/snt_alien_python_variables_ex6.png)"
   ]
  },
  {
   "cell_type": "code",
   "execution_count": null,
   "metadata": {},
   "outputs": [],
   "source": [
    "centrer_alien()\n",
    "\n",
    "haut(...)\n",
    "...\n",
    "x = ...\n",
    "gauche(x + 1)\n",
    "y = ...\n",
    "bas(x - y)\n",
    "z = ...\n",
    "droite(x * z)\n",
    "\n",
    "verifier_programme(['H8', 'D8', 'D7', 'D2', 'F2', 'F14'])"
   ]
  },
  {
   "cell_type": "markdown",
   "metadata": {},
   "source": [
    "## 🐍 Exercice 7\n",
    "\n",
    "Voici le déplacement à obtenir (les numéros correspondent aux différentes étapes) :\n",
    "\n",
    "![déplacement](https://capytale2.ac-paris.fr/web/sites/default/files/2022/09-29/15-41-54/snt_alien_python_variables_ex7.png)"
   ]
  },
  {
   "cell_type": "code",
   "execution_count": null,
   "metadata": {},
   "outputs": [],
   "source": [
    "centrer_alien()\n",
    "\n",
    "...\n",
    "...\n",
    "...\n",
    "...\n",
    "...\n",
    "...\n",
    "...\n",
    "\n",
    "verifier_programme(['H8', 'H3', 'B3', 'B6', 'D6', 'D9', 'F9', 'F12', 'H12'])"
   ]
  },
  {
   "cell_type": "markdown",
   "metadata": {},
   "source": [
    "---\n",
    "Germain Becker, Lycée Emmanuel Mounier, ANGERS \n",
    "\n",
    "Ce document est diffusé sous la licence [CC BY-SA 4.0](https://creativecommons.org/licenses/by-sa/4.0/deed.fr).\n",
    "\n",
    "![Licence Creative Commons](https://i.creativecommons.org/l/by-sa/4.0/88x31.png)"
   ]
  }
 ],
 "metadata": {
  "kernelspec": {
   "display_name": "Python 3",
   "language": "python",
   "name": "python3"
  },
  "language_info": {
   "codemirror_mode": {
    "name": "ipython",
    "version": 3
   },
   "file_extension": ".py",
   "mimetype": "text/x-python",
   "name": "python",
   "nbconvert_exporter": "python",
   "pygments_lexer": "ipython3",
   "version": "3.7.10"
  }
 },
 "nbformat": 4,
 "nbformat_minor": 2
}
