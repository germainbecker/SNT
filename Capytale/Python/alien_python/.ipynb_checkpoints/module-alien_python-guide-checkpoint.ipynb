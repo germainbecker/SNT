{
 "cells": [
  {
   "cell_type": "markdown",
   "metadata": {},
   "source": [
    "<h1 style=\"text-align:center;font-size:2.5em\">Présentation du module <code>alien_python</code></h1>\n",
    "\n",
    "---\n",
    "\n",
    "<div style=\"background:#eee; margin:10px 0;\">\n",
    "    \n",
    "![illustration](alien.svg)\n",
    "\n",
    "</div>\n"
   ]
  },
  {
   "cell_type": "markdown",
   "metadata": {},
   "source": [
    "**SOMMAIRE**\n",
    "\n",
    "- [Introduction](#Introduction)\n",
    "- [Genèse du module](#Genèse-du-module)\n",
    "- [Afficher un déplacement](#Afficher-un-déplacement)\n",
    "    - [Exemple rapide](#Exemple-rapide)\n",
    "    - [Afficher les numéros d'étapes (et non plus de lignes)](#Afficher-les-numéros-d'étapes-(et-non-plus-de-lignes))\n",
    "    - [Afficher une animation](#Afficher-une-animation)\n",
    "- [Travail en autonomie pour lire et comprendre un programme](#Travail-en-autonomie-pour-lire-et-comprendre-un-programme)\n",
    "    - [Sélectionner la case finale avec `selectionner_case_finale`](#Sélectionner-la-case-finale-avec-selectionner_case_finale)\n",
    "    - [Dessiner tout le parcours avec `dessiner_parcours`](#Dessiner-tout-le-parcours-avec-dessiner_parcours)\n",
    "- [Travail en autonomie pour apprendre à écrire un programme](#Travail-en-autonomie-pour-apprendre-à-écrire-un-programme)\n",
    "- [Pour l'enseignant qui prépare ses exercices](#Pour-l'enseignant--qui-prépare-ses-exercices)    \n",
    "- [Code source du module](#Code-source-du-module)"
   ]
  },
  {
   "cell_type": "markdown",
   "metadata": {},
   "source": [
    "# Introduction\n",
    "\n",
    "Le module `alien_python` permet d'écrire des programmes pour déplacer un alien dans une grille. L'idée est de faire travailler les élèves sur les notions algorithmiques, de manière débranchée ou non. On peut imaginer toutes sortes d'exercices pour cela, j'en dis davantage par la suite.\n",
    "\n",
    "**Mais avant d'en dire plus, commencez par afficher les numéros de lignes des cellules de code (Affichage > Afficher les numéros de ligne) puis exécutez les deux cellules suivantes pour tout de suite comprendre le principe !**"
   ]
  },
  {
   "cell_type": "code",
   "execution_count": null,
   "metadata": {},
   "outputs": [],
   "source": [
    "from alien_python import *  # pour charger le module et ses fonctionnalités"
   ]
  },
  {
   "cell_type": "code",
   "execution_count": null,
   "metadata": {},
   "outputs": [],
   "source": [
    "centrer_alien()  # ligne obligatoire en début de chaque programme\n",
    "\n",
    "gauche(3)\n",
    "x = 4\n",
    "bas(x + 1)\n",
    "for i in range(3):\n",
    "    droite(2)\n",
    "    haut(2)\n",
    "    \n",
    "afficher_deplacement()"
   ]
  },
  {
   "cell_type": "markdown",
   "metadata": {},
   "source": [
    "> Les numéros affichés correspondent aux numéros des lignes du script Python."
   ]
  },
  {
   "cell_type": "markdown",
   "metadata": {},
   "source": [
    "<span style=\"font-size:3em\">📣</span> Ce qui suit a pour but d'expliquer *en détail* les différentes possibilités offertes par le module. Vous trouverez une version beaucoup plus courte, donc avec moins d'explications, en suivant ce lien : [https://capytale2.ac-paris.fr/basthon/notebook/?id=626498](https://capytale2.ac-paris.fr/basthon/notebook/?id=626498)."
   ]
  },
  {
   "cell_type": "markdown",
   "metadata": {},
   "source": [
    "# Genèse du module\n",
    "\n",
    "J'ai repris le travail formidable de Mathieu Degrange (voir ici son projet **Alien-Python** : [https://github.com/DegrangeM/alien-python](https://github.com/DegrangeM/alien-python)) qui permet de travailler les notions de programmation et d'algorithmique de manière débranchée avec les élèves. L'idée est de donner aux élèves un programme permettant de déplacer un alien dans une grille et les élèves doivent deviner, de tête, la case dans laquelle s'arrêtera l'alien à l'issue du programme donné.\n",
    "\n",
    "J'ai eu l'occasion d'utiliser le travail de Mathieu avec mes élèves en SNT cette année scolaire, ils ont apprécié et cela leur a été bénéfique a priori. On peut très bien utiliser cela avec n'importe quelle classe de lycée en cours de mathématiques également, soit pour introduire les notions sur Python, soit pour les entretenir.\n",
    "\n",
    "Le module `alien_python` va un peu plus loin que ce qu'a proposé Mathieu, il permet à la fois :\n",
    "\n",
    "- **aux enseignants** de préparer des exercices ou d'animer des activités sous forme de Notebook (ou de Script-Console) dans Capytale ou Basthon, \n",
    "- et **aux élèves** de s'entraîner en autonomie.\n",
    "\n",
    "Plus précisément, **les élèves peuvent** :\n",
    "\n",
    "- **exécuter un programme** pour voir le déplacement de l'alien\n",
    "- **tester une réponse** en cliquant sur la case finale supposée\n",
    "- **tester un parcours complet** en dessinant le parcours par des clics sur les différentes cases (car au final c'est cela qui importe, davantage que la case finale)\n",
    "- **compléter ou écrire complètement un programme** pour déplacer l'alien comme sur une image qui est fournie\n",
    "\n",
    "> Il y a aussi la possibilité d'animer le déplacement de l'alien, même si je ne suis pas persuadé que ce soit indispensable. J'en parle par la suite.\n",
    "\n",
    "**Idées d'utilisation** :\n",
    "- **questions rapides** en classe : les élèves font sur papier ou dans leur tête et la correction vidéoprojetée peut se faire en exécutant le programme (pour introduire les notions ou les entretenir)\n",
    "- **travail en autonomie pour lire et comprendre un programme** : on leur communique un notebook avec différentes questions et il doivent deviner la case finale ou le déplacement complet en cliquant sur la grille puis il y a un système de vérification et de correction automatique de la réponse proposée par l'élève\n",
    "- **travail en autonomie pour apprendre à écrire un programme** :  on leur communique un notebook avec différents exercices où les élèves doivent compléter, voire écrire entièrement, un programme pour déplacer l'alien selon l'image communiquée, avec vérification et correction automatique de la proposition (un nombre de lignes maximal peut être fixé).\n",
    "\n",
    "><span style=\"font-size:1.7em\">⚠️</span> En l'état, ce module **fonctionne uniquement sous Basthon** (donc dans **Capytale** également) car il est basé sur le module `p5` porté par Romain Casati dans Basthon (basé lui-même sur la bibliothèque JavaScript `p5.js`, mais qui diffère du module `p5` de Python).\n"
   ]
  },
  {
   "cell_type": "markdown",
   "metadata": {},
   "source": [
    "# Afficher un déplacement\n",
    "\n",
    "Le module `alien_python` est un simple fichier Python appelé `alien_python.py` qui est à joindre à l'activité sur Capytale ou sur Basthon (dans un Notebook ou un Script-Console). On peut importer ce module avec la ligne suivante, qui est donc à exécuter au début de l'activité."
   ]
  },
  {
   "cell_type": "code",
   "execution_count": null,
   "metadata": {},
   "outputs": [],
   "source": [
    "from alien_python import *"
   ]
  },
  {
   "cell_type": "markdown",
   "metadata": {},
   "source": [
    "Il faut également **afficher les numéros de lignes** des cellules de code du notebook, car celles-ci sont affichées par défaut à côté de chaque position du déplacement. Pour cela, il suffit de cliquer sur Affichage puis sur Afficher/Masquer les numéros de ligne."
   ]
  },
  {
   "cell_type": "markdown",
   "metadata": {},
   "source": [
    "## Exemple rapide\n",
    "\n",
    "Une fois le module chargé, son utilisation est assez simple. Par exemple, le programme qui suit permet de :\n",
    "\n",
    "- centrer l'alien avec la fonction `centrer_alien` (**l'alien est toujours au centre dans la case H8 au départ**)\n",
    "- puis déplacer l'alien grâce aux fonctions `gauche`, `droite`, `haut` et `bas`\n",
    "- et enfin aficher le déplacement de l'alien avec la fonction `afficher_deplacement`\n"
   ]
  },
  {
   "cell_type": "code",
   "execution_count": null,
   "metadata": {},
   "outputs": [],
   "source": [
    "centrer_alien()  # ligne obligatoire en début de chaque programme\n",
    "\n",
    "gauche(3)\n",
    "x = 4\n",
    "bas(x + 1)\n",
    "for i in range(3):\n",
    "    droite(2)\n",
    "    haut(2)\n",
    "    \n",
    "afficher_deplacement()"
   ]
  },
  {
   "cell_type": "markdown",
   "metadata": {},
   "source": [
    "**Analyse** : Vous pouvez constater que le déplacement est affiché et qu'un numéro est écrit en bas à droite de chaque position de l'alien : il s'agit du numéro de ligne du programme Python. Par exemple :\n",
    "- le \"1\" au départ signifie que c'est la ligne 1 du programme qui a positionné l'alien au centre\n",
    "- le \"3\" indique que c'est la ligne 3 du programme qui a déplacé l'alien en H5\n",
    "- etc.\n",
    "\n",
    "Cela permet donc de bien suivre et comprendre le rôle de chaque ligne, et cela devient particulièrement intéressant lorsqu'il y a des boucles.\n",
    "\n",
    "On peut passer des paramètres à la fonction `afficher_deplacement` pour modifier légèrement son comportement.\n",
    "\n",
    "## Afficher les numéros d'étapes (et non plus de lignes)\n",
    "\n",
    "Pour remplacer les numéros de lignes du programme par le numéro de chaque étape (1, 2, 3, ...) , on utilise \n",
    "\n",
    "```python\n",
    "afficher_deplacement(etapes=True)\n",
    "```\n",
    "\n",
    "en dernière ligne :"
   ]
  },
  {
   "cell_type": "code",
   "execution_count": null,
   "metadata": {},
   "outputs": [],
   "source": [
    "centrer_alien()  # ligne obligatoire en début de chaque programme\n",
    "\n",
    "gauche(3)\n",
    "x = 4\n",
    "bas(x + 1)\n",
    "for i in range(3):\n",
    "    droite(2)\n",
    "    haut(2)\n",
    "\n",
    "afficher_deplacement(etapes=True)"
   ]
  },
  {
   "cell_type": "markdown",
   "metadata": {},
   "source": [
    "> Si vous tenez à tout prix à ne voir aucun numéro, que ce soit de lignes ou d'étapes, il suffit de passer la valeur `False` au paramètre `num_lignes` de la fonction `afficher_deplacement` : `afficher_deplacement(num_lignes=False)`.  \n",
    "> Se combine aux autres paramètres."
   ]
  },
  {
   "cell_type": "markdown",
   "metadata": {},
   "source": [
    "## Afficher une animation\n",
    "\n",
    "Pour afficher une animation interactive du déplacement, on utilise\n",
    "\n",
    "```python\n",
    "afficher_deplacement(animation=True)\n",
    "```\n",
    "\n",
    "en dernière ligne du programme :"
   ]
  },
  {
   "cell_type": "code",
   "execution_count": null,
   "metadata": {},
   "outputs": [],
   "source": [
    "centrer_alien()  # ligne obligatoire en début de chaque programme\n",
    "\n",
    "gauche(3)\n",
    "x = 4\n",
    "bas(x + 1)\n",
    "for i in range(3):\n",
    "    droite(2)\n",
    "    haut(2)\n",
    "    \n",
    "afficher_deplacement(animation=True, etapes=True)"
   ]
  },
  {
   "cell_type": "markdown",
   "metadata": {},
   "source": [
    "Il suffit d'utiliser les boutons pour jouer l'animation :\n",
    "- le bouton `▶Lecture` pour lancer l'animation automatique jusqu'à la fin du déplacement\n",
    "- les autres boutons pour avancer en mode pas à pas (boutons `< Préc.` et `Suiv. >`) ou se positionner directement en première ou dernière position (`<< Début` et `Fin >>`). Ceux-ci stoppent l'animation automatique, qui reprend en cliquant à nouveau sur le bouton de lecture."
   ]
  },
  {
   "cell_type": "markdown",
   "metadata": {},
   "source": [
    "# Travail en autonomie pour lire et comprendre un programme\n",
    "\n",
    "L'idée est de proposer aux élèves un programme et ils doivent devenir mentalement la case finale de l'alien ou tout le parcours de l'alien (toutes les cases par lesquelles l'alien est passé).\n",
    "\n",
    "> On pourrait utiliser la fonction `afficher_deplacement` comme dans le paragraphe précédent, les élèves n'auraient qu'à comparer leur réponse avec le déplacement affichée. Mais ici, on propose deux fonctionnalités permettant aux élèves de sélectionner la case finale ou de dessiner le parcours directement dans la grille.\n",
    "\n",
    "\n",
    "## Sélectionner la case finale avec `selectionner_case_finale`\n",
    "\n",
    "Pour proposer une grille interactive dans laquelle on peut sélectionner la case finale, il suffit de remplacer la dernière ligne du programme par un appel à la fonction `selectionner_case_finale` :"
   ]
  },
  {
   "cell_type": "code",
   "execution_count": null,
   "metadata": {},
   "outputs": [],
   "source": [
    "centrer_alien()  # ligne obligatoire\n",
    "\n",
    "gauche(3)\n",
    "x = 4\n",
    "bas(x + 1)\n",
    "for i in range(3):\n",
    "    droite(2)\n",
    "    haut(2)\n",
    "\n",
    "selectionner_case_finale()  # pour pouvoir sélectionner la case finale"
   ]
  },
  {
   "cell_type": "markdown",
   "metadata": {},
   "source": [
    "**Remarques** :\n",
    "- Le bouton \"Valider\" permet de tester si la case sélectionnée est la bonne ou pas. Tant que la case finale n'est pas trouvée on peut retenter sa chance.\n",
    "- Le bouton \"Effacer\" permet de déselectionner la case, mais il suffit d'en sélectionner une autre.\n",
    "- Le bouton \"Réponse\" permet d'afficher le parcours complet et la case finale. Par défaut, le numéro des lignes du programme s'écrivent à côté de chaque position."
   ]
  },
  {
   "cell_type": "markdown",
   "metadata": {},
   "source": [
    "## Dessiner tout le parcours avec `dessiner_parcours`\n",
    "\n",
    "Pour proposer une grille interactive dans laquelle on peut dessiner tout le parcours en cliquant sur la grille, il suffit de remplacer la dernière ligne du programme par un appel à la fonction `dessiner_parcours` :"
   ]
  },
  {
   "cell_type": "code",
   "execution_count": null,
   "metadata": {},
   "outputs": [],
   "source": [
    "centrer_alien()  # ligne obligatoire\n",
    "\n",
    "gauche(3)\n",
    "x = 4\n",
    "bas(x + 1)\n",
    "for i in range(3):\n",
    "    droite(2)\n",
    "    haut(2)\n",
    "\n",
    "dessiner_parcours()  # pour pouvoir dessiner le parcours"
   ]
  },
  {
   "cell_type": "markdown",
   "metadata": {},
   "source": [
    "**Remarques** :\n",
    "- Les boutons \"Valider\", \"Effacer\" et \"Réponse\" ont les mêmes fonctions que précédemment.\n",
    "- Le numéro d'étape est écrit à côté de chaque position du parcours.\n",
    "- Il est possible d'effacer la dernière position en cliquant dessus.\n",
    "- On ne peut se déplacer que verticalement et horizontalement.\n",
    "\n",
    "Notez qu'il est possible d'afficher des indications sur un parcours incorrect lorsque l'on clique sur le bouton \"Valider\". Pour cela, il suffit de passer le paramètre `indication=True` à la fonction `dessiner_parcours`. Je vous laisse tester les différents cas de figure :"
   ]
  },
  {
   "cell_type": "code",
   "execution_count": null,
   "metadata": {},
   "outputs": [],
   "source": [
    "centrer_alien()  # ligne obligatoire\n",
    "\n",
    "gauche(3)\n",
    "x = 4\n",
    "bas(x + 1)\n",
    "for i in range(3):\n",
    "    droite(2)\n",
    "    haut(2)\n",
    "\n",
    "dessiner_parcours(indication=True)  # pour pouvoir dessiner le parcours"
   ]
  },
  {
   "cell_type": "markdown",
   "metadata": {},
   "source": [
    "# Travail en autonomie pour apprendre à écrire un programme\n",
    "\n",
    "> Ce travail peut être entrepris une fois que les élèves ont bien compris le rôle des fonctions `gauche`, `droite`, `haut` et `bas`.\n",
    "\n",
    "Les exemples proposés jusqu'alors permettait de faire travailler les élèves sur la compréhension d'un programme. L'idée est désormais qu'ils apprennent à programmer : on propose aux élèves une image d'un déplacement et ces derniers doivent compléter ou écrire un programme permettant de réaliser le déplacement en question.\n",
    "\n",
    "> On pourrait demander aux élèves d'exécuter le programme qu'ils ont écrit en le terminant par `afficher_deplacement`, puis de comparer le déplacement affiché avec celui demandé. Mais ici on propose une vérification automatique. \n",
    "\n",
    "## Vérifier un programme avec `verifier_programme`\n",
    "\n",
    "On peut aussi utiliser la fonction `verifier_programme(liste_bonnes_cases, nb_max_lignes=None, ...)` en dernière ligne du programme qui permet de vérifier si ce dernier est correct ou non. Pour cela, le professeur doit passer en paramètre à la fonction :\n",
    "- la liste des bonnes cases du parcours : `liste_bonnes_cases`\n",
    "- éventuellement le nombre maximum de lignes attendu : en changeant la valeur par défaut `None` du paramètre `nb_max_lignes`\n",
    "- éventuellement des paramètres optionnels pour activer une animation ou afficher les numéros des étapes\n",
    "\n",
    "On détaille cela ci-dessous sur quelques exemples d'énoncés."
   ]
  },
  {
   "cell_type": "markdown",
   "metadata": {},
   "source": [
    "### Exercice 1 (sans nombre maximal de lignes)\n",
    "\n",
    "#### Énoncé\n",
    "\n",
    "Complétez le programme ci-dessous pour déplacer l'alien comme sur cette image.\n",
    "\n",
    "![ex1](ex1.png)"
   ]
  },
  {
   "cell_type": "code",
   "execution_count": null,
   "metadata": {},
   "outputs": [],
   "source": [
    "centrer_alien()  # obligatoire au début\n",
    "\n",
    "gauche(...)\n",
    "...\n",
    "for i in range(...):\n",
    "    ...\n",
    "\n",
    "verifier_programme(['H8', 'H3', 'F3', 'F5', 'F7', 'F9', 'F11', 'F13', 'F15'])  # ne pas modifier"
   ]
  },
  {
   "cell_type": "markdown",
   "metadata": {},
   "source": [
    "**Remarques** :\n",
    "- on termine le programme avec un appel à la fonction `verifier_programme`, c'est obligatoire\n",
    "- le premier paramètre à lui passer est la liste des bonnes cases du parcours, que le professeur doit renseigner.\n",
    "\n",
    "#### À la place de l'élève\n",
    "\n",
    "Si l'élève complète correctement le code, cela donne (je vous laisse essayer par vous-même le cas de programmes incorrects) :"
   ]
  },
  {
   "cell_type": "code",
   "execution_count": null,
   "metadata": {},
   "outputs": [],
   "source": [
    "centrer_alien()  # obligatoire au début\n",
    "\n",
    "gauche(5)\n",
    "haut(2)\n",
    "for i in range(6):\n",
    "    droite(2)\n",
    "\n",
    "verifier_programme(['H8', 'H3', 'F3', 'F5', 'F7', 'F9', 'F11', 'F13', 'F15'])  # ne pas modifier"
   ]
  },
  {
   "cell_type": "markdown",
   "metadata": {},
   "source": [
    "> On peut ajouter le paramètre `animation=True` à la fonction `verifier_programme` en remplaçant la dernière ligne par `verifier_programme(['H8', 'H3', 'F3', 'F5', 'F7', 'F9', 'F11', 'F13', 'F15'], animation=True)` qui permet d'afficher une animation à la place de deux grilles côte à côte. Cela marche aussi pour un programme incorrect (je vous laisse essayer tout cela).\n",
    "\n",
    "Néanmoins, comme le paramètre `nb_max_lignes` de la fonction `verifier_programme` n'est pas définit ici, un élève peut aussi effacer le programme à compléter et le remplacer par un autre qui fonctionne :"
   ]
  },
  {
   "cell_type": "code",
   "execution_count": null,
   "metadata": {},
   "outputs": [],
   "source": [
    "centrer_alien()  # obligatoire au début\n",
    "\n",
    "gauche(5)\n",
    "haut(2)\n",
    "droite(2)\n",
    "droite(2)\n",
    "droite(2)\n",
    "droite(2)\n",
    "droite(2)\n",
    "droite(2)\n",
    "\n",
    "verifier_programme(['H8', 'H3', 'F3', 'F5', 'F7', 'F9', 'F11', 'F13', 'F15'])"
   ]
  },
  {
   "cell_type": "markdown",
   "metadata": {},
   "source": [
    "Ce n'était évidemment pas la solution envisagée par le professeur et pour y remédier, surtout en ce qui concerne les boucles, on peut définir un nombre maximum de lignes à écrire. C'est ce que nous allons voir dans l'exercice suivant."
   ]
  },
  {
   "cell_type": "markdown",
   "metadata": {},
   "source": [
    "### Exercice 2 (avec un nombre maximal de lignes)\n",
    "\n",
    "#### Énoncé\n",
    "\n",
    "Écrivez un programme pour déplacer l'alien comme sur cette image. **Attention, votre programme doit faire moins de 5 lignes**.\n",
    "\n",
    "![ex1](ex1.png)"
   ]
  },
  {
   "cell_type": "code",
   "execution_count": null,
   "metadata": {},
   "outputs": [],
   "source": [
    "centrer_alien()  # obligatoire au début\n",
    "\n",
    "...\n",
    "\n",
    "verifier_programme(['H8', 'H3', 'F3', 'F5', 'F7', 'F9', 'F11', 'F13', 'F15'], 5)  # ne pas modifier"
   ]
  },
  {
   "cell_type": "markdown",
   "metadata": {},
   "source": [
    "**Remarque** : on a ajouté un deuxième paramètre à la fonction `verifier_programme` qui correspond au nombre maximal de lignes. \n",
    "\n",
    "#### À la place de l'élève\n",
    "\n",
    "Si le programme de l'élève engendre le bon déplacement mais dépasse le nombre de lignes autorisé il est prévenu :"
   ]
  },
  {
   "cell_type": "code",
   "execution_count": null,
   "metadata": {},
   "outputs": [],
   "source": [
    "centrer_alien()  # obligatoire au début\n",
    "\n",
    "gauche(5)\n",
    "haut(2)\n",
    "droite(2)\n",
    "droite(2)\n",
    "droite(2)\n",
    "droite(2)\n",
    "droite(2)\n",
    "droite(2)\n",
    "\n",
    "verifier_programme(['H8', 'H3', 'F3', 'F5', 'F7', 'F9', 'F11', 'F13', 'F15'], 5)  # ne pas modifier"
   ]
  },
  {
   "cell_type": "markdown",
   "metadata": {},
   "source": [
    "Ce qui n'est pas le cas si le nombre de lignes est respecté :"
   ]
  },
  {
   "cell_type": "code",
   "execution_count": null,
   "metadata": {},
   "outputs": [],
   "source": [
    "centrer_alien()  # obligatoire au début\n",
    "\n",
    "gauche(5)\n",
    "haut(2)\n",
    "for i in range(6):\n",
    "    droite(2)\n",
    "\n",
    "verifier_programme(['H8', 'H3', 'F3', 'F5', 'F7', 'F9', 'F11', 'F13', 'F15'], 5)  # ne pas modifier"
   ]
  },
  {
   "cell_type": "markdown",
   "metadata": {},
   "source": [
    "**Remarques** :\n",
    "\n",
    "- La ligne avec l'instruction obligatoire `centrer_alien()` *est* comptée dans le nombre de lignes du programme de l'élève, il faut donc en tenir compte dans le nombre maximal que vous fixez.\n",
    "- La ligne avec l'appel à la fonction `verifier_programme` *n'est* quant à elle *pas* comptée dans le nombre de lignes du programme, de même que toute ligne située *après* l'appel à cette fonction.\n",
    "- Les lignes vides ou constituées uniquement d'espaces (parfois oubliées) ne sont pas comptabilisées !\n",
    "- ⚠️ Un élève qui écrit plusieurs instructions sur une ligne, par exemple `gauche(5), haut(2)` ou `for i in range(6): droite(2)` ne sera en revanche pas démasqué !\n"
   ]
  },
  {
   "cell_type": "markdown",
   "metadata": {},
   "source": [
    "# Pour l'enseignant  qui prépare ses exercices\n",
    "\n",
    "L'enseignant qui prépare ses exercices peut notamment être intéressé pour :\n",
    "\n",
    "- faire des essais (pour tester ses questions avant de les proposer aux élèves)\n",
    "- sauvegarder les images de déplacement générées (pour les inclure aux notebooks proposés aux élèves)\n",
    "- obtenir la liste des cases parcourues au cours d'un déplacement (pour compléter plus rapidement la liste des cases parcourues de la fonction `verifier_programme`)\n",
    "\n",
    "**Tout ceci se trouve dans le notebook plus *synthétique* disponible à cette adresse : [https://capytale2.ac-paris.fr/basthon/notebook/?id=626498](https://capytale2.ac-paris.fr/basthon/notebook/?id=626498)**\n",
    "\n",
    "## Sauvegarder une image\n",
    "\n",
    "Après avoir affiché la grille souhaitée, on utilise dans une cellule séparée fonction `sauvegarder` :"
   ]
  },
  {
   "cell_type": "code",
   "execution_count": null,
   "metadata": {},
   "outputs": [],
   "source": [
    "centrer_alien()  # ligne obligatoire en début de chaque programme\n",
    "\n",
    "gauche(3)\n",
    "x = 4\n",
    "bas(x + 1)\n",
    "for i in range(3):\n",
    "    droite(2)\n",
    "    haut(2)\n",
    "    \n",
    "afficher_deplacement(etapes=True)\n",
    "# ou afficher_deplacement() pour voir les numéros de lignes mais pas forcément pertinent\n",
    "# ou afficher_deplacement(num_lignes=False) pour ne voir aucun numéro"
   ]
  },
  {
   "cell_type": "code",
   "execution_count": null,
   "metadata": {},
   "outputs": [],
   "source": [
    "sauvegarder('exemple')  # dans une cellule séparée !"
   ]
  },
  {
   "cell_type": "markdown",
   "metadata": {},
   "source": [
    "**ATTENTION** : l'appel à la fonction `sauvegarder` doit se faire **dans une cellule séparée**, pour une raison qui reste mystérieuse pour moi...\n",
    "\n",
    "Et pour créer une image avec une grille vide :"
   ]
  },
  {
   "cell_type": "code",
   "execution_count": null,
   "metadata": {},
   "outputs": [],
   "source": [
    "centrer_alien()  # ligne obligatoire en début de chaque programme\n",
    "\n",
    "afficher_deplacement(num_lignes=False)"
   ]
  },
  {
   "cell_type": "code",
   "execution_count": null,
   "metadata": {},
   "outputs": [],
   "source": [
    "sauvegarder('grille')"
   ]
  },
  {
   "cell_type": "markdown",
   "metadata": {},
   "source": [
    "# Récupérer les cases d'un parcours\n",
    "\n",
    "On appelle la fonction `cases_du_parcours` après avoir écrit le programme souhaité :"
   ]
  },
  {
   "cell_type": "code",
   "execution_count": null,
   "metadata": {},
   "outputs": [],
   "source": [
    "centrer_alien()  # ligne obligatoire en début de chaque programme\n",
    "\n",
    "gauche(3)\n",
    "x = 4\n",
    "bas(x + 1)\n",
    "for i in range(3):\n",
    "    droite(2)\n",
    "    haut(2)\n",
    "\n",
    "# afficher_deplacement()  # à décommenter si besoin pour vérifier\n",
    "cases_du_parcours()"
   ]
  },
  {
   "cell_type": "markdown",
   "metadata": {},
   "source": [
    "On peut alors facilement copier-coller cette liste en paramètre de la fonction `verifier_programme` !"
   ]
  },
  {
   "cell_type": "markdown",
   "metadata": {},
   "source": [
    "# Code source du module\n",
    "\n",
    "Vous pouvez consulter ou télécharger le fichier `alien_python.py` dans les pièces jointes de ce notebook. Pour voir la dernière version de ce fichier, suivez ce lien : [https://github.com/germainbecker/SNT/blob/master/Capytale/Python/alien_python/alien_python.py](https://github.com/germainbecker/SNT/blob/master/Capytale/Python/alien_python/alien_python.py)."
   ]
  },
  {
   "cell_type": "markdown",
   "metadata": {},
   "source": [
    "---\n",
    "**Références** : \n",
    "- Le concept de l'alien et des programmes pour le déplacer dans la grille a été imaginé par Mathieu Degrange ([voir son projet sur GitHub](https://github.com/DegrangeM/alien-python)). Son projet est sous licence [MIT](https://fr.wikipedia.org/wiki/Licence_MIT). Merci à lui !\n",
    "- L'image de l'alien utilisée a été réalisée par [Kenney](https://www.kenney.nl/assets/platformer-pack-redux) et est sous licence [CC0](https://creativecommons.org/publicdomain/zero/1.0/).\n",
    "- Le module `alien_python` utilisé dans ce notebook a été développé par Germain Becker, pour rendre accessible le concept dans Basthon et donc dans Capytale.\n",
    "\n",
    "---\n",
    "Germain Becker, Lycée Emmanuel Mounier, ANGERS \n",
    "\n",
    "Ce document est diffusé sous la licence [CC BY-SA 4.0](https://creativecommons.org/licenses/by-sa/4.0/deed.fr).\n",
    "\n",
    "![Licence Creative Commons](https://i.creativecommons.org/l/by-sa/4.0/88x31.png)"
   ]
  }
 ],
 "metadata": {
  "kernelspec": {
   "display_name": "Python 3",
   "language": "python",
   "name": "python3"
  },
  "language_info": {
   "codemirror_mode": {
    "name": "ipython",
    "version": 3
   },
   "file_extension": ".py",
   "mimetype": "text/x-python",
   "name": "python",
   "nbconvert_exporter": "python",
   "pygments_lexer": "ipython3",
   "version": "3.7.10"
  }
 },
 "nbformat": 4,
 "nbformat_minor": 2
}
