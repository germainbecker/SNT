{
 "cells": [
  {
   "cell_type": "markdown",
   "metadata": {},
   "source": [
    "<h1 style=\"text-align:center;font-size:2.2em;\">Travailler la programmation avec Alien Python</h1>\n",
    "\n",
    "---\n",
    "\n",
    "<img style=\"background-color:#eee; border-radius:10px;\" src=\"alien.svg\" alt=\"logo de l'alien\">\n",
    "\n",
    "Les règles sont simples : l'alien se situe au départ au centre de la grille et il peut être déplacé avec les fonctions `haut`, `bas`, `gauche` et `droite`.\n",
    "\n",
    "**L'objectif est de trouver la case finale de l'alien (et donc son parcours), après exécution du programme donné.**\n",
    "\n",
    "*Exemples* :\n",
    "- `haut(4)` déplace l'alien de 4 cases vers le haut\n",
    "- `haut(-2)` déplace l'alien de 2 cases vers le *bas*\n",
    "- `haut()` déplace l'alien d'1 case vers le haut (c'est donc équivalent à `haut(1)`)\n",
    "\n",
    ">Le principe est similaire avec les autres fonctions\n",
    "\n",
    "![la grille](https://github.com/germainbecker/SNT/blob/master/Capytale/Python/alien_python/grille_alien.png?raw=true)\n",
    "\n"
   ]
  },
  {
   "cell_type": "markdown",
   "metadata": {},
   "source": [
    "**Ne pas oublier d'exécuter la cellule suivante au départ, et d'afficher les numéros de lignes des cellules de code (Affichage > Afficher les numéros de ligne) !**"
   ]
  },
  {
   "cell_type": "code",
   "execution_count": null,
   "metadata": {},
   "outputs": [],
   "source": [
    "from alien_python import *"
   ]
  },
  {
   "cell_type": "markdown",
   "metadata": {},
   "source": [
    "# 🟥 Variables et affectations\n",
    "---\n",
    "\n",
    "## Exercice 1"
   ]
  },
  {
   "cell_type": "code",
   "execution_count": null,
   "metadata": {},
   "outputs": [],
   "source": [
    "centrer_alien()  # première ligne obligatoire pour centrer l'alien\n",
    "\n",
    "a = 3\n",
    "haut(a)\n",
    "gauche(a)\n",
    " \n",
    "afficher_deplacement()  # pour afficher le déplacement"
   ]
  },
  {
   "cell_type": "markdown",
   "metadata": {},
   "source": [
    "## Exercice 2"
   ]
  },
  {
   "cell_type": "code",
   "execution_count": null,
   "metadata": {},
   "outputs": [],
   "source": [
    "centrer_alien()\n",
    "\n",
    "a = 3\n",
    "haut(a)\n",
    "a = a - 1\n",
    "droite(a)\n",
    "a = a + 2\n",
    "haut(-a)\n",
    "\n",
    "afficher_deplacement()"
   ]
  },
  {
   "cell_type": "markdown",
   "metadata": {},
   "source": [
    "## Exercice 3"
   ]
  },
  {
   "cell_type": "code",
   "execution_count": null,
   "metadata": {},
   "outputs": [],
   "source": [
    "centrer_alien()\n",
    "\n",
    "a = 3\n",
    "bas(a)\n",
    "droite(2 * a)\n",
    "a = a - 5\n",
    "bas(a)\n",
    "a = a + 4\n",
    "gauche(a)\n",
    "a = 2 * a\n",
    "haut(a)\n",
    "\n",
    "afficher_deplacement()"
   ]
  },
  {
   "cell_type": "markdown",
   "metadata": {},
   "source": [
    "## Exercice 4"
   ]
  },
  {
   "cell_type": "code",
   "execution_count": null,
   "metadata": {},
   "outputs": [],
   "source": [
    "centrer_alien()\n",
    "\n",
    "x = 5\n",
    "y = x - 2\n",
    "gauche(x)\n",
    "bas(y)\n",
    "droite(x - 1)\n",
    "z = x - y\n",
    "bas(2 * z)\n",
    "\n",
    "afficher_deplacement()"
   ]
  },
  {
   "cell_type": "markdown",
   "metadata": {},
   "source": [
    "# 🟥 Fonctions\n",
    "\n",
    "---\n",
    "\n",
    "à suivre..."
   ]
  },
  {
   "cell_type": "markdown",
   "metadata": {},
   "source": [
    "---\n",
    "Germain Becker, Lycée Emmanuel Mounier, ANGERS \n",
    "\n",
    "Ce document est diffusé sous la licence [CC BY-SA 4.0](https://creativecommons.org/licenses/by-sa/4.0/deed.fr).\n",
    "\n",
    "![Licence Creative Commons](https://i.creativecommons.org/l/by-sa/4.0/88x31.png)"
   ]
  },
  {
   "cell_type": "code",
   "execution_count": null,
   "metadata": {},
   "outputs": [],
   "source": []
  }
 ],
 "metadata": {
  "kernelspec": {
   "display_name": "Python 3",
   "language": "python",
   "name": "python3"
  },
  "language_info": {
   "codemirror_mode": {
    "name": "ipython",
    "version": 3
   },
   "file_extension": ".py",
   "mimetype": "text/x-python",
   "name": "python",
   "nbconvert_exporter": "python",
   "pygments_lexer": "ipython3",
   "version": "3.7.10"
  }
 },
 "nbformat": 4,
 "nbformat_minor": 2
}
