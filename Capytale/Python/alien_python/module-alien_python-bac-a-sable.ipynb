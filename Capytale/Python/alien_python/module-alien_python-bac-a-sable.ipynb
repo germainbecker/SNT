{
 "cells": [
  {
   "cell_type": "markdown",
   "metadata": {},
   "source": [
    "<h1 style=\"text-align:center; font-size:2.5em\">Préparer ses exercices avec <code>alien_python</code></h1>\n",
    "\n",
    "---\n",
    "\n",
    "**Sommaire** :\n",
    "\n",
    "- [Importation du module](#Importation-du-module)\n",
    "- [Écrire et tester un programme](#Écrire-et-tester-un-programme)\n",
    "    - [Afficher un déplacement](#Afficher-un-déplacement)\n",
    "    - [Sélectionner la case finale](#Sélectionner-la-case-finale)\n",
    "    - [Dessiner tout le parcours](#Dessiner-tout-le-parcours)\n",
    "    - [Vérifier un programme](#Vérifier-un-programme)\n",
    "- [Sauvegarder une image](#Sauvegarder-une-image)\n",
    "- [Récupérer les cases d'un parcours](#Récupérer-les-cases-d'un-parcours)"
   ]
  },
  {
   "cell_type": "markdown",
   "metadata": {},
   "source": [
    "# Importation du module\n",
    "\n",
    "On commence par importer le module `alien_python` qui doit être au préalable attaché à l'activité (voir la liste des fichiers annexes <button class='fa fa-paperclip icon-save btn btn-xs btn-default'></button>) :"
   ]
  },
  {
   "cell_type": "code",
   "execution_count": null,
   "metadata": {},
   "outputs": [],
   "source": [
    "from alien_python import *"
   ]
  },
  {
   "cell_type": "markdown",
   "metadata": {},
   "source": [
    "> Vous pouvez télécharger le module en accédant à la liste des fichiers annexes <button class='fa fa-paperclip icon-save btn btn-xs btn-default'></button> ou voir directement la dernière version ici : [https://github.com/germainbecker/SNT/blob/master/Capytale/Python/alien_python/alien_python.py](https://github.com/germainbecker/SNT/blob/master/Capytale/Python/alien_python/alien_python.py).\n",
    "\n",
    "**Pensez aussi à afficher les numéros de ligne des cellules de code : Affichage > Afficher/Masquer les numéros de ligne**."
   ]
  },
  {
   "cell_type": "markdown",
   "metadata": {},
   "source": [
    "# Écrire et tester un programme\n",
    "\n",
    "Il suffit d'écrire et d'exécuter le programme avec les paramètres et la finalité de son choix.\n",
    "\n",
    "## Afficher un déplacement\n",
    "\n",
    "On utilise la fonction `afficher_deplacement` en dernière ligne, avec changeant les paramètres par défaut selon les besoins :"
   ]
  },
  {
   "cell_type": "code",
   "execution_count": null,
   "metadata": {},
   "outputs": [],
   "source": [
    "centrer_alien()  # ligne obligatoire en début de chaque programme\n",
    "\n",
    "gauche(3)\n",
    "x = 4\n",
    "bas(x + 1)\n",
    "for i in range(3):\n",
    "    droite(2)\n",
    "    haut(2)\n",
    "    \n",
    "afficher_deplacement()\n",
    "#afficher_deplacement(etapes=True)  # pour afficher le numéro des étapes\n",
    "#afficher_deplacement(num_lignes=False)  # pour n'afficher aucun numéro\n",
    "#afficher_deplacement(animation=True)  # pour afficher une animation"
   ]
  },
  {
   "cell_type": "markdown",
   "metadata": {},
   "source": [
    "**Remarque** : Il suffit de remplacer l'appel à la fonction `afficher_deplacement` en dernière ligne par un appel à une autre fonction pour une finalité différente. Les trois autres fonctions possibles sont données dans les paragraphes suivants.\n",
    "\n",
    "## Sélectionner la case finale\n",
    "\n",
    "On utilise la fonction `selectionner_case_finale()` en dernière ligne pour pouvoir sélectionner la case finale du parcours :"
   ]
  },
  {
   "cell_type": "code",
   "execution_count": null,
   "metadata": {},
   "outputs": [],
   "source": [
    "centrer_alien()  # ligne obligatoire en début de chaque programme\n",
    "\n",
    "gauche(3)\n",
    "x = 4\n",
    "bas(x + 1)\n",
    "for i in range(3):\n",
    "    droite(2)\n",
    "    haut(2)\n",
    "\n",
    "selectionner_case_finale()"
   ]
  },
  {
   "cell_type": "markdown",
   "metadata": {},
   "source": [
    "## Dessiner tout le parcours\n",
    "\n",
    "On utilise la fonction `dessiner_parcours(indication=False)` en dernière ligne pour pouvoir dessiner le parcours complet :"
   ]
  },
  {
   "cell_type": "code",
   "execution_count": null,
   "metadata": {},
   "outputs": [],
   "source": [
    "centrer_alien()  # ligne obligatoire en début de chaque programme\n",
    "\n",
    "gauche(3)\n",
    "x = 4\n",
    "bas(x + 1)\n",
    "for i in range(3):\n",
    "    droite(2)\n",
    "    haut(2)\n",
    "\n",
    "dessiner_parcours()"
   ]
  },
  {
   "cell_type": "markdown",
   "metadata": {},
   "source": [
    "## Vérifier un programme\n",
    "\n",
    "On utilise la fonction `verifier_programme(listes_bonnes_cases, nb_max_lignes=None, ...)` en dernière ligne pour vérifier qu'un programme fait bien le parcours attendu, ce dernier étant donné par `listes_bonnes_cases`. En option on peut fixer un nombre maximal de lignes en deuxième argument :"
   ]
  },
  {
   "cell_type": "code",
   "execution_count": null,
   "metadata": {},
   "outputs": [],
   "source": [
    "centrer_alien()  # obligatoire au début\n",
    "\n",
    "gauche(5)\n",
    "haut(2)\n",
    "for i in range(6):\n",
    "    droite(2)\n",
    "\n",
    "verifier_programme(['H8', 'H3', 'F3', 'F5', 'F7', 'F9', 'F11', 'F13', 'F15'], 5)  # Le programme doit faire 5 lignes max !"
   ]
  },
  {
   "cell_type": "code",
   "execution_count": null,
   "metadata": {},
   "outputs": [],
   "source": [
    "centrer_alien()  # obligatoire au début\n",
    "\n",
    "gauche(5)\n",
    "haut(2)\n",
    "droite(2)\n",
    "droite(2)\n",
    "droite(2)\n",
    "droite(2)\n",
    "droite(2)\n",
    "droite(2)\n",
    "\n",
    "verifier_programme(['H8', 'H3', 'F3', 'F5', 'F7', 'F9', 'F11', 'F13', 'F15'])  # Aucune limite de longueur !"
   ]
  },
  {
   "cell_type": "markdown",
   "metadata": {},
   "source": [
    "> <span style=\"font-size:2em\">📣</span> Avec cela on peut facilement donner l'image d'un parcours aux élèves et leur demander de compléter (ou écrire totalement) un programme pour obtenir ce déplacement :\n",
    "\n",
    "![ex1](ex1.png)\n",
    "\n",
    "Complétez le programme ci-dessous pour obtenir ce déplacement :"
   ]
  },
  {
   "cell_type": "code",
   "execution_count": null,
   "metadata": {},
   "outputs": [],
   "source": [
    "centrer_alien()  # obligatoire au début\n",
    "\n",
    "gauche(...)\n",
    "...\n",
    "for i in range(...):\n",
    "    ...\n",
    "\n",
    "verifier_programme(['H8', 'H3', 'F3', 'F5', 'F7', 'F9', 'F11', 'F13', 'F15'])  # ne pas modifier"
   ]
  },
  {
   "cell_type": "markdown",
   "metadata": {},
   "source": [
    "---\n",
    "\n",
    "Et on termine avec deux fonctions qui serviront à l'enseignant pour préparer ses activités : \n",
    "- une fonction pour sauvegarder une image d'un parcours pour le proposer aux élèves (avec un programme à compléter par exemple)\n",
    "- un fonction pour récupérer la liste des cases parcourues, liste qui pourra facilement être copiée et passée en paramètre à la fonction `verifier_programme`"
   ]
  },
  {
   "cell_type": "markdown",
   "metadata": {},
   "source": [
    "# Sauvegarder une image\n",
    "\n",
    "Pensez à utiliser la fonction `sauvegarder` dans une **cellule séparée** !"
   ]
  },
  {
   "cell_type": "code",
   "execution_count": null,
   "metadata": {},
   "outputs": [],
   "source": [
    "centrer_alien()  # ligne obligatoire en début de chaque programme\n",
    "\n",
    "gauche(3)\n",
    "x = 4\n",
    "bas(x + 1)\n",
    "for i in range(3):\n",
    "    droite(2)\n",
    "    haut(2)\n",
    "    \n",
    "afficher_deplacement(etapes=True)\n",
    "#afficher_deplacement()  # pour voir les numéros de lignes\n",
    "#afficher_deplacement(num_lignes=False)  # pour ne voir aucun numéro"
   ]
  },
  {
   "cell_type": "code",
   "execution_count": null,
   "metadata": {},
   "outputs": [],
   "source": [
    "sauvegarder('exemple')  # dans une cellule séparée !"
   ]
  },
  {
   "cell_type": "markdown",
   "metadata": {},
   "source": [
    "Elle sauvegarde la dernière image créée au format PNG. Remplacez `'exemple'` par le nom de votre choix pour le fichier PNG.\n",
    "\n",
    "Pour enregistrer une grille vide :"
   ]
  },
  {
   "cell_type": "code",
   "execution_count": null,
   "metadata": {},
   "outputs": [],
   "source": [
    "centrer_alien()  # ligne obligatoire en début de chaque programme\n",
    "\n",
    "afficher_deplacement(num_lignes=False)"
   ]
  },
  {
   "cell_type": "code",
   "execution_count": null,
   "metadata": {},
   "outputs": [],
   "source": [
    "sauvegarder('grille')"
   ]
  },
  {
   "cell_type": "markdown",
   "metadata": {},
   "source": [
    "# Récupérer les cases d'un parcours\n",
    "\n",
    "On appelle la fonction `cases_du_parcours` après avoir écrit le programme souhaité :"
   ]
  },
  {
   "cell_type": "code",
   "execution_count": null,
   "metadata": {},
   "outputs": [],
   "source": [
    "centrer_alien()  # ligne obligatoire en début de chaque programme\n",
    "\n",
    "gauche(3)\n",
    "x = 4\n",
    "bas(x + 1)\n",
    "for i in range(3):\n",
    "    droite(2)\n",
    "    haut(2)\n",
    "\n",
    "# afficher_deplacement()  # à décommenter si besoin pour vérifier\n",
    "cases_du_parcours()"
   ]
  },
  {
   "cell_type": "markdown",
   "metadata": {},
   "source": [
    "---\n",
    "**Références** : \n",
    "- Le concept de l'alien et des programmes pour le déplacer dans la grille a été imaginé par Mathieu Degrange ([voir son projet sur GitHub](https://github.com/DegrangeM/alien-python)). Son projet est sous licence [MIT](https://fr.wikipedia.org/wiki/Licence_MIT). Merci à lui !\n",
    "- L'image de l'alien utilisée a été réalisée par [Kenney](https://www.kenney.nl/assets/platformer-pack-redux) et est sous licence [CC0](https://creativecommons.org/publicdomain/zero/1.0/).\n",
    "- Le module `alien_python` utilisé dans ce notebook a été développé par Germain Becker, pour rendre accessible le concept dans Basthon et donc dans Capytale.\n",
    "\n",
    "---\n",
    "Germain Becker, Lycée Emmanuel Mounier, ANGERS \n",
    "\n",
    "Ce document est diffusé sous la licence [CC BY-SA 4.0](https://creativecommons.org/licenses/by-sa/4.0/deed.fr).\n",
    "\n",
    "![Licence Creative Commons](https://i.creativecommons.org/l/by-sa/4.0/88x31.png)"
   ]
  }
 ],
 "metadata": {
  "kernelspec": {
   "display_name": "Python 3",
   "language": "python",
   "name": "python3"
  },
  "language_info": {
   "codemirror_mode": {
    "name": "ipython",
    "version": 3
   },
   "file_extension": ".py",
   "mimetype": "text/x-python",
   "name": "python",
   "nbconvert_exporter": "python",
   "pygments_lexer": "ipython3",
   "version": "3.7.10"
  }
 },
 "nbformat": 4,
 "nbformat_minor": 2
}
