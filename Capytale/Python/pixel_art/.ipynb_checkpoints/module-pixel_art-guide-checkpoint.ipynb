{
 "cells": [
  {
   "cell_type": "markdown",
   "metadata": {},
   "source": [
    "<h1 style=\"text-align:center;font-size:2.5em\">Présentation du module <code>pixel_art</code></h1>\n",
    "\n",
    "---\n",
    "\n",
    "![illustration](https://github.com/germainbecker/SNT/blob/master/Capytale/Python/pixel_art/coeur.png?raw=true)\n"
   ]
  },
  {
   "cell_type": "markdown",
   "metadata": {},
   "source": [
    "**SOMMAIRE**\n",
    "\n",
    "- [Introduction](#Introduction)\n",
    "- [Genèse du module](#Genèse-du-module)\n",
    "- [Les fonctionnalités de base](#Les-fonctionnalités-de-base)\n",
    "    - [Les trois fonctions indispensables](#Les-trois-fonctions-indispensables)\n",
    "    - [Modifier l'affichage de l'image](#Modifier-l'affichage-de-l'image)\n",
    "- [Travail en autonomie pour lire et comprendre un programme](#Travail-en-autonomie-pour-lire-et-comprendre-un-programme)\n",
    "    - [Dessiner librement avec `demarrer_dessin_libre`](#Dessiner-librement-avec-demarrer_dessin_libre)\n",
    "- [Travail en autonomie pour apprendre à écrire un programme](#Travail-en-autonomie-pour-apprendre-à-écrire-un-programme)\n",
    "    - [Vérifier un programme avec `verifier_programme`](#Vérifier-un-programme-avec-verifier_programme)\n",
    "    - [Définir un nombre maximal de lignes](#Définir-un-nombre-maximal-de-lignes)\n",
    "\n",
    "- [Pour l'enseignant qui prépare ses activités](#Pour-l'enseignant-qui-prépare-ses-activités)\n",
    "    - [Sauvegarder une image](#Sauvegarder-une-image)\n",
    "    - [Récupérer les pixels d'une image](#Récupérer-les-pixels-d'une-image)\n",
    "\n",
    "- [Fonctionnalités supplémentaires](#Fonctionnalités-supplémentaires)\n",
    "    - [Créer des pixels colorés](#Créer-des-pixels-colorés)\n",
    "    - [Créer une image à partir d'une liste de pixels](#Créer-une-image-à-partir-d'une-liste-de-pixels)\n",
    "\n",
    "- [Code source du module](#Code-source-du-module)"
   ]
  },
  {
   "cell_type": "markdown",
   "metadata": {},
   "source": [
    "# Introduction\n",
    "\n",
    "Le module `pixel_art` permet d'écrire des programmes Python pour créer des images en *pixel art*. L'idée est de faire travailler les élèves sur les notions algorithmiques, de manière débranchée ou non. On peut imaginer toutes sortes d'exercices pour cela, j'en dis davantage par la suite. \n",
    "\n",
    "**Mais avant d'en dire plus, commencez par afficher les numéros de lignes des cellules de code (Affichage > Afficher les numéros de ligne) puis exécutez les deux cellules suivantes pour tout de suite comprendre le principe !**"
   ]
  },
  {
   "cell_type": "code",
   "execution_count": null,
   "metadata": {},
   "outputs": [],
   "source": [
    "from pixel_art import *  # pour charger le module et ses fonctionnalités"
   ]
  },
  {
   "cell_type": "code",
   "execution_count": null,
   "metadata": {},
   "outputs": [],
   "source": [
    "creer_image(9, 9)  # ligne obligatoire en début de chaque programme pour créer l'image\n",
    "\n",
    "colorier(1, 4)\n",
    "x = 2\n",
    "y = 3\n",
    "colorier(x, y)\n",
    "x = x + 1\n",
    "y = y - 1\n",
    "colorier(x, y)\n",
    "\n",
    "for y in range(2, 8):\n",
    "    colorier(4, y)\n",
    "\n",
    "for k in range(4, 8):\n",
    "    colorier(k, k-3)\n",
    "\n",
    "afficher_image()  # pour afficher le pixel art créé"
   ]
  },
  {
   "cell_type": "markdown",
   "metadata": {},
   "source": [
    "<span style=\"font-size:3em\">📣</span> Ce qui suit a pour but d'expliquer *en détail* les différentes possibilités offertes par le module. **Vous trouverez une version beaucoup plus courte, donc avec moins d'explications, en suivant ce lien :** [https://capytale2.ac-paris.fr/basthon/notebook/?id=631927](https://capytale2.ac-paris.fr/basthon/notebook/?id=631927)."
   ]
  },
  {
   "cell_type": "markdown",
   "metadata": {},
   "source": [
    "# Genèse du module\n",
    "\n",
    "J'ai repris le travail formidable de **Mathieu Degrange** (voir ici son projet **Pyxel-Art** : [https://github.com/DegrangeM/pyxel-art](https://github.com/DegrangeM/pyxel-art)) qui permet de travailler les notions de programmation et d'algorithmique de manière débranchée avec les élèves. L'idée est de proposer aux élèves un programme Python générant une image en *pixel art*, les élèves devant dessiner cette image par simple *lecture* du programme donné. \n",
    "\n",
    "J'ai utilisé ce travail avec mes élèves de SNT cette année et j'ai le sentiment qu'ils ont apprécié. En SNT, on peut facilement faire le lien avec le thème de la photographie numérique, mais on peut bien entendu étendre ces exercices à des cours de mathématiques puisque l'objectif est avant tout de faire travailler les notions algorithmiques et de programmation.\n",
    "\n",
    "Le module `pixel_art` présenté ici va un peu plus loin que ce qu'a proposé Mathieu, il permet à la fois :\n",
    "\n",
    "- **aux enseignants** de préparer des exercices ou d'animer des activités sous forme de Notebook (ou de Script-Console) dans Capytale ou Basthon, \n",
    "- et **aux élèves** de s'entraîner en autonomie\n",
    "\n",
    "Plus précisément, les élèves peuvent :\n",
    "\n",
    "- **exécuter un programme** pour voir le pixel art créé\n",
    "- **dessiner un pixel art** (en cliquant sur les pixels) qui correspond à un programme donné\n",
    "- **compléter ou écrire complètement un programme** pour dessiner un pixel art comme sur une image fournie\n",
    "\n",
    "**Idées d'utilisation** :\n",
    "\n",
    "- **questions rapides** en classe : les élèves font sur papier et la correction vidéoprojetée peut se faire en exécutant le programme (pour introduire les notions ou les entretenir)\n",
    "- **travail en autonomie pour lire et comprendre un programme** : on leur communique un notebook avec différentes questions, il doivent dessiner le pixel art généré par le programme en cliquant sur les bons pixels puis il y a un système de vérification et de correction automatique de la réponse proposée par l'élève\n",
    "- **travail en autonomie pour apprendre à écrire un programme** : on leur communique un notebook avec différents exercices où les élèves doivent compléter, voire écrire entièrement, un programme pour créer le pixel art dont l'image est donnée, avec vérification et correction automatique de la proposition (un nombre de lignes maximal peut être fixé).\n",
    "\n",
    "><span style=\"font-size:1.7em\">⚠️</span> En l'état, ce module **fonctionne uniquement sous Basthon** (donc dans **Capytale** également) car il est basé sur le module `p5` porté par Romain Casati dans Basthon (basé lui-même sur la bibliothèque JavaScript `p5.js`, mais qui diffère du module `p5` de Python).\n"
   ]
  },
  {
   "cell_type": "markdown",
   "metadata": {},
   "source": [
    "# Les fonctionnalités de base\n",
    "\n",
    "Le module `pixel_art` est un simple fichier Python appelé `pixel_art.py` qui est à joindre à l'activité sur Capytale ou sur Basthon (dans un Notebook ou un Script-Console). On peut importer ce module avec la ligne suivante, qui est donc à exécuter au début de l'activité."
   ]
  },
  {
   "cell_type": "code",
   "execution_count": null,
   "metadata": {},
   "outputs": [],
   "source": [
    "from pixel_art import *"
   ]
  },
  {
   "cell_type": "markdown",
   "metadata": {},
   "source": [
    "Il faut également **afficher les numéros de lignes** des cellules de code du notebook, car celles-ci sont affichées par défaut à côté de chaque position du déplacement. Pour cela, il suffit de cliquer sur Affichage puis sur Afficher/Masquer les numéros de ligne.\n",
    "\n",
    "## Les trois fonctions indispensables\n",
    "\n",
    "Une fois le module chargé, son utilisation est assez simple, avec les trois fonctions suivantes l'utilisateur peut créer une image, colorier des pixels et afficher le pixel art obtenu :\n",
    "\n",
    "- `creer_image(largeur, hauteur)` permet de créer une image de taille largeur\\*hauteur\n",
    "- `colorier(x, y)` permet de colorier le pixel de coordonnées (x, y). Par défaut, le pixel est colorié en gris.\n",
    "- `afficher_image()` permet d'afficher l'image créée.\n",
    "\n",
    "**Exemple**\n",
    "\n",
    "Par exemple, le programme qui suit permet de :\n",
    "\n",
    "- créer une image de taille 9\\*9 pixels\n",
    "- puis colorier certains des ses pixels\n",
    "- et enfin afficher l'image créée"
   ]
  },
  {
   "cell_type": "code",
   "execution_count": null,
   "metadata": {},
   "outputs": [],
   "source": [
    "creer_image(9, 9)\n",
    "\n",
    "colorier(1, 4)\n",
    "x = 2\n",
    "y = 3\n",
    "colorier(x, y)\n",
    "x = x + 1\n",
    "y = y - 1\n",
    "colorier(x, y)\n",
    "\n",
    "for y in range(2, 8):\n",
    "    colorier(4, y)\n",
    "\n",
    "for k in range(4, 8):\n",
    "    colorier(k, k-3)\n",
    "\n",
    "afficher_image()"
   ]
  },
  {
   "cell_type": "markdown",
   "metadata": {},
   "source": [
    "## Modifier l'affichage de l'image\n",
    "\n",
    "La fonction `afficher_image` possède 5 paramètres optionnels : \n",
    "\n",
    "```python\n",
    "def afficher_image(correction=False, tp=30, grille=True, coord=True, animation=False)\n",
    "    ...\n",
    "```\n",
    "\n",
    "Par défaut :\n",
    "\n",
    "- la correction n'est pas affichée\n",
    "- un pixel est dessiné comme un carré de 30 pixels de côté\n",
    "- les coordonnées sont affichées\n",
    "- un quadrillage est présent\n",
    "- l'animation est désactivée\n",
    "\n",
    "Cela peut tout à fait suffire, mais on peut néanmoins modifier le comportement par défaut en modifiant les paramètres par défaut de la fonction `afficher_image` :\n",
    "\n",
    "- mettre le paramètre `correction` à `True` pour afficher sur chaque pixel colorié la ligne du code qui l'a colorié\n",
    "- donner au paramètre `tp` une autre valeur que 30 par défaut pour la taille d'un pixel\n",
    "- mettre le paramètre `grille` à `False` pour ne pas afficher la grille (c'est-à-dire le quadrillage)\n",
    "- mettre le paramètre `coord` à `False` pour ne pas afficher les coordonnées\n",
    "- mettre le paramètre `animation` à `True` pour pouvoir afficher le pixel art en mode \"pas à pas\"\n",
    "\n",
    "### Exemple 1 : afficher la correction\n",
    "\n",
    "L'instruction\n",
    "\n",
    "```python\n",
    "afficher_image(correction=True)\n",
    "```\n",
    "\n",
    "permet d'afficher la correction :"
   ]
  },
  {
   "cell_type": "code",
   "execution_count": null,
   "metadata": {},
   "outputs": [],
   "source": [
    "creer_image(5, 5)\n",
    "\n",
    "colorier(0, 1)\n",
    "for x in range(2, 5):\n",
    "    colorier(x, 3)\n",
    "\n",
    "afficher_image(correction=True)"
   ]
  },
  {
   "cell_type": "markdown",
   "metadata": {},
   "source": [
    "**Analyse** : On voit donc que le pixel (0, 1) a été colorié par la ligne 3 du script tandis que les trois autres l'ont été par ligne 5 du script.\n",
    "\n",
    "> <span style=\"font-size:1.7em\">⚠️</span> Pour faire le lien avec le numéro de ligne, il est indispensable d'afficher ces numéros de ligne (en cliquant Affichage puis sur \"Afficher/Masquer les numéros de ligne\").\n",
    "\n",
    "###  Exemple 2 : modifier taille des pixels\n",
    "\n",
    "L'instruction \n",
    "\n",
    "```python\n",
    "afficher_image(tp=20)\n",
    "```\n",
    "\n",
    "permet d'afficher chaque pixel comme un carré de côté 20 pixels :"
   ]
  },
  {
   "cell_type": "code",
   "execution_count": null,
   "metadata": {},
   "outputs": [],
   "source": [
    "creer_image(5, 5)\n",
    "colorier(4, 1)\n",
    "afficher_image(tp=20)"
   ]
  },
  {
   "cell_type": "markdown",
   "metadata": {},
   "source": [
    "### Exemple 3 : masquer les coordonnées\n",
    "\n",
    "L'instruction\n",
    "\n",
    "```python\n",
    "afficher_image(coord=False)\n",
    "```\n",
    "\n",
    "permet de ne pas afficher les coordonnées :"
   ]
  },
  {
   "cell_type": "code",
   "execution_count": null,
   "metadata": {},
   "outputs": [],
   "source": [
    "creer_image(5, 5)\n",
    "colorier(4, 1)\n",
    "afficher_image(coord=False)"
   ]
  },
  {
   "cell_type": "markdown",
   "metadata": {},
   "source": [
    "### Exemple 4 : masquer la grille\n",
    "\n",
    "L'instruction\n",
    "\n",
    "```python\n",
    "afficher_image(grille=False)\n",
    "```\n",
    "\n",
    "permet de ne pas afficher le quadrillage :"
   ]
  },
  {
   "cell_type": "code",
   "execution_count": null,
   "metadata": {},
   "outputs": [],
   "source": [
    "creer_image(5, 5)\n",
    "colorier(4, 1)\n",
    "afficher_image(grille=False)"
   ]
  },
  {
   "cell_type": "markdown",
   "metadata": {},
   "source": [
    "### Exemple 5 :  animer le pixel art\n",
    "\n",
    "L'instruction \n",
    "\n",
    "```python\n",
    "afficher_image(animation=True)\n",
    "```\n",
    "\n",
    "permet d'afficher des boutons en-dessous de l'image pour afficher l'image en mode pas à pas, ce qui peut être utile pour expliquer/comprendre le rôle de chaque ligne d'un programme :"
   ]
  },
  {
   "cell_type": "code",
   "execution_count": null,
   "metadata": {},
   "outputs": [],
   "source": [
    "creer_image(9, 9)\n",
    "\n",
    "colorier(1, 4)\n",
    "x = 2\n",
    "y = 3\n",
    "colorier(x, y)\n",
    "x = x + 1\n",
    "y = y - 1\n",
    "colorier(x, y)\n",
    "\n",
    "for y in range(2, 8):\n",
    "    colorier(4, y)\n",
    "\n",
    "for k in range(4, 8):\n",
    "    colorier(k, k-3)\n",
    "\n",
    "afficher_image(animation=True, correction=True)"
   ]
  },
  {
   "cell_type": "markdown",
   "metadata": {},
   "source": [
    "> <span style=\"font-size:1.7em\">⚠️</span> L'animation n'est possible que sur des images ayant une définition inférieure ou égale à 1000 pixels."
   ]
  },
  {
   "cell_type": "markdown",
   "metadata": {},
   "source": [
    "### Exemple 6 : combiner les paramètres\n",
    "\n",
    "On peut combiner les 5 paramètres par défaut comme on le souhaite :"
   ]
  },
  {
   "cell_type": "code",
   "execution_count": null,
   "metadata": {},
   "outputs": [],
   "source": [
    "creer_image(5, 5)\n",
    "\n",
    "for x in range(5):\n",
    "    for y in range(5):\n",
    "        if x != 1 and y != 2:\n",
    "            colorier(x, y)\n",
    "\n",
    "afficher_image(correction=True, tp=70, coord=False)"
   ]
  },
  {
   "cell_type": "markdown",
   "metadata": {},
   "source": [
    "# Travail en autonomie pour lire et comprendre un programme\n",
    "\n",
    "Il est possible de proposer un travail en autonomie des élèves. Les élèves qui souhaitent s'entraîner peuvent également travailler en autonomie. Deux possibilités s'offrent à eux :\n",
    "\n",
    "## Dessiner librement avec `demarrer_dessin_libre`\n",
    "\n",
    "Pour proposer une image interactive dans laquelle on peut colorier les pixels par simples clics, il suffit de remplacer la dernière ligne par un appel à la fonction `demarrer_dessin_libre` :"
   ]
  },
  {
   "cell_type": "code",
   "execution_count": null,
   "metadata": {},
   "outputs": [],
   "source": [
    "creer_image(9,9)\n",
    "\n",
    "for k in range(4):\n",
    "    colorier(k, k)\n",
    "\n",
    "demarrer_dessin_libre()"
   ]
  },
  {
   "cell_type": "markdown",
   "metadata": {},
   "source": [
    "**Remarques** :\n",
    "- Tant que le bon pixel art n'est pas dessiné, on peut retenter sa chance.\n",
    "- Le bouton \"Effacer\" permet de réinitialiser le pixel art.\n",
    "- Le bouton \"Réponse\" permet d'afficher la réponse et stoppe le programme (il faut l'exécuter à nouveau si on veut interagir à nouveau avec la fenêtre graphique).\n",
    "\n",
    "On peut aussi choisir que la réponse affichée le soit avec les numéros de lignes du script sur chaque pixel coloré. Il suffit d'ajouter le paramètre `correction=True`"
   ]
  },
  {
   "cell_type": "code",
   "execution_count": null,
   "metadata": {},
   "outputs": [],
   "source": [
    "creer_image(4, 4)\n",
    "\n",
    "for k in range(4):\n",
    "    colorier(k, k)\n",
    "\n",
    "demarrer_dessin_libre(correction=True)"
   ]
  },
  {
   "cell_type": "markdown",
   "metadata": {},
   "source": [
    "> On peut aussi choisir une autre taille pour les pixels grâce au paramètre `tp` comme précédemment (par exemple `demarrer_dessin_libre(tp=50)`)."
   ]
  },
  {
   "cell_type": "markdown",
   "metadata": {},
   "source": [
    "# Travail en autonomie pour apprendre à écrire un programme\n",
    "\n",
    "> Ce travail peut être entrepris une fois que les élèves ont bien compris le rôle de la fonction `colorier`.\n",
    "\n",
    "Les exemples proposés jusqu'alors permettait de faire travailler les élèves sur la compréhension d'un programme. L'idée est désormais qu'ils apprennent à programmer : on propose aux élèves une image d'un pixel art et ces derniers doivent compléter ou écrire un programme permettant de réaliser le pixel art en question.\n",
    "\n",
    "> On pourrait demander aux élèves d'exécuter le programme qu'ils ont écrit en le terminant par `afficher_image`, puis de comparer le pixel_art obtenu avec celui demandé. Mais ici on propose une vérification automatique.\n",
    "\n",
    "## Vérifier un programme avec `verifier_programme`\n",
    "\n",
    "On peut aussi utiliser la fonction `verifier_programme(liste_bons_pixels, nb_max_lignes=None, ...)` en dernière ligne du programme qui permet de vérifier si ce dernier est correct ou non. Pour cela, le professeur doit passer en paramètre à la fonction :\n",
    "    - la liste des bons pixels du parcours : `liste_bons_pixels`\n",
    "    - éventuellement le nombre maximum de lignes attendu : en changeant la valeur par défaut `None` du paramètre `nb_max_lignes`\n",
    "    - éventuellement des paramètres optionnels pour modifier la taille des pixels, afficher ou non les coordonnées et/ou la grille\n",
    "\n",
    "On détaille cela ci-dessous sur quelques exemples d'énoncés."
   ]
  },
  {
   "cell_type": "markdown",
   "metadata": {},
   "source": [
    "### Exercice 1 (sans nombre maximal de lignes)\n",
    "\n",
    "#### Énoncé\n",
    "\n",
    "Complétez le programme ci-dessous pour créer le pixel art suivant.\n",
    "![un pixel art](https://github.com/germainbecker/SNT/blob/master/Capytale/Python/pixel_art/ex1.png?raw=true)"
   ]
  },
  {
   "cell_type": "code",
   "execution_count": null,
   "metadata": {},
   "outputs": [],
   "source": [
    "creer_image(..., ...)\n",
    "\n",
    "for k in range(...):\n",
    "    colorier(..., ...)\n",
    "\n",
    "verifier_programme([[(150, 150, 150), (255, 255, 255), (255, 255, 255), (255, 255, 255)], [(255, 255, 255), (150, 150, 150), (255, 255, 255), (255, 255, 255)], [(255, 255, 255), (255, 255, 255), (150, 150, 150), (255, 255, 255)], [(255, 255, 255), (255, 255, 255), (255, 255, 255), (150, 150, 150)]])"
   ]
  },
  {
   "cell_type": "markdown",
   "metadata": {},
   "source": [
    "**Remarques** : \n",
    "- on termine le programme avec un appel à la fonction `verifier_programme`, c'est obligatoire\n",
    "- le premier paramètre à lui passer est la liste des bons pixels attendus, que doit renseigner le professeur (une fonction est proposée pour récupérer cette liste de pixels sans avoir à l'écrire entièrement, voir plus loin)\n",
    "\n",
    "#### À la place de l'élève\n",
    "\n",
    "Si l'élève complète correctement le code, cela donne (je vous laisse essayer par vous-même le cas de programmes incorrects) :"
   ]
  },
  {
   "cell_type": "code",
   "execution_count": null,
   "metadata": {},
   "outputs": [],
   "source": [
    "creer_image(4, 4)\n",
    "\n",
    "for k in range(4):\n",
    "    colorier(k, k)\n",
    "\n",
    "verifier_programme([[(150, 150, 150), (255, 255, 255), (255, 255, 255), (255, 255, 255)], [(255, 255, 255), (150, 150, 150), (255, 255, 255), (255, 255, 255)], [(255, 255, 255), (255, 255, 255), (150, 150, 150), (255, 255, 255)], [(255, 255, 255), (255, 255, 255), (255, 255, 255), (150, 150, 150)]])"
   ]
  },
  {
   "cell_type": "markdown",
   "metadata": {},
   "source": [
    "**IMPORTANT** : Comme la liste des pixels attendus peut être longue, il peut être intéressant :\n",
    "\n",
    "- soit d'utiliser une autre cellule pour créer la liste des pixels attendus, cellule qu'il faut bien sûr exécuter avant le programme\n",
    "- soit de la stocker dans un **fichier Python annexe**, que l'on ajoute à l'activité Notebook et que l'on importe au début en même temps que le module.\n",
    "\n",
    "Supposons que la liste de pixels attendue comme réponse à un exercice est la suivante :\n",
    "\n",
    "```python\n",
    "[\n",
    "    [(150, 150, 150), (255, 255, 255), (255, 255, 255), (255, 255, 255)],\n",
    "    [(255, 255, 255), (150, 150, 150), (255, 255, 255), (255, 255, 255)],\n",
    "    [(255, 255, 255), (255, 255, 255), (150, 150, 150), (255, 255, 255)],\n",
    "    [(255, 255, 255), (255, 255, 255), (255, 255, 255), (150, 150, 150)]\n",
    "]\n",
    "```\n",
    "\n",
    "**Cas où la liste est stockée directement dans une variable du notebook**\n",
    "\n",
    "On peut stocker cette liste dans une variable directement dans le notebook :"
   ]
  },
  {
   "cell_type": "code",
   "execution_count": null,
   "metadata": {},
   "outputs": [],
   "source": [
    "pixels_ex1 = [\n",
    "    [(150, 150, 150), (255, 255, 255), (255, 255, 255), (255, 255, 255)],\n",
    "    [(255, 255, 255), (150, 150, 150), (255, 255, 255), (255, 255, 255)],\n",
    "    [(255, 255, 255), (255, 255, 255), (150, 150, 150), (255, 255, 255)],\n",
    "    [(255, 255, 255), (255, 255, 255), (255, 255, 255), (150, 150, 150)]\n",
    "]"
   ]
  },
  {
   "cell_type": "markdown",
   "metadata": {},
   "source": [
    "Cette dernière cellule doit être exécutée !! On remplace la dernière ligne de l'exercice comme ci-dessous :"
   ]
  },
  {
   "cell_type": "code",
   "execution_count": null,
   "metadata": {},
   "outputs": [],
   "source": [
    "creer_image(..., ...)\n",
    "\n",
    "for k in range(...):\n",
    "    colorier(..., ...)\n",
    "\n",
    "verifier_programme(pixels_ex1)"
   ]
  },
  {
   "cell_type": "markdown",
   "metadata": {},
   "source": [
    "**Cas où la liste est stockée dans un fichier annexe**\n",
    "\n",
    "Un fichier annexe, appelé `reponses.py` est attaché à cette activité. Vous pouvez télécharger ce fichier en allant sur la liste des fichiers annexes <button class='fa fa-paperclip icon-save btn btn-xs btn-default'></button>.\n",
    "\n",
    "On a stocké la liste de pixels dans ce fichier annexe qui contient le code suivant (mais on pourrait y ajouter d'autres listes, pour d'autres exercices, autant que l'on souhaite) :\n",
    "\n",
    "```python\n",
    "pixels_ex1 = [\n",
    "    [(150, 150, 150), (255, 255, 255), (255, 255, 255), (255, 255, 255)],\n",
    "    [(255, 255, 255), (150, 150, 150), (255, 255, 255), (255, 255, 255)],\n",
    "    [(255, 255, 255), (255, 255, 255), (150, 150, 150), (255, 255, 255)],\n",
    "    [(255, 255, 255), (255, 255, 255), (255, 255, 255), (150, 150, 150)]\n",
    "]\n",
    "```"
   ]
  },
  {
   "cell_type": "markdown",
   "metadata": {},
   "source": [
    "Il faut importer ce module (le fichier annexe) avec la ligne suivante :"
   ]
  },
  {
   "cell_type": "code",
   "execution_count": null,
   "metadata": {},
   "outputs": [],
   "source": [
    "from reponses import *"
   ]
  },
  {
   "cell_type": "markdown",
   "metadata": {},
   "source": [
    "On a alors accès à la liste `pixels_ex1`, que l'on peut passer en paramètre de la fonction `verifier_programme` comme précédemment :"
   ]
  },
  {
   "cell_type": "code",
   "execution_count": null,
   "metadata": {},
   "outputs": [],
   "source": [
    "creer_image(..., ...)\n",
    "\n",
    "for k in range(...):\n",
    "    colorier(..., ...)\n",
    "\n",
    "verifier_programme(pixels_ex1)"
   ]
  },
  {
   "cell_type": "markdown",
   "metadata": {},
   "source": [
    "Cela fonctionne bien :"
   ]
  },
  {
   "cell_type": "code",
   "execution_count": null,
   "metadata": {},
   "outputs": [],
   "source": [
    "creer_image(4, 4)\n",
    "\n",
    "for k in range(4):\n",
    "    colorier(k, k)\n",
    "\n",
    "verifier_programme(pixels_ex1)"
   ]
  },
  {
   "cell_type": "markdown",
   "metadata": {},
   "source": [
    "## Définir un nombre maximal de lignes\n",
    "\n",
    "Un élève peut modifier le programme donné pour le remplacer par le sien. Ainsi, le programme suivant serait aussi jugé correct : "
   ]
  },
  {
   "cell_type": "code",
   "execution_count": null,
   "metadata": {},
   "outputs": [],
   "source": [
    "creer_image(4, 4)\n",
    "\n",
    "colorier(0, 0)\n",
    "colorier(1, 1)\n",
    "colorier(2, 2)\n",
    "colorier(3, 3)\n",
    "\n",
    "verifier_programme(pixels_ex1)"
   ]
  },
  {
   "cell_type": "markdown",
   "metadata": {},
   "source": [
    "Pour pallier à cela, et notamment pour tout ce qui concerne les boucles, on peut fixer un nombre maximal de lignes autorisées. C'est ce que l'on fait dans l'exercice 2."
   ]
  },
  {
   "cell_type": "markdown",
   "metadata": {},
   "source": [
    "### Exercice 2 (avec un nombre maximal de lignes)\n",
    "\n",
    "#### Énoncé\n",
    "\n",
    "Complétez le programme ci-dessous pour créer le pixel art suivant. **Attention, votre programme doit faire au maximum 3 lignes**.\n",
    "\n",
    "![un pixel art](https://github.com/germainbecker/SNT/blob/master/Capytale/Python/pixel_art/ex1.png?raw=true)"
   ]
  },
  {
   "cell_type": "code",
   "execution_count": null,
   "metadata": {},
   "outputs": [],
   "source": [
    "creer_image(..., ...)\n",
    "\n",
    "for k in range(...):\n",
    "    colorier(..., ...)\n",
    "\n",
    "verifier_programme(pixels_ex1, nb_max_lignes=3)"
   ]
  },
  {
   "cell_type": "markdown",
   "metadata": {},
   "source": [
    "**Remarque** : on ajouté `nb_max_lignes=3` en deuxième paramètre à la fonction `verifier_programme` pour qu'une réponse ne soit correcte que si le nombre maximum de lignes est inférieur ou égal à 3.\n",
    "\n",
    "#### À la place de l'élève\n",
    "\n",
    "Si l'élève tente la proposition précédente, cela n'est plus validée :"
   ]
  },
  {
   "cell_type": "code",
   "execution_count": null,
   "metadata": {},
   "outputs": [],
   "source": [
    "creer_image(4, 4)\n",
    "\n",
    "colorier(0, 0)\n",
    "colorier(1, 1)\n",
    "colorier(2, 2)\n",
    "colorier(3, 3)\n",
    "\n",
    "verifier_programme(pixels_ex1, nb_max_lignes=3)"
   ]
  },
  {
   "cell_type": "markdown",
   "metadata": {},
   "source": [
    "Et bien entendu, le programme attendu est bien validé :"
   ]
  },
  {
   "cell_type": "code",
   "execution_count": null,
   "metadata": {},
   "outputs": [],
   "source": [
    "creer_image(4, 4)\n",
    "\n",
    "for k in range(4):\n",
    "    colorier(k, k)\n",
    "\n",
    "verifier_programme(pixels_ex1, nb_max_lignes=3)"
   ]
  },
  {
   "cell_type": "markdown",
   "metadata": {},
   "source": [
    "**Remarques** :\n",
    "\n",
    "- La ligne avec l'instruction obligatoire `creer_image()` *est* comptée dans le nombre de lignes du programme de l'élève, il faut donc en tenir compte dans le nombre maximal que vous fixez.\n",
    "- La ligne avec l'appel à la fonction `verifier_programme` *n'est* quant à elle *pas* comptée dans le nombre de lignes du programme, de même que toute ligne située *après* l'appel à cette fonction.\n",
    "- Les lignes vides ou constituées uniquement d'espaces (parfois oubliées) ne sont pas comptabilisées !\n",
    "- ⚠️ Un élève qui écrit plusieurs instructions sur une ligne, par exemple `colorier(0, 0), colorier(1, 1), colorier(2, 2), colorier(3, 3)` ou `for k in range(4): colorier(k, k)` ne sera en revanche pas démasqué !\n"
   ]
  },
  {
   "cell_type": "markdown",
   "metadata": {},
   "source": [
    "# Pour l'enseignant qui prépare ses activités\n",
    "\n",
    "Deux fonctionnalités sont prévues pour l'enseignant préparant une activité :\n",
    "- le moyen de sauvegarder les images créées (pour les intégrer à l'activité proposée aux élèves)\n",
    "- le moyen d'obtenir la liste des pixels d'une image créée afin de la stocker et l'utiliser pour tester la justesse d'un programme avec la fonction `verifier_programme`\n",
    "\n",
    "**Tout ceci se trouve dans le notebook plus *synthétique* disponible à cette adresse : [https://capytale2.ac-paris.fr/basthon/notebook/?id=631927](https://capytale2.ac-paris.fr/basthon/notebook/?id=631927)**.\n",
    "\n",
    "## Sauvegarder une image\n",
    "\n",
    "La fonction `sauvegarder(nom_fichier)` permet de télécharger au format PNG l'image créée. Notez que `nom_fichier` est un paramètre optionnel qui est une chaîne de caractères (par exemple `sauvegarder(\"mon_image\")` télécharge l'image dans `mon_image.png`, tandis que `sauvegarder()` télécharge l'image dans `untitled.png`)\n",
    "\n",
    "**Attention**, il est nécessaire d'afficher l'image **avant** de la télécharger car la fonction `sauvegarder` télécharge ce qui est affiché à l'écran.\n",
    "\n",
    "Voici deux exemples :"
   ]
  },
  {
   "cell_type": "code",
   "execution_count": null,
   "metadata": {},
   "outputs": [],
   "source": [
    "creer_image(4, 4)\n",
    "\n",
    "for k in range(4):\n",
    "    colorier(k, k)\n",
    "\n",
    "afficher_image()  # AVANT de sauvegarder l'image\n",
    "sauvegarder('exemple1')"
   ]
  },
  {
   "cell_type": "markdown",
   "metadata": {},
   "source": [
    "En particulier, on peut aussi facilement sauvegarder les images correspondant à des grilles vides destinées aux énoncés à donner aux élèves :"
   ]
  },
  {
   "cell_type": "code",
   "execution_count": null,
   "metadata": {},
   "outputs": [],
   "source": [
    "creer_image(9, 9)\n",
    "afficher_image()  # AVANT de sauvegarder l'image\n",
    "sauvegarder(\"grille_9x9\")"
   ]
  },
  {
   "cell_type": "markdown",
   "metadata": {},
   "source": [
    "## Récupérer les pixels d'une image\n",
    "\n",
    "On peut utiliser la fonction `recuperer_pixels` qui renvoie la liste des valeurs de tous les pixels de la dernière image créée (qu'il n'est pas nécessaire d'afficher) :"
   ]
  },
  {
   "cell_type": "code",
   "execution_count": null,
   "metadata": {},
   "outputs": [],
   "source": [
    "creer_image(4, 4)\n",
    "\n",
    "for k in range(4):\n",
    "    colorier(k, k)\n",
    "\n",
    "afficher_image()  # non obligatoire\n",
    "\n",
    "recuperer_pixels()"
   ]
  },
  {
   "cell_type": "markdown",
   "metadata": {},
   "source": [
    "Il suffit alors de copier coller cette liste dans une cellule du notebook ou dans un fichier annexe."
   ]
  },
  {
   "cell_type": "markdown",
   "metadata": {},
   "source": [
    "# Fonctionnalités supplémentaires\n",
    "\n",
    "## Créer des pixels colorés\n",
    "\n",
    "La fonction `colorier` possède un troisième paramètre optionnel correspondant à la couleur du pixel, qui est par défaut la nuance de gris `(150, 150, 150)` :\n",
    "\n",
    "```python\n",
    "def colorier(x, y, couleur=(150,150,150)):\n",
    "    ...\n",
    "```\n",
    "\n",
    "On peut donc spécifier un troisième paramètre à cette fonction : un triplet `(r, v, b)` correspondant aux composantes RVB du pixel.\n",
    "\n",
    "Par exemple :"
   ]
  },
  {
   "cell_type": "code",
   "execution_count": null,
   "metadata": {},
   "outputs": [],
   "source": [
    "creer_image(5, 5)\n",
    "colorier(3, 1, (255, 0, 255))\n",
    "afficher_image()"
   ]
  },
  {
   "cell_type": "markdown",
   "metadata": {},
   "source": [
    "Même si ce n'est pas l'objectif initial du module, on peut facilement créer les images colorées que l'on souhaite :"
   ]
  },
  {
   "cell_type": "code",
   "execution_count": null,
   "metadata": {},
   "outputs": [],
   "source": [
    "creer_image(300, 200)\n",
    "\n",
    "for x in range(0, 100):\n",
    "    for y in range(0, 200):\n",
    "        colorier(x, y, (0, 33, 83))\n",
    "for x in range(200, 300):\n",
    "    for y in range(0, 200):\n",
    "        colorier(x, y, (207, 9, 33))\n",
    "\n",
    "afficher_image(tp=1, grille=False, coord=False)"
   ]
  },
  {
   "cell_type": "markdown",
   "metadata": {},
   "source": [
    "> <span style=\"font-size:1.7em\">📣</span> Remarquez qu'il est sans doute préférable de modifier le module pour optimiser les performances si on souhaite créer des images plus \"grandes\"."
   ]
  },
  {
   "cell_type": "markdown",
   "metadata": {},
   "source": [
    "## Créer une image à partir d'une liste de pixels\n",
    "\n",
    "Enfin, même si on s'éloigne un peu de l'objectif initial, on peut également utiliser la fonction `mettre_dans_image(liste_pixels)` pour créer une image à partir d'une liste de pixels :"
   ]
  },
  {
   "cell_type": "code",
   "execution_count": null,
   "metadata": {},
   "outputs": [],
   "source": [
    "pixels = [\n",
    "    [(255, 255, 255), (0, 0, 0), (255, 0, 255)],\n",
    "    [(0, 0, 200), (255, 0, 100), (25, 214, 65)]\n",
    "]\n",
    "\n",
    "mettre_dans_image(pixels)\n",
    "\n",
    "afficher_image()"
   ]
  },
  {
   "cell_type": "markdown",
   "metadata": {},
   "source": [
    "# Code source du module\n",
    "\n",
    "Vous pouvez consulter ou télécharger le fichier `pixel_art.py` dans les pièces jointes de ce notebook. Pour voir la dernière version de ce fichier, suivez ce lien : [https://github.com/germainbecker/SNT/blob/master/Capytale/Python/pixel_art/pixel_art.py](https://github.com/germainbecker/SNT/blob/master/Capytale/Python/pixel_art/pixel_art.py)\n",
    "\n",
    "Ce module est basé principalement sur le module `p5` disponible dans Basthon (et donc Capytale)."
   ]
  },
  {
   "cell_type": "markdown",
   "metadata": {},
   "source": [
    "---\n",
    "**Références** : \n",
    "- Le concept des exercices a été imaginé par Mathieu Degrange. Son projet ([voir sur GitHub](https://github.com/DegrangeM/pyxel-art)) est sous licence [MIT](https://fr.wikipedia.org/wiki/Licence_MIT). Merci à lui !\n",
    "- Le module `pixel_art` utilisé dans ce notebook a été développé par Germain Becker, pour rendre accessible le concept dans Basthon et donc dans Capytale.\n",
    "\n",
    "---\n",
    "Germain Becker, Lycée Emmanuel Mounier, ANGERS \n",
    "\n",
    "Ce document est diffusé sous la licence [CC BY-SA 4.0](https://creativecommons.org/licenses/by-sa/4.0/deed.fr).\n",
    "\n",
    "![Licence Creative Commons](https://i.creativecommons.org/l/by-sa/4.0/88x31.png)"
   ]
  }
 ],
 "metadata": {
  "kernelspec": {
   "display_name": "Python 3",
   "language": "python",
   "name": "python3"
  },
  "language_info": {
   "codemirror_mode": {
    "name": "ipython",
    "version": 3
   },
   "file_extension": ".py",
   "mimetype": "text/x-python",
   "name": "python",
   "nbconvert_exporter": "python",
   "pygments_lexer": "ipython3",
   "version": "3.7.10"
  }
 },
 "nbformat": 4,
 "nbformat_minor": 2
}
