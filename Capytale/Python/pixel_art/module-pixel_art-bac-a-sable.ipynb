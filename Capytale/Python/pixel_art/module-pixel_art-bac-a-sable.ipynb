{
 "cells": [
  {
   "cell_type": "markdown",
   "metadata": {},
   "source": [
    "<h1 style=\"text-align:center; font-size:2.5em\">Préparer ses exercices avec <code>pixel_art</code></h1>\n",
    "\n",
    "---\n",
    "\n",
    "**Sommaire** :\n",
    "\n",
    "- [Importation du module](#Importation-du-module)\n",
    "- [Écrire et tester un programme](#Écrire-et-tester-un-programme)\n",
    "    - [Afficher un déplacement](#Afficher-un-déplacement)\n",
    "    - [Sélectionner la case finale](#Sélectionner-la-case-finale)\n",
    "    - [Dessiner tout le parcours](#Dessiner-tout-le-parcours)\n",
    "    - [Vérifier un programme](#Vérifier-un-programme)\n",
    "- [Sauvegarder une image](#Sauvegarder-une-image)\n",
    "- [Récupérer les cases d'un parcours](#Récupérer-les-cases-d'un-parcours)"
   ]
  },
  {
   "cell_type": "markdown",
   "metadata": {},
   "source": [
    "# Importation du module\n",
    "\n",
    "On commence par importer le module `pixel_art` qui doit être au préalable attaché à l'activité (voir la liste des fichiers annexes <button class='fa fa-paperclip icon-save btn btn-xs btn-default'></button>) :"
   ]
  },
  {
   "cell_type": "code",
   "execution_count": null,
   "metadata": {},
   "outputs": [],
   "source": [
    "from pixel_art import *  # pour charger le module et ses fonctionnalités"
   ]
  },
  {
   "cell_type": "markdown",
   "metadata": {},
   "source": [
    "> Vous pouvez télécharger le module en accédant à la liste des fichiers annexes <button class='fa fa-paperclip icon-save btn btn-xs btn-default'></button> ou voir la dernière version directement ici : [https://github.com/germainbecker/SNT/blob/master/Capytale/Python/pixel_art/pixel_art.py](https://github.com/germainbecker/SNT/blob/master/Capytale/Python/pixel_art/pixel_art.py).\n",
    "\n",
    "**Pensez aussi à afficher les numéros de ligne des cellules de code : Affichage > Afficher/Masquer les numéros de ligne**."
   ]
  },
  {
   "cell_type": "markdown",
   "metadata": {},
   "source": [
    "# Écrire un programme et afficher l'image correspondante\n",
    "\n",
    "Il suffit d'écrire le programme et d'appeler la fonction `afficher_image` pour finir, avec les paramètres souhaités :"
   ]
  },
  {
   "cell_type": "code",
   "execution_count": null,
   "metadata": {},
   "outputs": [],
   "source": [
    "creer_image(5, 5)\n",
    "\n",
    "colorier(0, 1)\n",
    "for x in range(2, 5):\n",
    "    colorier(x, 3)\n",
    "\n",
    "afficher_image()\n",
    "#afficher_image(correction=True)  # pour voir les numéros de lignes du script\n",
    "#afficher_image(tp=20)  # pour modifier la taille des pixels (30 par défaut)\n",
    "#afficher_image(coord=False)  # pour masquer les coordonnées\n",
    "#afficher_image(grille=False)  # pour masquer la grille"
   ]
  },
  {
   "cell_type": "markdown",
   "metadata": {},
   "source": [
    "On peut aussi animer le pixel art en donnant la valeur `True` au paramètre `animation` :"
   ]
  },
  {
   "cell_type": "code",
   "execution_count": null,
   "metadata": {},
   "outputs": [],
   "source": [
    "creer_image(5, 5)\n",
    "\n",
    "colorier(0, 1)\n",
    "for x in range(2, 5):\n",
    "    colorier(x, 3)\n",
    "\n",
    "afficher_image(animation=True) "
   ]
  },
  {
   "cell_type": "markdown",
   "metadata": {},
   "source": [
    "**Remarques** :\n",
    "- Il est possible de combiner tous ces paramètres.\n",
    "- L'animation n'est possible que pour des images dont la définition est inférieure ou égale à 1000 pixels (pour des raisons de mémoire)"
   ]
  },
  {
   "cell_type": "markdown",
   "metadata": {},
   "source": [
    "# Dessiner librement avec `demarrer_dessin_libre`\n",
    "\n",
    "On utilise la fonction `demarrer_dessin_libre` à la place de `afficher_image` :"
   ]
  },
  {
   "cell_type": "code",
   "execution_count": null,
   "metadata": {},
   "outputs": [],
   "source": [
    "creer_image(5, 5)\n",
    "\n",
    "for k in range(4):\n",
    "    colorier(k, k)\n",
    "\n",
    "demarrer_dessin_libre()\n",
    "#demarrer_dessin_libre(correction=True)  # pour afficher les numéros de lignes du scrip"
   ]
  },
  {
   "cell_type": "markdown",
   "metadata": {},
   "source": [
    "# Vérifier un programme avec `verifier_programme`\n",
    "\n",
    "On utilise la fonction `verifier_programme` en lui passant la liste des pixels attendue :"
   ]
  },
  {
   "cell_type": "code",
   "execution_count": null,
   "metadata": {},
   "outputs": [],
   "source": [
    "creer_image(4, 4)\n",
    "\n",
    "for k in range(4):\n",
    "    colorier(k, k)\n",
    "\n",
    "verifier_programme([[(150, 150, 150), (255, 255, 255), (255, 255, 255), (255, 255, 255)], [(255, 255, 255), (150, 150, 150), (255, 255, 255), (255, 255, 255)], [(255, 255, 255), (255, 255, 255), (150, 150, 150), (255, 255, 255)], [(255, 255, 255), (255, 255, 255), (255, 255, 255), (150, 150, 150)]])"
   ]
  },
  {
   "cell_type": "markdown",
   "metadata": {},
   "source": [
    "Si vous trouvez la liste de pixels trop longue, il est possible de la stocker dans un fichier annexe et d'importer ce fichier (on peut aussi la stocker dans une variable dans une autre cellule). Ici, dans le fichier annexe `reponses.py` attaché à ce notebook, on a définit une liste `pixels_ex1` dont la valeur est la liste des pixels attendus."
   ]
  },
  {
   "cell_type": "code",
   "execution_count": null,
   "metadata": {},
   "outputs": [],
   "source": [
    "from reponses import *  # pour importer tout le module reponses.py"
   ]
  },
  {
   "cell_type": "code",
   "execution_count": null,
   "metadata": {},
   "outputs": [],
   "source": [
    "creer_image(4, 4)\n",
    "\n",
    "for k in range(4):\n",
    "    colorier(k, k)\n",
    "\n",
    "verifier_programme(pixels_ex1)"
   ]
  },
  {
   "cell_type": "markdown",
   "metadata": {},
   "source": [
    "On peut alors facilement proposer des exercices *à trous* pour les élèves :\n",
    "\n",
    "**EXEMPLE** : Complétez le programme ci-dessous pour créer le pixel art suivant.\n",
    "![un pixel art](ex1.png)"
   ]
  },
  {
   "cell_type": "code",
   "execution_count": null,
   "metadata": {},
   "outputs": [],
   "source": [
    "creer_image(..., ...)\n",
    "\n",
    "for k in range(...):\n",
    "    colorier(..., ...)\n",
    "\n",
    "verifier_programme(pixels_ex1)"
   ]
  },
  {
   "cell_type": "markdown",
   "metadata": {},
   "source": [
    "# Sauvegarder une image\n",
    "\n",
    "Il suffit d'appeler la fonction `sauvegarder` une fois que l'image a été affichée :"
   ]
  },
  {
   "cell_type": "code",
   "execution_count": null,
   "metadata": {},
   "outputs": [],
   "source": [
    "creer_image(4, 4)\n",
    "\n",
    "for k in range(4):\n",
    "    colorier(k, k)\n",
    "\n",
    "afficher_image()  # AVANT de sauvegarder l'image\n",
    "sauvegarder('exemple1')"
   ]
  },
  {
   "cell_type": "code",
   "execution_count": null,
   "metadata": {},
   "outputs": [],
   "source": [
    "# IMAGE D'UNE GRILLE VIDE\n",
    "creer_image(9, 9)\n",
    "afficher_image()  # AVANT de sauvegarder l'image\n",
    "sauvegarder(\"grille_9x9\")"
   ]
  },
  {
   "cell_type": "markdown",
   "metadata": {},
   "source": [
    "# Récupérer les pixels d'une image\n",
    "\n",
    "On appelle la fonction `recuperer_pixels` après avoir écrit le programme :"
   ]
  },
  {
   "cell_type": "code",
   "execution_count": null,
   "metadata": {},
   "outputs": [],
   "source": [
    "creer_image(4, 4)\n",
    "\n",
    "for k in range(4):\n",
    "    colorier(k, k)\n",
    "\n",
    "afficher_image()  # non obligatoire\n",
    "\n",
    "recuperer_pixels()"
   ]
  },
  {
   "cell_type": "markdown",
   "metadata": {},
   "source": [
    "# Fonctionnalités supplémentaires\n",
    "\n",
    "On peut aussi :\n",
    "- créer des pixels colorés (peut être intéressant sur le thème de la photographie numérique en SNT)\n",
    "- créer une liste à partir d'une liste de pixels"
   ]
  },
  {
   "cell_type": "code",
   "execution_count": null,
   "metadata": {},
   "outputs": [],
   "source": [
    "creer_image(5, 5)\n",
    "colorier(3, 1, (255, 0, 255))  # on donne le triplet (R,V,B) en 3ème paramètre\n",
    "afficher_image()"
   ]
  },
  {
   "cell_type": "code",
   "execution_count": null,
   "metadata": {},
   "outputs": [],
   "source": [
    "pixels = [\n",
    "    [(255, 255, 255), (0, 0, 0), (255, 0, 255)],\n",
    "    [(0, 0, 200), (255, 0, 100), (25, 214, 65)]\n",
    "]\n",
    "\n",
    "mettre_dans_image(pixels)\n",
    "\n",
    "afficher_image()"
   ]
  },
  {
   "cell_type": "markdown",
   "metadata": {},
   "source": [
    "---\n",
    "**Références** : \n",
    "- Le concept des exercices a été imaginé par Mathieu Degrange. Son projet ([voir sur GitHub](https://github.com/DegrangeM/pyxel-art)) est sous licence [MIT](https://fr.wikipedia.org/wiki/Licence_MIT). Merci à lui !\n",
    "- Le module `pixel_art` utilisé dans ce notebook a été développé par Germain Becker, pour rendre accessible le concept dans Basthon et donc dans Capytale.\n",
    "\n",
    "---\n",
    "Germain Becker, Lycée Emmanuel Mounier, ANGERS \n",
    "\n",
    "Ce document est diffusé sous la licence [CC BY-SA 4.0](https://creativecommons.org/licenses/by-sa/4.0/deed.fr).\n",
    "\n",
    "![Licence Creative Commons](https://i.creativecommons.org/l/by-sa/4.0/88x31.png)"
   ]
  }
 ],
 "metadata": {
  "kernelspec": {
   "display_name": "Python 3",
   "language": "python",
   "name": "python3"
  },
  "language_info": {
   "codemirror_mode": {
    "name": "ipython",
    "version": 3
   },
   "file_extension": ".py",
   "mimetype": "text/x-python",
   "name": "python",
   "nbconvert_exporter": "python",
   "pygments_lexer": "ipython3",
   "version": "3.7.10"
  }
 },
 "nbformat": 4,
 "nbformat_minor": 2
}
