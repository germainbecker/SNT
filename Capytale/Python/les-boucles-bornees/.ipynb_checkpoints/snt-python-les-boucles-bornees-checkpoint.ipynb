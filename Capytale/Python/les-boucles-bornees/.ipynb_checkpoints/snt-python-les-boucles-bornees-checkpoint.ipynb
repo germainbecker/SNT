{
 "cells": [
  {
   "cell_type": "markdown",
   "metadata": {},
   "source": [
    "<div style=\"margin-left: auto; margin-right: auto; background-color: rgb(0,161,153); color: white; padding: 10px;\">\n",
    "    <span><strong>SNT / Programmation Python / Séance 4</strong></span>\n",
    "    <h1 style=\"font-size:3em;padding-bottom:30px; text-align:center\">Les boucles bornées</h1>\n",
    "</div>"
   ]
  },
  {
   "cell_type": "markdown",
   "metadata": {},
   "source": [
    "# 🟥 1. Introduction\n",
    "---\n",
    "\n",
    "<div class=\"alert\" style=\"color:black; background-color:rgb(255, 214, 220); border-left: 8px solid rgb(255, 50, 80);\">\n",
    "\n",
    "Souvent, dans un programme, il est nécessaire de répéter un certain nombre de fois une (ou des) instruction(s). Pour cela, on utilise ce qu'on appelle des **boucles**.\n",
    "\n",
    "Les **boucles bornées**, qui nous intéressent ici sont utilisées **si on connaît à l'avance le nombre de répétitions à effectuer**.\n",
    "    \n",
    "Ces boucles bornées s'appellent également **boucles pour** ou **boucles for**.\n",
    "</div>"
   ]
  },
  {
   "cell_type": "markdown",
   "metadata": {},
   "source": [
    "<blockquote class=\"alert alert-info\" style=\"background-color:rgb(220,240,255); margin:10px 10%; \">\n",
    " \n",
    "<span style=\"font-size:1.5em\">📣</span> Il existe également les **boucles non bornées** qui sont utilisées dans le cas où **on ne connaît pas à l'avance le nombre de répétitions à effectuer**.\n",
    "    \n",
    "</blockquote>"
   ]
  },
  {
   "cell_type": "markdown",
   "metadata": {},
   "source": [
    "## Exemple concret\n",
    "\n",
    "![illustration](https://raw.githubusercontent.com/germainbecker/SNT/master/Capytale/Python/les-boucles-bornees/rs.png)\n",
    "\n",
    "Le nombre d'utilisateurs d'un nouveau réseau social est égal à 500 000 en janvier 2020. Ce nombre augmente de 5 % par mois, donc est multiplié par 1.05 chaque mois. Si on veut connaître le nombre d'utilisateurs 10 mois plus tard, il faut effectuer 10 fois de suite le même calcul (une multiplication par 1.05). \n",
    "\n",
    "Au lieu d'écrire 10 lignes identiques il est préférable d'écrire une seule fois cette ligne et d'indiquer de l'exécuter 10 fois : pour cela, on utilise une boucle bornée. \n",
    "\n",
    "En Python, au lieu d'écrire le programme"
   ]
  },
  {
   "cell_type": "code",
   "execution_count": null,
   "metadata": {},
   "outputs": [],
   "source": [
    "nb_utilisateurs = 500000\n",
    "nb_utilisateurs = nb_utilisateurs * 1.05\n",
    "nb_utilisateurs = nb_utilisateurs * 1.05\n",
    "nb_utilisateurs = nb_utilisateurs * 1.05\n",
    "nb_utilisateurs = nb_utilisateurs * 1.05\n",
    "nb_utilisateurs = nb_utilisateurs * 1.05\n",
    "nb_utilisateurs = nb_utilisateurs * 1.05\n",
    "nb_utilisateurs = nb_utilisateurs * 1.05\n",
    "nb_utilisateurs = nb_utilisateurs * 1.05\n",
    "nb_utilisateurs = nb_utilisateurs * 1.05\n",
    "nb_utilisateurs = nb_utilisateurs * 1.05\n",
    "\n",
    "print(nb_utilisateurs)  # pour voir la valeur finale"
   ]
  },
  {
   "cell_type": "markdown",
   "metadata": {},
   "source": [
    "on écrirait celui-ci :"
   ]
  },
  {
   "cell_type": "code",
   "execution_count": null,
   "metadata": {},
   "outputs": [],
   "source": [
    "nb_utilisateurs = 500000\n",
    "for indice in range(10):\n",
    "    nb_utilisateurs = nb_utilisateurs * 1.05\n",
    "    \n",
    "print(nb_utilisateurs)  # pour voir la valeur finale"
   ]
  },
  {
   "cell_type": "markdown",
   "metadata": {},
   "source": [
    "# 🟥 2. Construction d'une boucle bornée\n",
    "---\n",
    "\n",
    "<div class=\"alert\" style=\"color:black; background-color:rgb(255, 214, 220); border-left: 8px solid rgb(255, 50, 80);\">\n",
    "\n",
    "Pour écrire une boucle bornée en Python on utilise le mot clé `for`. Les boucles bornées sont par conséquent très souvent appelées *boucles for* (ou *boucles pour* en français).\n",
    "\n",
    "</div>\n",
    "\n",
    "Le mot clé `for` peut s'utiliser de deux manières :\n",
    "\n",
    "- avec la fonction `range()` : pour itérer sur une liste d'entiers\n",
    "- seulement avec le mot-clé `in` : pour itérer sur les éléments de certaines \"variables\"\n",
    "\n",
    "mais nous nous concentrerons dans cette séance uniquement sur la première possibilité avec `range()`\n",
    "\n",
    "<blockquote class=\"alert alert-info\" style=\"background-color:rgb(220,240,255); margin:10px 10%; \">\n",
    " \n",
    "<span style=\"font-size:1.5em\">📣</span> Nous aborderons l'autre possibilité (avec `in`) dans des séances ultérieures consacrées à d'autres thèmes du programme.\n",
    "    \n",
    "</blockquote>\n"
   ]
  },
  {
   "cell_type": "markdown",
   "metadata": {},
   "source": [
    "## La fonction `range()`\n",
    "\n",
    "Avant d'écrire des boucles `for`, il est important de comprendre le rôle de la fonction `range()`. Cette fonction permet de générer une liste d'entiers. On distingue trois cas de figure (les deux premiers sont les plus importants) :\n",
    "\n",
    "- `range(n)` : permet de générer n entiers, de 0 (inclus) à n exclu, c'est-à-dire : 0, 1, 2, 3, ..., n-1\n",
    "- `range(n, m)` : permet de générer m-n entiers, de n (inclus) à m exclu, c'est-à-dire : n, n+1, n+2, ..., m-1\n",
    "- `range(n, m, p)` : permet de générer les entiers de n (inclus) à m exclus mais avec un pas égal à p, c'est-à-dire : n, n+p, n+2p, ...\n",
    "\n",
    "**Exemples** :\n",
    "\n",
    "- `range(10)` génère la liste d'entiers : 0, 1, 2, 3, 4, 5, 6, 7, 8, 9 (il y en a 10 en tout, de 0 inclus à 10 exclu).\n",
    "- `range(2, 10)` génère la liste d'entiers : 2, 3, 4, 5, 6, 7, 8, 9 (de 2 inclus à 10 exclu).\n",
    "- `range(2, 10, 3)` génère la liste d'entiers : 2, 5, 8 (de 2 inclus à 10 exclu mais en allant de 3 en 3).\n",
    "\n",
    "On peut visualiser la liste d'entiers générés en utilisant `list()`, comme ci-dessous :"
   ]
  },
  {
   "cell_type": "code",
   "execution_count": null,
   "metadata": {},
   "outputs": [],
   "source": [
    "list(range(10))"
   ]
  },
  {
   "cell_type": "code",
   "execution_count": null,
   "metadata": {},
   "outputs": [],
   "source": [
    "list(range(2, 10))"
   ]
  },
  {
   "cell_type": "code",
   "execution_count": null,
   "metadata": {},
   "outputs": [],
   "source": [
    "list(range(2, 10, 3))"
   ]
  },
  {
   "cell_type": "markdown",
   "metadata": {},
   "source": [
    "<h2 style=\"background-color: rgb(0,161,153); color: white; border-radius: 3px;padding: 10px;\">✏️ Exercice 0</h2>\n",
    "\n",
    "Indiquez dans chaque cas la liste d'entiers générée par :\n",
    "\n",
    "1. `range(300)`\n",
    "3. `range(1, 13)`\n",
    "3. `range(50, 100)`\n",
    "4. `range(3, 19, 2)`"
   ]
  },
  {
   "cell_type": "raw",
   "metadata": {},
   "source": [
    "Votre réponse :\n",
    "\n",
    "1.\n",
    "2.\n",
    "3.\n",
    "4."
   ]
  },
  {
   "cell_type": "markdown",
   "metadata": {},
   "source": [
    ">N'hésitez pas à vérifier en utilisant la fonction `list` comme ci-dessus."
   ]
  },
  {
   "cell_type": "markdown",
   "metadata": {},
   "source": [
    "## Boucles bornées avec la fonction `range()`"
   ]
  },
  {
   "cell_type": "markdown",
   "metadata": {},
   "source": [
    "<div class=\"alert\" style=\"color:black; background-color:rgb(255, 214, 220); border-left: 8px solid rgb(255, 50, 80);\">\n",
    "\n",
    "La syntaxe la plus simple d'une boucle `for` utilisant la fonction `range()` est la suivante.\n",
    "\n",
    "```python\n",
    "for indice in range(n):\n",
    "    bloc_instructions\n",
    "```\n",
    "\n",
    "Et avec les deux autres cas d'utilisation de la fonction `range()` cela donne\n",
    "\n",
    "```python\n",
    "for indice in range(n, m):\n",
    "    bloc_instructions\n",
    "```\n",
    "\n",
    "et\n",
    "\n",
    "```python\n",
    "for indice in range(n, m, p):\n",
    "    bloc_instructions\n",
    "```\n",
    "</div>"
   ]
  },
  {
   "cell_type": "markdown",
   "metadata": {},
   "source": [
    "**Remarques** :\n",
    "\n",
    "- Il ne faut pas oublier le `:` à la fin de la ligne avec la boucle `bor`\n",
    "- La fonction `range` permet de générer une liste d'entiers comme vu précédemment.\n",
    "- La variable notée `indice` prendra successivement (à chaque tour de boucle) les valeurs des entiers générés par la fonction `range`.\n",
    "- Le bloc d'instructions à répéter doit être indenté (d'une tabulation) et sera donc ici exécuté autant de fois qu'il y a d'entiers générés par la fonction `range`."
   ]
  },
  {
   "cell_type": "markdown",
   "metadata": {},
   "source": [
    "Si on reprend le code de l'exemple concret, l'instruction `range(10)` va générer une liste de 10 entiers : 0, 1, 2, ..., 9. La variable `indice` va prendre successivement ces dix valeurs et donc le bloc d'instructions dans la boucle `for` sera exécuté 10 fois. On peut visualiser cela :"
   ]
  },
  {
   "cell_type": "code",
   "execution_count": null,
   "metadata": {},
   "outputs": [],
   "source": [
    "from tutor import tutor  # utile pour exécuter pas à pas le programme\n",
    "\n",
    "nb_utilisateurs = 500000\n",
    "for indice in range(10):\n",
    "    nb_utilisateurs = nb_utilisateurs * 1.05\n",
    "    \n",
    "tutor()  # pour lancer la fenêtre interactive"
   ]
  },
  {
   "cell_type": "markdown",
   "metadata": {},
   "source": [
    "# 🟥 3. À vous de jouer !\n",
    "---"
   ]
  },
  {
   "cell_type": "markdown",
   "metadata": {},
   "source": [
    "<h2 style=\"background-color: rgb(0,161,153); color: white; border-radius: 3px;padding: 10px;\">✏️ Exercice 1 : Un premier exemple</h2>\n",
    "  \n",
    "On considère le programme Python suivant.\n",
    "\n",
    "```python\n",
    "a = 2\n",
    "for i in range(4):\n",
    "    a = a + 1\n",
    "a = 2 * a\n",
    "```\n",
    "\n",
    "\n",
    "✍️ **Question 1** : Quel est le bloc d'instructions répété dans la boucle for ? Combien de fois est-il répété ?"
   ]
  },
  {
   "cell_type": "raw",
   "metadata": {},
   "source": [
    "Votre réponse : "
   ]
  },
  {
   "cell_type": "markdown",
   "metadata": {},
   "source": [
    "✍️ **Question 2** : Quelle est la valeur finale de la variable `a` ?"
   ]
  },
  {
   "cell_type": "raw",
   "metadata": {},
   "source": [
    "Votre réponse : "
   ]
  },
  {
   "cell_type": "markdown",
   "metadata": {},
   "source": [
    "🐍 **Question 3** : Recopiez ce programme dans la cellule ci-dessous en ajoutant la ligne permettant d'afficher `a` à la fin. Exécutez-le et vérifiez votre réponse à la question précédente. "
   ]
  },
  {
   "cell_type": "code",
   "execution_count": null,
   "metadata": {},
   "outputs": [],
   "source": [
    "# à vous de jouer !\n"
   ]
  },
  {
   "cell_type": "markdown",
   "metadata": {},
   "source": [
    "<h2 style=\"background-color: rgb(0,161,153); color: white; border-radius: 3px;padding: 10px;\">✏️ Exercice 2 : Vérifier sa compréhension</h2>\n",
    "\n",
    "Dans cet exercice on propose plusieurs questions pour vérifier votre compréhension des boucles for.\n",
    "\n",
    "Il suffit d'exécuter chacune des cellules suivantes pour faire apparaître la question.\n",
    "\n",
    "🐍 **Question 1**"
   ]
  },
  {
   "cell_type": "code",
   "execution_count": null,
   "metadata": {},
   "outputs": [],
   "source": [
    "from IPython.display import IFrame\n",
    "IFrame('https://www.codepuzzle.io/IDNF6L', width='100%', height=750)"
   ]
  },
  {
   "cell_type": "markdown",
   "metadata": {},
   "source": [
    "🐍 **Question 2**"
   ]
  },
  {
   "cell_type": "code",
   "execution_count": null,
   "metadata": {},
   "outputs": [],
   "source": [
    "from IPython.display import IFrame\n",
    "IFrame('https://www.codepuzzle.io/IDKFE2', width='100%', height=750)"
   ]
  },
  {
   "cell_type": "markdown",
   "metadata": {},
   "source": [
    "<h2 style=\"background-color: rgb(0,161,153); color: white; border-radius: 3px;padding: 10px;\">✏️ Exercice 3 : Dessiner des figures</h2>\n",
    "\n",
    "<img src=\"https://raw.githubusercontent.com/germainbecker/SNT/master/Capytale/Python/les-boucles-bornees/tortue.svg\" alt=\"illustration\" width=\"200\">\n",
    "\n",
    "Le module `turtle` (tortue) permet de dessiner avec Python.\n",
    "\n",
    "Dans cet exercice on a écrit une fonction `carre` qui permet de dessiner un carré :"
   ]
  },
  {
   "cell_type": "code",
   "execution_count": null,
   "metadata": {
    "scrolled": true
   },
   "outputs": [],
   "source": [
    "from turtle import *\n",
    "\n",
    "def carre():\n",
    "    forward(100)\n",
    "    left(90)\n",
    "    forward(100)\n",
    "    left(90)\n",
    "    forward(100)\n",
    "    left(90)\n",
    "    forward(100)\n",
    "    left(90)\n",
    "\n",
    "carre()  # appel à la fonction pour tracer le carré\n",
    "\n",
    "done()  # pour lancer l'animation"
   ]
  },
  {
   "cell_type": "markdown",
   "metadata": {},
   "source": [
    "🐍 **Question 2** : Vous avez dû constater que l'on doit répéter plusieurs fois les mêmes instructions. Recopiez et modifiez le code de la fonction `carre` pour dessiner le carré en utilisant une boucle `for` (et ainsi réduire le nombre de lignes écrites)."
   ]
  },
  {
   "cell_type": "code",
   "execution_count": null,
   "metadata": {},
   "outputs": [],
   "source": [
    "# à vous de jouer !\n"
   ]
  },
  {
   "cell_type": "markdown",
   "metadata": {},
   "source": [
    "🐍 **Question 3** : Créez une fonction `triangle` qui construit un triangle en utilisant une boucle `for`."
   ]
  },
  {
   "cell_type": "code",
   "execution_count": null,
   "metadata": {},
   "outputs": [],
   "source": [
    "# à vous de jouer !\n"
   ]
  },
  {
   "cell_type": "markdown",
   "metadata": {},
   "source": [
    "🐍 **Question 4** : Modifiez les fonctions `carre` et `triangle` pour qu'elles aient désormais un paramètre appelé `cote` qui correspond à la longueur d'un côté de la figure. \n",
    "\n",
    "Par exemple, \n",
    "- l'appel `carre(50)` doit construire un carré de côté 50\n",
    "- l'appel `carre(100)` doit construire un carré de côté 50\n",
    "- l'appel `triangle(80)` doit construire un triangle de côté 80"
   ]
  },
  {
   "cell_type": "code",
   "execution_count": null,
   "metadata": {},
   "outputs": [],
   "source": [
    "# à vous de jouer !\n"
   ]
  },
  {
   "cell_type": "markdown",
   "metadata": {},
   "source": [
    "<h2 style=\"background-color: rgb(0,161,153); color: white; border-radius: 3px;padding: 10px;\">✏️ Exercice 4 : Réseau social</h2>\n",
    "\n",
    "<img src=\"https://raw.githubusercontent.com/germainbecker/SNT/master/Capytale/Python/les-boucles-bornees/rs.svg\" alt=\"illustration\" width=\"200\">\n",
    "\n",
    "Un réseau social possédait 25 000 utilisateurs en 2021. Sa popularité est telle que l'on estime que son nombre d'utilisateurs va doubler tous les ans.\n",
    "\n",
    "La fonction `users` (signifie *utilisateurs* en anglais), qui n'a pas de paramètre, doit renvoyer le nombre d'utilisateurs u du réseau social en 2025."
   ]
  },
  {
   "cell_type": "markdown",
   "metadata": {},
   "source": [
    "🐍 **Question 1** : Remplacez les `...` par les bonnes instructions dans le code de la fonction `users`."
   ]
  },
  {
   "cell_type": "code",
   "execution_count": null,
   "metadata": {},
   "outputs": [],
   "source": [
    "# à vous de jouer !\n",
    "\n",
    "def users():\n",
    "    u = 25000\n",
    "    for i in range(...):\n",
    "        u = ...\n",
    "    return ..."
   ]
  },
  {
   "cell_type": "markdown",
   "metadata": {},
   "source": [
    "🐍 **Question 2** : Après avoir exécuté le code précédent, appelez cette fonction pour connaître le nombre d'utilisateurs en 2025. (Vous pouvez vérifier en faisant le calcul vous-même)."
   ]
  },
  {
   "cell_type": "code",
   "execution_count": null,
   "metadata": {},
   "outputs": [],
   "source": [
    "# à vous de jouer !\n"
   ]
  },
  {
   "cell_type": "markdown",
   "metadata": {},
   "source": [
    "🐍 **Question 3** : Quelle modification faut-il faire dans ce code pour connaître le nombre d'utilisateurs en 2030 ? Faites-le. Combien vaut-il ?"
   ]
  },
  {
   "cell_type": "code",
   "execution_count": null,
   "metadata": {},
   "outputs": [],
   "source": [
    "# à vous de jouer !\n"
   ]
  },
  {
   "cell_type": "code",
   "execution_count": null,
   "metadata": {},
   "outputs": [],
   "source": [
    "# à vous de jouer !\n"
   ]
  },
  {
   "cell_type": "markdown",
   "metadata": {},
   "source": [
    "🐍 **Question 4 (plus difficile)** :  Modifiez la fonction `users` pour qu'elle ait un paramètre `annee` et renvoie le nombre d'utilisateurs l'année `annee`. \n",
    "\n",
    "Par exemple, l'appel `users(2030)` doit renvoyer le nombre estimé d'utilisateurs en 2030."
   ]
  },
  {
   "cell_type": "code",
   "execution_count": null,
   "metadata": {},
   "outputs": [],
   "source": [
    "# à vous de jouer !\n"
   ]
  },
  {
   "cell_type": "markdown",
   "metadata": {},
   "source": [
    "<h2 style=\"background-color: rgb(0,161,153); color: white; border-radius: 3px;padding: 10px;\">✏️ Exercice 5 : Alien Python - Dessiner un parcours</h2>"
   ]
  },
  {
   "cell_type": "markdown",
   "metadata": {},
   "source": [
    "<img src=\"https://raw.githubusercontent.com/germainbecker/SNT/master/Capytale/Python/les-boucles-bornees/alien.svg\" alt=\"illustration\" width=\"200\" style=\"background-color:#eee;border-radius:20px\">\n",
    "\n",
    "><span style=\"font-size:1.5em\">📣</span> Pour les questions de cet exercice, exécutez le programme donné puis dessinez le parcours de l'alien en cliquant sur les différentes positions parcourues. Vous pouvez annuler la dernière position en cliquant dessus.\n",
    "\n",
    "**⚠️ N'oubliez pas d'exécuter la cellule ci-dessous avant de poursuivre ! ⚠️**"
   ]
  },
  {
   "cell_type": "code",
   "execution_count": null,
   "metadata": {},
   "outputs": [],
   "source": [
    "from alien_python import *"
   ]
  },
  {
   "cell_type": "markdown",
   "metadata": {},
   "source": [
    "🐍 **Question 1**"
   ]
  },
  {
   "cell_type": "code",
   "execution_count": null,
   "metadata": {},
   "outputs": [],
   "source": [
    "centrer_alien()  # l'alien est au départ en case H8\n",
    "\n",
    "for loop in range(5) :\n",
    "    gauche()\n",
    "for loop in range(5) :\n",
    "    haut()\n",
    "\n",
    "dessiner_parcours()"
   ]
  },
  {
   "cell_type": "markdown",
   "metadata": {},
   "source": [
    "🐍 **Question 2**"
   ]
  },
  {
   "cell_type": "code",
   "execution_count": null,
   "metadata": {},
   "outputs": [],
   "source": [
    "centrer_alien()\n",
    "\n",
    "for loop in range(5) :\n",
    "    gauche()\n",
    "    haut()\n",
    "\n",
    "dessiner_parcours()"
   ]
  },
  {
   "cell_type": "markdown",
   "metadata": {},
   "source": [
    "🐍 **Question 3**"
   ]
  },
  {
   "cell_type": "code",
   "execution_count": null,
   "metadata": {},
   "outputs": [],
   "source": [
    "centrer_alien()\n",
    "\n",
    "bas(6)\n",
    "droite(6)\n",
    "for loop in range(4) :  \n",
    "    haut(3)\n",
    "    gauche(2)\n",
    "bas(5)\n",
    "\n",
    "dessiner_parcours()"
   ]
  },
  {
   "cell_type": "markdown",
   "metadata": {},
   "source": [
    "🐍 **Question 4**"
   ]
  },
  {
   "cell_type": "code",
   "execution_count": null,
   "metadata": {},
   "outputs": [],
   "source": [
    "centrer_alien()\n",
    "\n",
    "n = 2\n",
    "a = 3\n",
    "gauche(a)\n",
    "bas(2*a)\n",
    "for i in range(n):\n",
    "    droite(3)\n",
    "    haut(a)\n",
    "    a = a - 1\n",
    "\n",
    "dessiner_parcours()"
   ]
  },
  {
   "cell_type": "markdown",
   "metadata": {},
   "source": [
    "🐍 **Question 5**"
   ]
  },
  {
   "cell_type": "code",
   "execution_count": null,
   "metadata": {},
   "outputs": [],
   "source": [
    "centrer_alien()\n",
    "\n",
    "a = 2\n",
    "b = 5\n",
    "c = b - a\n",
    "d = 1\n",
    "gauche()\n",
    "for loop in range(c) :\n",
    "    d = d + 1\n",
    "    haut()\n",
    "    haut()\n",
    "    droite()\n",
    "droite()\n",
    "for loop in range(d) :\n",
    "    bas()\n",
    "\n",
    "dessiner_parcours()"
   ]
  },
  {
   "cell_type": "markdown",
   "metadata": {},
   "source": [
    "<h2 style=\"background-color: rgb(0,161,153); color: white; border-radius: 3px;padding: 10px;\">✏️ Exercice 6 : Alien Python - Compléter un programme</h2>\n",
    "\n",
    "<img src=\"https://raw.githubusercontent.com/germainbecker/SNT/master/Capytale/Python/les-boucles-bornees/alien.svg\" alt=\"illustration\" width=\"200\" style=\"background-color:#eee;border-radius:20px\">\n",
    "\n",
    "><span style=\"font-size:1.5em\">📣</span> Pour les questions de cet exercice, complétez chaque programme en remplaçant les pointillés par les bonnes valeurs afin d'obtenir le déplacement donné. Puis exécutez le programme pour vérifier s'il est correct."
   ]
  },
  {
   "cell_type": "markdown",
   "metadata": {},
   "source": [
    "**⚠️ N'oubliez pas d'exécuter la cellule ci-dessous avant de poursuivre ! ⚠️**"
   ]
  },
  {
   "cell_type": "code",
   "execution_count": null,
   "metadata": {},
   "outputs": [],
   "source": [
    "from alien_python import *"
   ]
  },
  {
   "attachments": {},
   "cell_type": "markdown",
   "metadata": {},
   "source": [
    "🐍 **Question 1**\n",
    "\n",
    "Voici le déplacement à obtenir (les numéros correspondent aux différentes étapes) :\n",
    "\n",
    "![deplacement](https://raw.githubusercontent.com/germainbecker/SNT/master/Capytale/Python/les-boucles-bornees/alien_python_ex6_1.png)"
   ]
  },
  {
   "cell_type": "code",
   "execution_count": null,
   "metadata": {},
   "outputs": [],
   "source": [
    "centrer_alien()\n",
    "\n",
    "haut(...)\n",
    "for loop in range(...) :\n",
    "    droite(...)\n",
    "bas(...)\n",
    "\n",
    "verifier_programme(['H8', 'C8', 'C10', 'C12', 'C14', 'G14'])"
   ]
  },
  {
   "attachments": {},
   "cell_type": "markdown",
   "metadata": {},
   "source": [
    "🐍 **Question 2**\n",
    "\n",
    "Voici le déplacement à obtenir (les numéros correspondent aux différentes étapes) :\n",
    "\n",
    "![deplacement](https://raw.githubusercontent.com/germainbecker/SNT/master/Capytale/Python/les-boucles-bornees/alien_python_ex6_2.png)"
   ]
  },
  {
   "cell_type": "code",
   "execution_count": null,
   "metadata": {},
   "outputs": [],
   "source": [
    "centrer_alien()\n",
    "\n",
    "bas(...)\n",
    "gauche(...)\n",
    "for loop in range(...) :\n",
    "    haut(...)\n",
    "    droite(...)\n",
    "bas(...)\n",
    "\n",
    "verifier_programme(['H8', 'K8', 'K3', 'I3', 'I6', 'G6', 'G9', 'E9', 'E12', 'C12', 'C15', 'E15'])"
   ]
  },
  {
   "attachments": {},
   "cell_type": "markdown",
   "metadata": {},
   "source": [
    "🐍 **Question 3**\n",
    "\n",
    "Voici le déplacement à obtenir (les numéros correspondent aux différentes étapes) :\n",
    "\n",
    "![deplacement](https://raw.githubusercontent.com/germainbecker/SNT/master/Capytale/Python/les-boucles-bornees/alien_python_ex6_3.png)"
   ]
  },
  {
   "cell_type": "code",
   "execution_count": null,
   "metadata": {},
   "outputs": [],
   "source": [
    "centrer_alien()\n",
    "\n",
    "haut(...)\n",
    "...\n",
    "    gauche(...)\n",
    "haut(...)\n",
    "...\n",
    "    droite(...)\n",
    "bas(...)\n",
    "\n",
    "verifier_programme(['H8', 'E8', 'E6', 'E4', 'E2', 'B2', 'B5', 'B8', 'B11', 'B14', 'F14'])"
   ]
  },
  {
   "attachments": {},
   "cell_type": "markdown",
   "metadata": {},
   "source": [
    "🐍 **Question 4**\n",
    "\n",
    "Voici le déplacement à obtenir (les numéros correspondent aux différentes étapes) :\n",
    "\n",
    "![deplacement](https://raw.githubusercontent.com/germainbecker/SNT/master/Capytale/Python/les-boucles-bornees/alien_python_ex6_4.png)"
   ]
  },
  {
   "cell_type": "code",
   "execution_count": null,
   "metadata": {},
   "outputs": [],
   "source": [
    "centrer_alien()\n",
    "\n",
    "...\n",
    "droite(...)\n",
    "for loop in range(...) :\n",
    "    bas(...)\n",
    "    gauche(...)\n",
    "    ...\n",
    "    droite(...)\n",
    "haut(...)\n",
    "\n",
    "verifier_programme(['H8', 'A8', 'A15', 'C15', 'C11', 'E11', 'E14', 'G14', 'G10', 'I10', 'I13', 'K13', 'K9', 'M9', 'M12', 'L12'])"
   ]
  },
  {
   "cell_type": "markdown",
   "metadata": {},
   "source": [
    "---\n",
    "**Références** :\n",
    "- Les questions de l'exercice 6 ont été proposées par Stéphan Grignon, du lycée Théodore Deck, GUEBWILLER. \n",
    "\n",
    "---\n",
    "Les enseignants de SNT du lycée Emmanuel Mounier, ANGERS \n",
    "\n",
    "![Licence Creative Commons](https://i.creativecommons.org/l/by-sa/4.0/88x31.png)"
   ]
  }
 ],
 "metadata": {
  "kernelspec": {
   "display_name": "Python 3",
   "language": "python",
   "name": "python3"
  },
  "language_info": {
   "codemirror_mode": {
    "name": "ipython",
    "version": 3
   },
   "file_extension": ".py",
   "mimetype": "text/x-python",
   "name": "python",
   "nbconvert_exporter": "python",
   "pygments_lexer": "ipython3",
   "version": "3.7.10"
  }
 },
 "nbformat": 4,
 "nbformat_minor": 2
}
