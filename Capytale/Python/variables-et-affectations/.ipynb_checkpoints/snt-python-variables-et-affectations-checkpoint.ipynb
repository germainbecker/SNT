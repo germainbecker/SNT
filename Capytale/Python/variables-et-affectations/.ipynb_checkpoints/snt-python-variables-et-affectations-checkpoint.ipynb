{
 "cells": [
  {
   "cell_type": "markdown",
   "metadata": {},
   "source": [
    "<div style=\"margin-left: auto; margin-right: auto; background-color: rgb(0,161,153); color: white; padding: 10px;\">\n",
    "    <span><strong>SNT / Programmation Python / Séance 1</strong></span>\n",
    "    <h1 style=\"font-size:3em;padding-bottom:30px; text-align:center\">Variables et affectations</h1>\n",
    "</div>"
   ]
  },
  {
   "cell_type": "markdown",
   "metadata": {},
   "source": [
    "<blockquote class=\"alert alert-info\" style=\"background-color:rgb(220,240,255); margin:10px 10%;\">\n",
    "    <p><span style=\"font-size:1.5em\">❔</span> Pourquoi code-t-on ? (exécutez la cellule ci-dessous pour voir une petite vidéo)</p>\n",
    "</blockquote>"
   ]
  },
  {
   "cell_type": "code",
   "execution_count": null,
   "metadata": {},
   "outputs": [],
   "source": [
    "from IPython.display import HTML\n",
    "HTML(\"\"\"<iframe width=\"560\" height=\"315\" src=\"https://www.youtube-nocookie.com/embed/7b3QupZc08Y\" title=\"YouTube video player\" frameborder=\"0\" allow=\"accelerometer; autoplay; clipboard-write; encrypted-media; gyroscope; picture-in-picture\" allowfullscreen></iframe>\"\"\")"
   ]
  },
  {
   "cell_type": "markdown",
   "metadata": {},
   "source": [
    "# 🟥 1. Introduction\n",
    "---\n",
    "\n",
    "Au collège, vous avez déjà programmé mais en utilisant un langage de programmation _par blocs_. Ce type de langage est très utile pour _apprendre les bases_ de l’algorithmique et de la programmation mais ne constitue pas un langage utilisé pour programmer réellement. Pour cela, on utilise des langages dits _textuels_ qui nécessitent d’écrire tout le code avec son clavier.\n",
    "\n",
    "Au lycée, vous allez apprendre l’un de ces langages : le langage **Python**. Vous l’utiliserez dans différentes disciplines : Mathématiques, SNT, Physique-Chimie, spécialité NSI notamment.\n",
    "\n",
    "**Différences collège/lycée**\n",
    "\n",
    "Voici ci-dessous à gauche, un programme écrit dans un langage par blocs et à droite le même programme écrit dans le langage Python.\n",
    "\n",
    "![comparaison programmation par blocs et textuelle](https://raw.githubusercontent.com/germainbecker/SNT/master/Capytale/Python/variables-et-affectations/comparaisonScratchPython.png)"
   ]
  },
  {
   "cell_type": "markdown",
   "metadata": {},
   "source": [
    "# 🟥 2. Variables\n",
    "---\n",
    "\n",
    "En informatique, il est indispensable de conserver des informations de natures diverses. Par exemple, votre smartphone enregistre dans sa mémoire votre numéro de téléphone, les numéros de téléphones de vos contacts, vos messages (SMS), vos photos, vos applications, etc. Chacune de ces informations est stockée à un endroit précis dans la mémoire dans ce qu’on appelle une **variable**.\n",
    "\n",
    "Ainsi, de manière simplifiée, retenez la définition suivante.\n",
    "\n",
    "<div class=\"alert\" style=\"color:black; background-color:rgb(255, 214, 220); border-left: 8px solid rgb(255, 50, 80);\">\n",
    "\n",
    "Une **variable** est un espace de stockage de la mémoire (une case mémoire). Chaque variable est caractérisée par son **nom**, son **type** et sa **valeur**.\n",
    "\n",
    "</div>\n",
    "\n",
    "<blockquote class=\"alert alert-info\" style=\"background-color:rgb(220,240,255); margin:10px 10%; \">\n",
    " \n",
    "<span style=\"font-size:1.5em\">❔</span> Au fait, pourquoi dit-on _variable_ ?\n",
    "\n",
    "</blockquote>\n",
    "\n",
    "Tout simplement car les données qu’elle contient peuvent _varier_ (au cours du temps) : si un ami change de numéro de téléphone, vous êtes content de pouvoir le modifier."
   ]
  },
  {
   "cell_type": "markdown",
   "metadata": {},
   "source": [
    "## Types de variables\n",
    "\n",
    "Le **type** d’une variable est la nature de l’information qu’elle contient. Vous conviendrez que l’heure de votre réveil et votre dernier SMS reçu n’ont pas la même nature : le premier correspond à des nombres et le second à du texte.\n",
    "\n",
    "<div class=\"alert\" style=\"color:black; background-color:rgb(255, 214, 220); border-left: 8px solid rgb(255, 50, 80);\">\n",
    " \n",
    "Dans un premier temps, voici les trois types de base qui nous intéressent :\n",
    "\n",
    "-   le type **entier** : il désigne les entiers relatifs (positifs ou négatifs).  \n",
    "    En Python on parle du type `int` (pour _integer_ qui signifie « entier » en anglais) ;\n",
    "-   le type **flottant** : il désigne les nombres décimaux (à virgule).  \n",
    "    En Python on parle du type `float` (pour _floating_ qui signifie « flottant » en anglais)\n",
    "-   le type **chaîne de caractères** : il désigne toute suite ordonnée de caractères.  \n",
    "    En Python on parle du type `str` (pour _string_ qui signifie « chaîne » en anglais).\n",
    "\n",
    "</div>"
   ]
  },
  {
   "cell_type": "markdown",
   "metadata": {},
   "source": [
    "<h2 style=\"background-color: rgb(0,161,153); color: white; border-radius: 3px;padding: 10px;\">✏️ Activité 1</h2>\n",
    "  \n",
    "✍️ **Question** :  Indiquez le type des variables (entier, flottant ou chaîne de caractères) permettant de stocker sur votre smartphone les informations suivantes :\n",
    "\n",
    "- le nom d’un contact\n",
    "- le numéro de téléphone d’un contact\n",
    "- un SMS\n",
    "- l’heure du réveil\n",
    "- le code de votre partage de connexion Wi-Fi\n",
    "- le pourcentage _affiché_ de batterie restante\n",
    "- les notes aux deux derniers devoirs de Mathématiques que vous tapez dans l’application _Calculatrice_ pour calculer votre moyenne\n",
    "\n",
    "\n",
    "    \n",
    "</div>"
   ]
  },
  {
   "cell_type": "raw",
   "metadata": {},
   "source": [
    "Votre réponse (à compléter):\n",
    "\n",
    "- le nom d’un contact : \n",
    "- le numéro de téléphone d’un contact : \n",
    "- un SMS :\n",
    "- l’heure du réveil : \n",
    "- le code de votre partage de connexion Wi-Fi : \n",
    "- le pourcentage affiché de batterie restante :\n",
    "- les notes aux deux derniers devoirs de Mathématiques que vous tapez dans l’application Calculatrice pour calculer votre moyenne : "
   ]
  },
  {
   "cell_type": "markdown",
   "metadata": {},
   "source": [
    "## Noms de variables (en Python)\n",
    "\n",
    "Chaque variable possède un **nom** qui permet d’identifier l’emplacement mémoire correspondant.\n",
    "\n",
    "Dans le langage Python, il y a des règles à respecter pour nommmer les variables. Voici celles qui vous concernent :\n",
    "\n",
    "<div class=\"alert\" style=\"color:black; background-color:rgb(255, 214, 220); border-left: 8px solid rgb(255, 50, 80);\">\n",
    "\n",
    "-   **Règle 1** : un nom ne peut contenir que des lettres (a-z, A-Z), des chiffres (0 - 9) et le caractère `_` (_underscore_).\n",
    "-   **Règle 2** : un nom ne peut pas commencer par un chiffre.\n",
    "-   **Règle 3** : les noms sont sensibles à la casse, cela signifie qu’il y a une distinction entre les minuscules et les majuscules : la variable nommée `snt` est différente de la variable `Snt`.\n",
    "-   **(Règle 4)** : il est préférable de toujours choisir un nom de variable représentatif : par exemple, si vous voulez stocker le nom d’une personne dans une variable, il est préférable de l’appeler `nom` plutôt que `x`.\n",
    "-   **(Règle 5)** : il est préférable de ne pas utiliser de caractères accentués dans le nom d’une variable (nous n’entrerons pas dans le pourquoi du comment).\n",
    "    \n",
    "</div>\n",
    "\n",
    "<blockquote class=\"alert alert-info\" style=\"background-color:rgb(220,240,255); margin:20px 10%; \">\n",
    " \n",
    "<span style=\"font-size:1.5em\">📣</span> En Python, le symbole _underscore_ (c’est-à-dire `_`) est très souvent utilisé pour marquer une séparation entre plusieurs mots dans un nom : si on veut utiliser une variable qui contiendra un nombre d’élèves de Seconde G, on peut la nommer `nombre_eleves_2G` ou encore `nb_eleves_2G` car c’est plus facile à lire que `nombreeleves2G`.\n",
    "\n",
    "</blockquote>"
   ]
  },
  {
   "cell_type": "markdown",
   "metadata": {},
   "source": [
    "<h2 style=\"background-color: rgb(0,161,153); color: white; border-radius: 3px;padding: 10px;\">✏️ Activité 2</h2>\n",
    "  \n",
    "✍️ **Question 1** :  Quels sont les noms de variables incorrects parmi ceux proposés ? Vous indiquerez pourquoi.\n",
    "\n",
    "`prix achat`, `prix_achat`, `note`, `2ndeG`, `SecondeG`, `Seconde:G`, `dix-huit`"
   ]
  },
  {
   "cell_type": "raw",
   "metadata": {},
   "source": [
    "Votre réponse :\n",
    "\n",
    "- prix achat :\n",
    "- prix_achat :\n",
    "- note :\n",
    "- 2ndeG :\n",
    "- SecondeG :\n",
    "- Seconde:G : \n",
    "- dix-huit :"
   ]
  },
  {
   "cell_type": "markdown",
   "metadata": {},
   "source": [
    "✍️ **Question 2** :  Proposez un nom de variable permettant de stocker :\n",
    "- le nombre de filles de Seconde G\n",
    "- le tarif d’un repas au self\n",
    "- l’aire d’un triangle (il n’y a qu’une seule figure)\n",
    "- la note à un devoir d’anglais"
   ]
  },
  {
   "cell_type": "raw",
   "metadata": {},
   "source": [
    "Votre réponse :\n",
    "\n",
    "- le nombre de filles de Seconde G :\n",
    "- le tarif d’un repas au self :\n",
    "- l’aire d’un triangle (il n’y a qu’une seule figure) :\n",
    "- la note à un devoir d’anglais : "
   ]
  },
  {
   "cell_type": "markdown",
   "metadata": {},
   "source": [
    "## Valeurs des variables\n",
    "\n",
    "Chaque variable possède une **valeur** qui est l’information qu’elle porte. Par exemple, \n",
    "\n",
    "- la valeur de la variable `nombre_eleves_2G` pourrait être `34`, \n",
    "- celle de la variable `note` pourrait être `14.5`, \n",
    "- celle de la variable `prenom` pourrait être `\"Louane\"`.\n",
    "\n",
    "### Affecter une valeur à une variable\n",
    "\n",
    "En Python, pour définir ou modifier la valeur d’une variable c’est très simple, il suffit d’utiliser le symbole égal : `=`.\n",
    "\n",
    "**Exemple**\n",
    "\n",
    "Le programme Python\n",
    "\n",
    "```python\n",
    "note = 15\n",
    "note = 15.5\n",
    "prenom = \"Louane\"\n",
    "```\n",
    "\n",
    "permet de :\n",
    "- créer une variable `note` dont la valeur vaut 15, c'est donc une variable de type **entier** (`int` en Python)\n",
    "- puis de modifier la valeur de la variable `note` qui vaut 15.5 à l'issue de la deuxième ligne.  \n",
    "    👉🏻 **Important** : on utilise le point (`.`) et non pas la virgule pour écrire des nombres décimaux.  \n",
    "    👉🏻 Dans ce cas, le type de la variable a changé : c'est devenu un **flottant** (`float` en Python).\n",
    "- et enfin de créer une variable `prenom` dont la valeur est la **chaine de caractères** \"Louane\".  \n",
    "    👉🏻 **Important** : On utilise les guillemets (`\"\"`) pour désigner les chaînes de caractères.\n",
    "    \n",
    "**Exécutez la cellule suivante**"
   ]
  },
  {
   "cell_type": "code",
   "execution_count": null,
   "metadata": {},
   "outputs": [],
   "source": [
    "# CELLULE À EXÉCUTER !!!!!!!!!!!!!\n",
    "\n",
    "note = 15\n",
    "note = 15.5\n",
    "prenom = \"Louane\""
   ]
  },
  {
   "cell_type": "markdown",
   "metadata": {},
   "source": [
    "À l'issue du programme précédent on peut évaluer la valeur de chaque variable en exécutant les cellules ci-dessous : (*si une erreur s'affiche, c'est sans doute que vous avez oublié d'exécuter la cellule précédente*)"
   ]
  },
  {
   "cell_type": "code",
   "execution_count": null,
   "metadata": {},
   "outputs": [],
   "source": [
    "note"
   ]
  },
  {
   "cell_type": "code",
   "execution_count": null,
   "metadata": {},
   "outputs": [],
   "source": [
    "prenom"
   ]
  },
  {
   "cell_type": "markdown",
   "metadata": {},
   "source": [
    "On peut aussi voir le type d'une variable en utilisant la fonction `type` comme ci-dessous :"
   ]
  },
  {
   "cell_type": "code",
   "execution_count": null,
   "metadata": {},
   "outputs": [],
   "source": [
    "type(note)"
   ]
  },
  {
   "cell_type": "code",
   "execution_count": null,
   "metadata": {},
   "outputs": [],
   "source": [
    "type(prenom)"
   ]
  },
  {
   "cell_type": "markdown",
   "metadata": {},
   "source": [
    "### Afficher la valeur d'une variable\n",
    "\n",
    "Pour afficher la valeur d’une variable on utilise la fonction `print`. Par exemple, pour afficher la valeur de la variable `note` on écrit simplement : `print(note)`.\n",
    "\n",
    "On peut ainsi ajouter des affichages dans le programme précédent :"
   ]
  },
  {
   "cell_type": "code",
   "execution_count": null,
   "metadata": {},
   "outputs": [],
   "source": [
    "note = 15\n",
    "print(note)\n",
    "note = 15.5\n",
    "print(note)\n",
    "prenom = \"Louane\"\n",
    "print(prenom)"
   ]
  },
  {
   "cell_type": "markdown",
   "metadata": {},
   "source": [
    "# 🟥 3. Opérations sur les variables de type nombre (`int` et `float`)\n",
    "---\n",
    "\n",
    "Nous nous contenterons ici de montrer quelques opérations possibles sur les entiers et les flottants (on parle rapidement des chaînes de caractères en fin de document).\n",
    "\n",
    "Il n’y a pas de surprise : il est possible d’additionner, soustraire, multiplier, diviser des variables de type nombre (entier ou flottant). On utilise pour cela les symboles habituels résumés dans le tableau ci-dessous dans lequel on indique aussi comment élever un nombre à une certaine puissance.\n",
    "\n",
    "| Opération | Écriture en Python |\n",
    "| -------: | :----------------: |\n",
    "| Addition  | `a + b` |\n",
    "| Soustraction | `a - b` |\n",
    "| Multiplication | `a * b` |\n",
    "| Division | `a / b` |\n",
    "| Élever `a` à la puissance `n` | `a ** n` |"
   ]
  },
  {
   "cell_type": "markdown",
   "metadata": {},
   "source": [
    "<h2 style=\"background-color: rgb(0,161,153); color: white; border-radius: 3px;padding: 10px;\">✏️ Activité 3</h2>\n",
    "\n",
    "On considère le programme Python suivant :\n",
    "\n",
    "```python\n",
    "a = 15\n",
    "b = 10\n",
    "c = a + b\n",
    "d = c / 2\n",
    "```\n",
    "\n",
    "✍️ **Question 1** : Déterminez mentalement la valeur de la variable `d` à l'issue de ce programme ? "
   ]
  },
  {
   "cell_type": "raw",
   "metadata": {},
   "source": [
    "Votre réponse : "
   ]
  },
  {
   "cell_type": "markdown",
   "metadata": {},
   "source": [
    "✍️ **Question 2** : Donnez le type de chacune des variables de ce programme."
   ]
  },
  {
   "cell_type": "raw",
   "metadata": {},
   "source": [
    "Votre réponse : "
   ]
  },
  {
   "cell_type": "markdown",
   "metadata": {},
   "source": [
    "🐍 **Question 3** : Recopiez ce programme dans la cellule ci-dessous (*sans faire un copier-coller*, c'est justement pour apprendre)."
   ]
  },
  {
   "cell_type": "code",
   "execution_count": null,
   "metadata": {},
   "outputs": [],
   "source": [
    "# à vous de jouer !\n"
   ]
  },
  {
   "cell_type": "markdown",
   "metadata": {},
   "source": [
    "🐍 **Question 4** : Utilisez la fonction `print` pour afficher la valeur de la variable `d` afin de vérifier votre réponse à la première question."
   ]
  },
  {
   "cell_type": "markdown",
   "metadata": {},
   "source": [
    "🐍 **Question 5** : Exécutez la cellule ci-dessous puis exécutez le programme ligne par ligne avec les boutons <button class='fa'>Forward ></button> et <button class='fa'>&lt; Back</button> pour bien comprendre son fonctionnement.\n",
    "\n",
    "> On utilise ici les fonctionnalités de la bibliothèque `tutor` qui permet d'exécuter un programme ligne par ligne."
   ]
  },
  {
   "cell_type": "code",
   "execution_count": null,
   "metadata": {},
   "outputs": [],
   "source": [
    "from tutor import tutor  # on importe la fonction tutor de la bibliothèque tutor\n",
    "\n",
    "a = 15\n",
    "b = 10\n",
    "c = a + b\n",
    "d = c / 2\n",
    "\n",
    "tutor()  # on utilise cette fonction pour visualiser le programme ligne par ligne"
   ]
  },
  {
   "cell_type": "markdown",
   "metadata": {},
   "source": [
    "🐍 **Question 6** : On considère maintenant que `a` et `b` correspondent à des notes. Réécrivez le programme en utilisant des noms de variables plus représentatifs (pour les 4 variables)."
   ]
  },
  {
   "cell_type": "code",
   "execution_count": null,
   "metadata": {},
   "outputs": [],
   "source": [
    "# à vous de jouer !\n"
   ]
  },
  {
   "cell_type": "markdown",
   "metadata": {},
   "source": [
    "# 🟥 4. À vous de jouer !\n",
    "---\n",
    "\n",
    "<blockquote class=\"alert alert-info\" style=\"background-color:rgb(220,240,255); margin:20px 10%; \">\n",
    " \n",
    "<span style=\"font-size:1.5em\">📣</span> Les activités qui suivent n’ont pas de contexte particulier. C’est pourquoi on utilise des noms de variables peu représentatifs. Leur seul but est de faire ancrer les notions abordées dans ce document.\n",
    "\n",
    "</blockquote>\n"
   ]
  },
  {
   "cell_type": "markdown",
   "metadata": {},
   "source": [
    "<h2 style=\"background-color: rgb(0,161,153); color: white; border-radius: 3px;padding: 10px;\">✏️ Activité 4</h2>\n",
    "\n",
    "On considère le programme Python suivant :\n",
    "\n",
    "```python\n",
    "a = 8\n",
    "b = 3\n",
    "a = a - 4\n",
    "b = 2 * b\n",
    "a = a + b\n",
    "print(a)\n",
    "```\n",
    "\n",
    "✍️ **Question 1** : Combien de variables sont utilisées ? Donnez leurs noms."
   ]
  },
  {
   "cell_type": "raw",
   "metadata": {},
   "source": [
    "Votre réponse : "
   ]
  },
  {
   "cell_type": "markdown",
   "metadata": {},
   "source": [
    "✍️ **Question 2** : Déterminez mentalement la valeur finale de la variable `a` ?"
   ]
  },
  {
   "cell_type": "raw",
   "metadata": {},
   "source": [
    "Votre réponse : "
   ]
  },
  {
   "cell_type": "markdown",
   "metadata": {},
   "source": [
    "🐍 **Question 3** : Vérifiez votre réponse en recopiant le programme dans la cellule ci-dessous (*sans faire un copier-coller*) puis en exécutant ce programme."
   ]
  },
  {
   "cell_type": "code",
   "execution_count": null,
   "metadata": {},
   "outputs": [],
   "source": [
    "# à vous de jouer !\n"
   ]
  },
  {
   "cell_type": "markdown",
   "metadata": {},
   "source": [
    "🐍 **Question 4** : Il est possible d’afficher plusieurs valeurs avec la fonction `print`. Par exemple, si on veut afficher les valeurs des variables `a` et `b` on écrit simplement `print(a, b)`. Modifiez la dernière ligne du programme précédent pour afficher les valeurs finales de variables `a` et `b` !"
   ]
  },
  {
   "cell_type": "markdown",
   "metadata": {},
   "source": [
    "<h2 style=\"background-color: rgb(0,161,153); color: white; border-radius: 3px;padding: 10px;\">✏️ Activité 5</h2>\n",
    "\n",
    "L'utilisation d'un notebook facilite l'apprentissage, mais sachez que la plupart du temps on utilise un *éditeur de code* pour écrire et exécuter des programmes Python. \n",
    "\n",
    "C’est un logiciel qui se décompose généralement en deux fenêtres : \n",
    "\n",
    "- la **fenêtre d’édition** (à gauche dans la capture d'écran ci-dessous) dans laquelle on écrit le programme dans le langage Python \n",
    "- et la **console** (à droite dans la capture d'écran) dans laquelle peuvent notamment s’afficher les valeurs des variables souhaitées (si on utilise la fonction `print()`).\n",
    "\n",
    "<img src=\"https://raw.githubusercontent.com/germainbecker/SNT/master/Capytale/Python/variables-et-affectations/basthon.png\" alt=\"capture d'écran d'une console Basthon\" width=\"800\">\n",
    "\n",
    "Il existe énormément d'éditeur et nous utiliserons pour cette séance un éditeur en ligne appelé **BASTHON** (qui signifie **B**ac **À** **S**able Py**thon**) qui ne nécessite pas d’installation (vous pourrez donc l’utiliser chez vous rien qu’avec une connexion Internet) et qui est aussi accessible via la plateforme Capytale.\n",
    "\n",
    "Voici un lien permettant d'accéder à Basthon : [https://console.basthon.fr/](https://console.basthon.fr/).\n",
    "\n",
    "🐍 **Consigne** : Cliquez sur le lien ci-dessus pour ouvrir l'éditeur de code puis recopiez dans la fenêtre d'édition (celle de gauche) le programme de l'activité précédente. Vous exécuterez ensuite le programme en cliquant sur le bouton \"Exécuter\" et observerez bien que c'est dans la console (fenêtre de droite) que s'affiche la valeur de la variable `a`. "
   ]
  },
  {
   "cell_type": "markdown",
   "metadata": {},
   "source": [
    "<h2 style=\"background-color: rgb(0,161,153); color: white; border-radius: 3px;padding: 10px;\">✏️ Activité 6</h2>\n",
    "\n",
    "On considère le programme de calcul suivant.\n",
    "\n",
    "-   A prend la valeur 5\n",
    "-   Multiplier A par 3\n",
    "-   Soustraire 4 au résultat\n",
    "-   Elever le résultat au carré\n",
    "-   Afficher le résultat\n",
    "\n",
    "🐍 **Question** : Écrivez un programme Python permettant de coder ce programme de calcul. Vérifiez ensuite en l'exécutant.  \n",
    "*Vous pouvez utiliser la cellule ci-dessous ou l'éditeur Basthon*."
   ]
  },
  {
   "cell_type": "code",
   "execution_count": null,
   "metadata": {},
   "outputs": [],
   "source": [
    "# à vous de jouer !\n"
   ]
  },
  {
   "cell_type": "markdown",
   "metadata": {},
   "source": [
    "<h2 style=\"background-color: rgb(0,161,153); color: white; border-radius: 3px;padding: 10px;\">✏️ Activité 7</h2>\n",
    "\n",
    "<img src=\"https://raw.githubusercontent.com/germainbecker/SNT/master/Capytale/Python/variables-et-affectations/farine.png\" alt=\"vente en ligne\" width=\"300\">\n",
    "\n",
    "Sur un site de vente en ligne, on peut acheter différents articles. Un paquet de farine d'un kg coûte 1,15 € et une boîte de six oeufs coûte 1,50 €.\n",
    "\n",
    "🐍 **Question** : Écrivez un programme Python qui :\n",
    "- utilise deux variables pour stocker le nombre de paquets de farine et de boîtes d'oeufs souhaités \n",
    "- puis, qui calcule et affiche le prix total à payer pour la commande.  \n",
    "\n",
    "*Vous pouvez utiliser la cellule ci-dessous ou l'éditeur Basthon*."
   ]
  },
  {
   "cell_type": "code",
   "execution_count": null,
   "metadata": {},
   "outputs": [],
   "source": [
    "# à vous de jouer !\n"
   ]
  },
  {
   "cell_type": "markdown",
   "metadata": {},
   "source": [
    "# 🟥 5. Opérations sur les chaînes de caractères\n",
    "---\n",
    "\n",
    "Pour les chaînes de caractères c’est plus court car il n’y a que deux opérations possibles :\n",
    "\n",
    "-   la **concaténation** qui consiste à mettre bout à bout deux chaînes pour former une unique chaîne : on utilise pour cela le symbole d’addition `+`.\n",
    "-   la **répétition** qui consiste à ajouter une chaîne un certain nombre de fois à elle-même : on utilise pour cela le symbole de multiplication `*`.\n",
    "\n",
    "**Exemple** : Exécutez le programme suivant pour comprendre ce deux opérations"
   ]
  },
  {
   "cell_type": "code",
   "execution_count": null,
   "metadata": {},
   "outputs": [],
   "source": [
    "chaine1 = \"Lou\"\n",
    "chaine2 = \"ane\"\n",
    "\n",
    "chaine3 = chaine1 + chaine2  # concaténation\n",
    "print(chaine3)\n",
    "\n",
    "chaine4 = 3 * chaine1  # répétition\n",
    "print(chaine4)"
   ]
  },
  {
   "cell_type": "markdown",
   "metadata": {},
   "source": [
    "---\n",
    "Les enseignants de SNT du lycée Emmanuel Mounier, ANGERS \n",
    "\n",
    "![Licence Creative Commons](https://i.creativecommons.org/l/by-sa/4.0/88x31.png)"
   ]
  }
 ],
 "metadata": {
  "kernelspec": {
   "display_name": "Python 3",
   "language": "python",
   "name": "python3"
  },
  "language_info": {
   "codemirror_mode": {
    "name": "ipython",
    "version": 3
   },
   "file_extension": ".py",
   "mimetype": "text/x-python",
   "name": "python",
   "nbconvert_exporter": "python",
   "pygments_lexer": "ipython3",
   "version": "3.7.10"
  }
 },
 "nbformat": 4,
 "nbformat_minor": 2
}
