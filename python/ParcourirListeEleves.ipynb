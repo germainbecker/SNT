{
 "cells": [
  {
   "cell_type": "markdown",
   "metadata": {},
   "source": [
    "<span style=\"font-size: 20px\">👉</span> **Remarques**\n",
    "\n",
    "Si c'est la première fois que vous utilisez un _notebook_ (\"carnet\" en français), voici quelques éléments à savoir :\n",
    "- Il s'agit d'un document où on peut mélanger des cellules de texte (comme celle que vous êtes en train de lire) et des cellules de code (devant lesquelles apparaît le mot `In[ ]`). C'est pratique pour combiner des explications et l'écriture de code.\n",
    "- Pour exécuter le code qui est dans une cellule de code, il suffit de se positionner sur la cellule en question et de cliquer sur le bouton **Run** situé dans la barre de menu en haut. On peut aussi utiliser le raccourci clavier Maj + Entrée.\n",
    "- Lorsqu'une cellule de code est exécutée, si le code en question produit une sortie (ou un affichage), celle-ci (celui-ci) apparaît directement en dessous de la cellule.\n",
    "- Il faut pensez à exécuter les cellules de code au fur et à mesure pour que toutes les instructions soient exécutées au fur et à mesure"
   ]
  },
  {
   "cell_type": "markdown",
   "metadata": {},
   "source": [
    "# Parcourir une liste d'élèves\n",
    "\n",
    "Supposons que l'on dispose d'informations sur deux élèves :"
   ]
  },
  {
   "cell_type": "code",
   "execution_count": null,
   "metadata": {},
   "outputs": [],
   "source": [
    "# cellule à exécuter\n",
    "eleve1 = {\"prénom\": \"Dario\", \"sexe\": \"M\", \"niveau\": \"Seconde\", \"âge\": 15}\n",
    "eleve2 = {\"prénom\": \"Chloé\", \"sexe\": \"F\", \"niveau\": \"Première\", \"âge\": 16}"
   ]
  },
  {
   "cell_type": "markdown",
   "metadata": {},
   "source": [
    "> Observez bien la façon dont sont mémorisées les informations ci-dessus.\n",
    "\n",
    "On peut alors accéder facilement aux informations des deux élèves.\n",
    "\n",
    "**Exemples** \n",
    "\n",
    "- L'instruction `eleve1[\"prénom\"]` permet d'accéder au prénom  de `eleve1`."
   ]
  },
  {
   "cell_type": "code",
   "execution_count": null,
   "metadata": {},
   "outputs": [],
   "source": [
    "# cellule à exécuter\n",
    "eleve1[\"prénom\"]"
   ]
  },
  {
   "cell_type": "markdown",
   "metadata": {},
   "source": [
    "- L'instruction `eleve2[\"sexe\"]` permet d'accéder au sexe de `eleve2`."
   ]
  },
  {
   "cell_type": "code",
   "execution_count": null,
   "metadata": {},
   "outputs": [],
   "source": [
    "# cellule à exécuter\n",
    "eleve2[\"sexe\"]"
   ]
  },
  {
   "cell_type": "markdown",
   "metadata": {},
   "source": [
    "**Question 1** : Écrivez l'instruction permettant d'accéder au niveau de Dario, puis exécutez la cellule afin de voir si la valeur renvoyée est correcte."
   ]
  },
  {
   "cell_type": "code",
   "execution_count": null,
   "metadata": {},
   "outputs": [],
   "source": [
    "# instruction à écrire ici\n"
   ]
  },
  {
   "cell_type": "markdown",
   "metadata": {},
   "source": [
    "**Question 2** : Écrivez l'instruction permettant d'accéder à l'âge de Chloé, puis exécutez la cellule afin de voir si la valeur renvoyée est correcte."
   ]
  },
  {
   "cell_type": "code",
   "execution_count": null,
   "metadata": {},
   "outputs": [],
   "source": [
    "# instruction à écrire ici\n"
   ]
  },
  {
   "cell_type": "markdown",
   "metadata": {},
   "source": [
    "**Question 3** : Créez une variable appelée `eleve3` qui contient des informations sur un troisième élève que vous inventerez. _Prenez exemple sur la création des deux premiers élèves et soyez rigoureux dans votre écriture (pas d'oubli de \":\", de guillemets, d'accolades, etc.)_."
   ]
  },
  {
   "cell_type": "code",
   "execution_count": null,
   "metadata": {},
   "outputs": [],
   "source": [
    "# code à écrire ici\n"
   ]
  },
  {
   "cell_type": "markdown",
   "metadata": {},
   "source": [
    "> N'oubliez pas d'exécuter la cellule ci-dessus pour mémoriser les informations sur ce nouvel élève"
   ]
  },
  {
   "cell_type": "markdown",
   "metadata": {},
   "source": [
    "**Question 4** : Écrivez l'instruction permettant d'accéder au prénom de ce nouvel élève et vérifiez que la valeur renvoyée est la bonne."
   ]
  },
  {
   "cell_type": "code",
   "execution_count": null,
   "metadata": {},
   "outputs": [],
   "source": [
    "# instruction à écrire ici\n"
   ]
  },
  {
   "cell_type": "markdown",
   "metadata": {},
   "source": [
    "On suppose maintenant que l'on dispose d'une liste appelée `liste_eleves` qui contient des informations sur plusieurs élèves."
   ]
  },
  {
   "cell_type": "code",
   "execution_count": null,
   "metadata": {},
   "outputs": [],
   "source": [
    "# cellule à exécuter\n",
    "liste_eleves = [\n",
    "    {\"prénom\": \"Dario\", \"sexe\": \"M\", \"niveau\": \"Seconde\", \"âge\": 15},\n",
    "    {\"prénom\": \"Chloé\", \"sexe\": \"F\", \"niveau\": \"Première\", \"âge\": 16},\n",
    "    {\"prénom\": \"Louane\", \"sexe\": \"F\", \"niveau\": \"Seconde\", \"âge\": 15},\n",
    "    {\"prénom\": \"Martin\", \"sexe\": \"M\", \"niveau\": \"Terminale\", \"âge\": 18},\n",
    "    {\"prénom\": \"Tanguy\", \"sexe\": \"M\", \"niveau\": \"Première\", \"âge\": 16},\n",
    "    {\"prénom\": \"Marion\", \"sexe\": \"F\", \"niveau\": \"Première\", \"âge\": 17},\n",
    "    {\"prénom\": \"Anna\", \"sexe\": \"F\", \"niveau\": \"Seconde\", \"âge\": 16},\n",
    "    {\"prénom\": \"Izac\", \"sexe\": \"M\", \"niveau\": \"Seconde\", \"âge\": 15},\n",
    "    {\"prénom\": \"Lisa\", \"sexe\": \"F\", \"niveau\": \"Seconde\", \"âge\": 16},\n",
    "    {\"prénom\": \"Sofia\", \"sexe\": \"F\", \"niveau\": \"Terminale\", \"âge\": 17}\n",
    "]"
   ]
  },
  {
   "cell_type": "markdown",
   "metadata": {},
   "source": [
    "On peut parcourir cette liste d'élèves avec une boucle `for` pour effectuer des traitements de données.\n",
    "\n",
    "**Question 5** : Quel est le rôle du code suivant ? Quelle est la valeur finale de la variable `nb_filles` ?\n",
    "\n",
    "> Essayez de répondre sans exécuter le code, en l'analysant attentivement. Si vous n'y parvenez pas, exécutez-le pour vous aider."
   ]
  },
  {
   "cell_type": "code",
   "execution_count": null,
   "metadata": {},
   "outputs": [],
   "source": [
    "nb_filles = 0\n",
    "for eleve in liste_eleves:\n",
    "    if eleve[\"sexe\"] == \"F\":\n",
    "        nb_filles = nb_filles + 1\n",
    "print(nb_filles)  # pour afficher la valeur finale"
   ]
  },
  {
   "cell_type": "markdown",
   "metadata": {},
   "source": [
    "**Question 6** : Modifiez le code pour compter le nombre d'élèves en classe de Seconde. _Pensez à modifier le nom des variables pour cela soit cohérent_."
   ]
  },
  {
   "cell_type": "code",
   "execution_count": null,
   "metadata": {},
   "outputs": [],
   "source": [
    "# code à recopier et modifier ici\n"
   ]
  },
  {
   "cell_type": "markdown",
   "metadata": {},
   "source": [
    "**Question 7** : Modifiez le code pour compter le nombre d'élèves ayant 16 ans. _Pensez à modifier le nom des variables pour cela soit cohérent_."
   ]
  },
  {
   "cell_type": "code",
   "execution_count": null,
   "metadata": {},
   "outputs": [],
   "source": [
    "# code à recopier et modifier ici\n"
   ]
  },
  {
   "cell_type": "markdown",
   "metadata": {},
   "source": [
    "**Question 8** : Modifiez le code pour compter le nombre d'élèves ayant 17 ans ou plus. _Pensez à modifier le nom des variables pour cela soit cohérent_."
   ]
  },
  {
   "cell_type": "code",
   "execution_count": null,
   "metadata": {},
   "outputs": [],
   "source": [
    "# code à recopier et modifier ici\n"
   ]
  },
  {
   "cell_type": "markdown",
   "metadata": {},
   "source": [
    "--- \n",
    "<span style=\"font-size: 30px\">👏</span> **Bravo** ! Si vous êtes arrivés ici vous avez terminé l'exercice !\n",
    "\n",
    "Vous pouvez conserver un lien vers votre travail : pour cela, il suffit de cliquer sur le bouton \"Share this notebook\" dans la barre de menu pour copier le lien vers votre notebook. Libre à vous d'enregistrer ou de communiquer ce lien.\n",
    "![logo share](data:image/png;base64,iVBORw0KGgoAAAANSUhEUgAAACAAAAAgCAYAAABzenr0AAAABHNCSVQICAgIfAhkiAAAAAlwSFlzAAAOxAAADsQBlSsOGwAAAYNJREFUWIXF17FOG0EYBOBvSeGAkpKK9LTkCaBOCps+NbxC+pRuoU5eIR0FSFzKQJEieQAqUtLYllDsS3E+2ZzO58PeNSNtc/q1M3v37/xzpEUPGYbTlU2fbQT9EEJet9BPTd5bRD4nIumbyFoIyCAkEjAMIWw3FeR5PsLOVgLygNb7xhZwiJ8hhE6L2puYxPv4HkKYLPv2cz1wHIN4F2d4rGw+wEXKa/gan/FQ2XiMb3g3resqun1gZkRrnTzgE+5qTnWF9+tszlPrHOBacQqKBrupIf6Dj+sS02ydv6oNhr84xasY5Euts9JgX/A2BnGJNtY5xlfsxSQurbi1dcYkJ74TriygjS12JPgEJY5XaMI3sUU89xre40Ska1iihx9mRpSZGdERbmvE/caHmCKa0GTFlzjYlJBFw+ifYhiVjdpV2Pn8MIqaBXdx7gXGcRWrBJIkqfhITaNuOhUHjJblwpSpOMekbXGqWdDG2qOm4iqWWrtIqbgJL/pzWmLe2mtT8X+LG/XJRwcUSgAAAABJRU5ErkJggg==)"
   ]
  },
  {
   "cell_type": "markdown",
   "metadata": {},
   "source": [
    "---\n",
    "\n",
    "Germain BECKER, Marine DENAIS, Carine LEGALL, Sébastien POINT, Lycée Mounier, ANGERS ![Licence Creative Commons](https://i.creativecommons.org/l/by-nc-sa/4.0/88x31.png)"
   ]
  }
 ],
 "metadata": {
  "kernelspec": {
   "display_name": "Python 3",
   "language": "python",
   "name": "python3"
  },
  "language_info": {
   "codemirror_mode": {
    "name": "ipython",
    "version": 3
   },
   "file_extension": ".py",
   "mimetype": "text/x-python",
   "name": "python",
   "nbconvert_exporter": "python",
   "pygments_lexer": "ipython3",
   "version": "3.7.9"
  }
 },
 "nbformat": 4,
 "nbformat_minor": 2
}
