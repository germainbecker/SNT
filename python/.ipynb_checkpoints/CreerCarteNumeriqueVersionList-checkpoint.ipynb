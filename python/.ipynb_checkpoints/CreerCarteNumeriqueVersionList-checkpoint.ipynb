{
 "cells": [
  {
   "cell_type": "markdown",
   "metadata": {},
   "source": [
    "<span style=\"font-size: 20px\">👉</span> **Remarques**\n",
    "\n",
    "Si c'est la première fois que vous utilisez un _notebook_ (\"carnet\" en français), voici quelques éléments à savoir :\n",
    "- Il s'agit d'un document où on peut mélanger des cellules de texte (comme celle que vous êtes en train de lire) et des cellules de code (devant lesquelles apparaît le mot `In[ ]`). C'est pratique pour combiner des explications et l'écriture de code.\n",
    "- Pour exécuter le code qui est dans une cellule de code, il suffit de se positionner sur la cellule en question et de cliquer sur le bouton **Run** situé dans la barre de menu en haut. On peut aussi utiliser le raccourci clavier Maj + Entrée.\n",
    "- Lorsqu'une cellule de code est exécutée, si le code en question produit une sortie (ou un affichage), celle-ci (celui-ci) apparaît directement en dessous de la cellule.\n",
    "- Il faut pensez à exécuter les cellules de code au fur et à mesure pour que toutes les instructions soient exécutées au fur et à mesure"
   ]
  },
  {
   "cell_type": "markdown",
   "metadata": {},
   "source": [
    "# Créer une carte numérique avec Python\n",
    "\n",
    "<img src=\"data:image/svg+xml;base64,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\" width=\"200\">\n",
    "\n",
    "Le langage Python permet de créer des cartes à partir d'Open Street Map. Pour cela, on va utiliser une bibliothèque appelée `folium` qui permet d'ajouter des fonctionnalités supplémentaires à Python pour créer des cartes numériques.\n",
    "\n",
    "## Création d'une carte\n",
    "\n",
    "Le code suivant permet d'importer la bibliothèque `folium` puis de créer une carte appelée `ma_carte`."
   ]
  },
  {
   "cell_type": "code",
   "execution_count": 4,
   "metadata": {},
   "outputs": [],
   "source": [
    "# cellule à exécuter\n",
    "import folium\n",
    "ma_carte = folium.Map([51.165691, 10.451526], zoom_start=5)"
   ]
  },
  {
   "cell_type": "markdown",
   "metadata": {},
   "source": [
    "Pour afficher la carte, il suffit de l'appeler par son nom en dernière ligne du programme, comme ci-dessous :"
   ]
  },
  {
   "cell_type": "code",
   "execution_count": 3,
   "metadata": {
    "scrolled": false
   },
   "outputs": [
    {
     "data": {
      "text/html": [
       "<div style=\"width:100%;\"><div style=\"position:relative;width:100%;height:0;padding-bottom:60%;\"><span style=\"color:#565656\">Make this Notebook Trusted to load map: File -> Trust Notebook</span><iframe src=\"about:blank\" style=\"position:absolute;width:100%;height:100%;left:0;top:0;border:none !important;\" data-html=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 onload=\"this.contentDocument.open();this.contentDocument.write(atob(this.getAttribute('data-html')));this.contentDocument.close();\" allowfullscreen webkitallowfullscreen mozallowfullscreen></iframe></div></div>"
      ],
      "text/plain": [
       "<folium.folium.Map at 0x2984ab6a908>"
      ]
     },
     "execution_count": 3,
     "metadata": {},
     "output_type": "execute_result"
    }
   ],
   "source": [
    "import folium\n",
    "ma_carte = folium.Map([51.165691, 10.451526], zoom_start=5)\n",
    "ma_carte  # pour afficher la carte"
   ]
  },
  {
   "cell_type": "markdown",
   "metadata": {},
   "source": [
    "**Explications** : C'est l'instruction\n",
    "\n",
    "```python\n",
    "folium.Map([51.165691, 10.451526], zoom_start=5)\n",
    "```\n",
    "qui permet de créer notre carte. Pour cela, on a spécifié deux paramètres :\n",
    "- `location` qui est égal à une liste contenant les coordonnées [latitude, longitude] en degrés décimaux. Ici `[51.165691, 10.451526]` correspond au lieu ayant pour latitude 51.165691 et pour longitude 10.451526, soit le centre de l'Allemagne.\n",
    "- `zoom_start` qui est égal à la valeur de zoom de départ. Ici on a choisi la valeur 5. Plus la valeur est grande, plus le zoom est important."
   ]
  },
  {
   "cell_type": "markdown",
   "metadata": {},
   "source": [
    "**Question 1** : Cherchez les coordonnées géographiques du centre de la France sur [https://www.coordonnees-gps.fr/](https://www.coordonnees-gps.fr/) puis créez une carte `ma_carte` centrée sur la France avec un zoom permettant de voir tout le pays."
   ]
  },
  {
   "cell_type": "code",
   "execution_count": null,
   "metadata": {},
   "outputs": [],
   "source": [
    "# code à écrire ici\n"
   ]
  },
  {
   "cell_type": "markdown",
   "metadata": {},
   "source": [
    "## Ajout de marqueurs\n",
    "\n",
    "<img src=\"data:image/svg+xml;base64,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\" width=\"100\">"
   ]
  },
  {
   "cell_type": "markdown",
   "metadata": {},
   "source": [
    "On peut facilement ajouter un marqueur à notre carte :"
   ]
  },
  {
   "cell_type": "code",
   "execution_count": null,
   "metadata": {},
   "outputs": [],
   "source": [
    "import folium\n",
    "ma_carte = folium.Map(location=[46.603354, 1.8883335], zoom_start=5)\n",
    "folium.Marker([48.8566969, 2.3514616], popup=\"Paris\").add_to(ma_carte)  # AJOUT DU MARQUEUR\n",
    "ma_carte  # pour afficher la carte"
   ]
  },
  {
   "cell_type": "markdown",
   "metadata": {},
   "source": [
    "**Explications** : C'est l'instruction\n",
    "\n",
    "```python\n",
    "folium.Marker([48.8566969, 2.3514616], popup=\"Paris\").add_to(ma_carte)\n",
    "```\n",
    "\n",
    "qui permet de créer et d'ajouter un marqueur à notre carte :\n",
    "- la fonction `Marker` crée un marqueur sur lieu de coordonnées géographiques [48.8566969, 2.3514616] (qui correspond à la ville de Paris) et une fenêtre popup qui s'ouvre au clic sur le marqueur et qui affiche le message `\"Paris\"`).\n",
    "- la fin de l'instruction `.add_to(ma_carte)` permet ensuite d'ajouter le marqueur à la carte `ma_carte` (_add_to_ signifie \"ajouter à\" en anglais)."
   ]
  },
  {
   "cell_type": "markdown",
   "metadata": {},
   "source": [
    "**Question 2** : Cherchez les coordonnées géographiques de la ville d'Angers sur https://www.coordonnees-gps.fr/ puis créez un deuxième marqueur sur la ville d'Angers."
   ]
  },
  {
   "cell_type": "code",
   "execution_count": null,
   "metadata": {},
   "outputs": [],
   "source": [
    "# code à écrire ici\n"
   ]
  },
  {
   "cell_type": "markdown",
   "metadata": {},
   "source": [
    "Supposons que l'on dispose d'informations sur deux villes :"
   ]
  },
  {
   "cell_type": "code",
   "execution_count": null,
   "metadata": {},
   "outputs": [],
   "source": [
    "ville1 = [\"Paris\", 48.8566969, 2.3514616]\n",
    "ville2 = [\"Marseille\", 43.2961743, 5.3699525]"
   ]
  },
  {
   "cell_type": "markdown",
   "metadata": {
    "metadata": {
     "deletable": false,
     "editable": false,
     "trusted": true
    }
   },
   "source": [
    "Chaque ville est représentée par une liste de 3 éléments : son nom, sa latitude et sa longitude.\n",
    "\n",
    "Chaque élément possède une position dans la liste :\n",
    "- le nom est en position 0,\n",
    "- la latitude en position 1,\n",
    "- la longitude en position 2.\n",
    "\n",
    "![index](data:image/png;base64,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)"
   ]
  },
  {
   "cell_type": "markdown",
   "metadata": {},
   "source": [
    "On peut alors accéder à chaque élément grâce à sa position, que l'on met entre crochets `[` et `]`.\n",
    "\n",
    "**Exemples**\n",
    "- L'instruction `ville1[0]` permet d'accéder l'élément en position 0 de `ville1` soit le _nom_ de `ville1` :"
   ]
  },
  {
   "cell_type": "code",
   "execution_count": null,
   "metadata": {
    "scrolled": true
   },
   "outputs": [],
   "source": [
    "ville1[0]"
   ]
  },
  {
   "cell_type": "markdown",
   "metadata": {},
   "source": [
    "- L'instruction `ville1[1]` permet d'accéder l'élément en position 1 de `ville1` soit la _latitude_ de `ville1` :"
   ]
  },
  {
   "cell_type": "code",
   "execution_count": null,
   "metadata": {},
   "outputs": [],
   "source": [
    "ville1[1]"
   ]
  },
  {
   "cell_type": "markdown",
   "metadata": {},
   "source": [
    "- L'instruction `ville1[2]` permet d'accéder l'élément en position 2 de `ville1` soit la _longitude_ de `ville1` :"
   ]
  },
  {
   "cell_type": "code",
   "execution_count": null,
   "metadata": {},
   "outputs": [],
   "source": [
    "ville1[2]"
   ]
  },
  {
   "cell_type": "markdown",
   "metadata": {},
   "source": [
    "**Question 3** : Écrivez l'instruction permettant d'accéder au nom de `ville2` puis exécutez la cellule afin de voir si la valeur renvoyée est correcte."
   ]
  },
  {
   "cell_type": "code",
   "execution_count": null,
   "metadata": {},
   "outputs": [],
   "source": [
    "# instruction à écrire ici\n"
   ]
  },
  {
   "cell_type": "markdown",
   "metadata": {},
   "source": [
    "**Question 4** : Écrivez l'instruction permettant d'accéder à la longitude de `ville2` puis exécutez la cellule afin de voir si la valeur renvoyée est correcte."
   ]
  },
  {
   "cell_type": "code",
   "execution_count": null,
   "metadata": {},
   "outputs": [],
   "source": [
    "# instruction à écrire ici\n"
   ]
  },
  {
   "cell_type": "markdown",
   "metadata": {},
   "source": [
    "**Question 5** : Créez une variable appelée `ville3` qui contient les informations sur la ville d'Angers (au même format que pour les deux premières villes)."
   ]
  },
  {
   "cell_type": "code",
   "execution_count": null,
   "metadata": {},
   "outputs": [],
   "source": [
    "# code à écrire ici\n"
   ]
  },
  {
   "cell_type": "markdown",
   "metadata": {},
   "source": [
    "> N'oubliez pas d'exécuter la cellule ci-dessus pour mémoriser les informations sur la nouvelle ville."
   ]
  },
  {
   "cell_type": "markdown",
   "metadata": {},
   "source": [
    "**Question 6** : Écrivez l'instruction permettant d'accéder à la latitude de `ville3` et vérifiez que la valeur renvoyée est la bonne."
   ]
  },
  {
   "cell_type": "code",
   "execution_count": null,
   "metadata": {},
   "outputs": [],
   "source": [
    "# instruction à écrire ici\n"
   ]
  },
  {
   "cell_type": "markdown",
   "metadata": {},
   "source": [
    "On peut alors utiliser les informations stockées dans `ville1`, `ville2`, etc. pour ajouter les marqueurs correspondant sur la carte. \n",
    "\n",
    "Par exemple pour `ville1` (Paris), au lieu d'écrire \n",
    "\n",
    "```python\n",
    "folium.Marker([48.8566969, 2.3514616], popup=\"Paris\").add_to(ma_carte)\n",
    "```\n",
    "\n",
    "on peut écrire\n",
    "\n",
    "```python\n",
    "folium.Marker([ville1[1], ville1[2]], popup=ville1[0]).add_to(ma_carte)\n",
    "```\n",
    "\n",
    "On pourrait faire de même pour chaque ville, en écrivant plusieurs fois le même genre d'instructions. Cependant, pour éviter les répétitions on va utiliser une boucle `for`."
   ]
  },
  {
   "cell_type": "markdown",
   "metadata": {},
   "source": [
    "## Ajouter plusieurs marqueurs avec une boucle `for`\n",
    "\n",
    "On suppose que l'on dispose désormais d'une liste appelée `liste_villes` qui contient des informations sur plusieurs villes."
   ]
  },
  {
   "cell_type": "code",
   "execution_count": null,
   "metadata": {},
   "outputs": [],
   "source": [
    "# cellule à exécuter\n",
    "liste_villes = [\n",
    "    [\"Paris\", 48.8566969, 2.3514616],\n",
    "    [\"Marseille\", 43.2961743, 5.3699525],\n",
    "    [\"Bordeaux\", 44.841225, -0.5800364],\n",
    "    [\"Nantes\", 47.2186371, -1.5541362],\n",
    "    [\"Angers\", 47.4739884, -0.5515588],\n",
    "    [\"Metz\", 49.1196964, 6.1763552],\n",
    "    [\"Tours\", 47.3900474, 0.6889268],\n",
    "    [\"Lille\", 50.6365654, 3.0635282],\n",
    "    [\"Toulouse\", 43.6044622, 1.4442469],\n",
    "    [\"Strasbourg\", 48.584614, 7.7507127]\n",
    "]"
   ]
  },
  {
   "cell_type": "markdown",
   "metadata": {},
   "source": [
    "On souhaite créer un marqueur pour chacune de ces villes sur notre carte.\n",
    "\n",
    "Pour cela, on peut parcourir les éléments de `liste_villes` avec une boucle `for` et ajouter un marqueur pour chaque élément, c'est-à-dire pour chaque ville. Le code ci-dessous permet de le faire :"
   ]
  },
  {
   "cell_type": "code",
   "execution_count": null,
   "metadata": {},
   "outputs": [],
   "source": [
    "import folium\n",
    "ma_carte = folium.Map(location=[46.603354, 1.8883335], zoom_start=5)\n",
    "for element in liste_villes:\n",
    "    folium.Marker([element[1], element[2]], popup=element[0]).add_to(ma_carte)\n",
    "ma_carte"
   ]
  },
  {
   "cell_type": "markdown",
   "metadata": {},
   "source": [
    "**Explications** : \n",
    "\n",
    "- Au premier passage dans la boucle `for`, la variable `element` prend la valeur `[\"Paris\", 48.8566969, 2.3514616]`, puis au second passage, elle prend la valeur `[\"Marseille\", 43.2961743, 5.3699525]`, ainsi de suite...\n",
    "- Ainsi, on sait que `element[1]` représente la latitude, `element[2]` représente la longitude et `element[0]` est le nom de chaque ville parcourue, ce qui permet de créer un marqueur au bon endroit avec l'instruction `folium.Marker([element[1], element[2]], popup=element[0])`."
   ]
  },
  {
   "cell_type": "markdown",
   "metadata": {},
   "source": [
    "### Ajouter certains marqueurs selon des conditions\n",
    "\n",
    "Le code suivant permet de parcourir toutes les villes de notre liste mais de ne créer un marqueur que pour celles situées _au nord de Paris_."
   ]
  },
  {
   "cell_type": "code",
   "execution_count": null,
   "metadata": {},
   "outputs": [],
   "source": [
    "import folium\n",
    "ma_carte = folium.Map(location=[46.603354, 1.8883335], zoom_start=5)\n",
    "for element in liste_villes:\n",
    "    if element[1] >= 48.8566969:\n",
    "        folium.Marker([element[1], element[2]]).add_to(ma_carte)\n",
    "ma_carte"
   ]
  },
  {
   "cell_type": "markdown",
   "metadata": {},
   "source": [
    "**Question 7** : Modifiez le code précédent pour ne créer un marqueur que pour les villes situées _au sud d'Angers_ (Angers inclus)."
   ]
  },
  {
   "cell_type": "code",
   "execution_count": null,
   "metadata": {},
   "outputs": [],
   "source": [
    "# code à écrire ici\n"
   ]
  },
  {
   "cell_type": "markdown",
   "metadata": {},
   "source": [
    "**Question 8** : Modifiez le code précédent pour ne créer un marqueur que pour les villes situées _à l'ouest de Lille_ (Lille inclus)."
   ]
  },
  {
   "cell_type": "code",
   "execution_count": null,
   "metadata": {},
   "outputs": [],
   "source": [
    "# code à écrire ici\n"
   ]
  },
  {
   "cell_type": "markdown",
   "metadata": {},
   "source": [
    "--- \n",
    "<span style=\"font-size: 30px\">👏</span> **Bravo** ! Si vous êtes arrivés ici vous avez terminé l'exercice !\n",
    "\n",
    "Vous pouvez cliquer sur le bouton \"Share this notebook\" dans la barre de menu pour copier le lien vers votre notebook. Libre à vous de coller et d'enregistrer ce lien au bon endroit.\n",
    "![logo share](data:image/png;base64,iVBORw0KGgoAAAANSUhEUgAAACAAAAAgCAYAAABzenr0AAAABHNCSVQICAgIfAhkiAAAAAlwSFlzAAAOxAAADsQBlSsOGwAAAYNJREFUWIXF17FOG0EYBOBvSeGAkpKK9LTkCaBOCps+NbxC+pRuoU5eIR0FSFzKQJEieQAqUtLYllDsS3E+2ZzO58PeNSNtc/q1M3v37/xzpEUPGYbTlU2fbQT9EEJet9BPTd5bRD4nIumbyFoIyCAkEjAMIWw3FeR5PsLOVgLygNb7xhZwiJ8hhE6L2puYxPv4HkKYLPv2cz1wHIN4F2d4rGw+wEXKa/gan/FQ2XiMb3g3resqun1gZkRrnTzgE+5qTnWF9+tszlPrHOBacQqKBrupIf6Dj+sS02ydv6oNhr84xasY5Euts9JgX/A2BnGJNtY5xlfsxSQurbi1dcYkJ74TriygjS12JPgEJY5XaMI3sUU89xre40Ska1iihx9mRpSZGdERbmvE/caHmCKa0GTFlzjYlJBFw+ifYhiVjdpV2Pn8MIqaBXdx7gXGcRWrBJIkqfhITaNuOhUHjJblwpSpOMekbXGqWdDG2qOm4iqWWrtIqbgJL/pzWmLe2mtT8X+LG/XJRwcUSgAAAABJRU5ErkJggg==)\n",
    "\n"
   ]
  },
  {
   "cell_type": "markdown",
   "metadata": {},
   "source": [
    "---\n",
    "\n",
    "Germain BECKER, Marine DENAIS, Carine LEGALL, Sébastien POINT, Lycée Mounier, ANGERS ![Licence Creative Commons](https://i.creativecommons.org/l/by-nc-sa/4.0/88x31.png)"
   ]
  }
 ],
 "metadata": {
  "celltoolbar": "Aucun(e)",
  "kernelspec": {
   "display_name": "Python 3",
   "language": "python",
   "name": "python3"
  },
  "language_info": {
   "codemirror_mode": {
    "name": "ipython",
    "version": 3
   },
   "file_extension": ".py",
   "mimetype": "text/x-python",
   "name": "python",
   "nbconvert_exporter": "python",
   "pygments_lexer": "ipython3",
   "version": "3.7.9"
  }
 },
 "nbformat": 4,
 "nbformat_minor": 2
}
