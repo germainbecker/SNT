{
 "cells": [
  {
   "cell_type": "markdown",
   "metadata": {},
   "source": [
    "<span style=\"font-size: 20px\">👉</span> **Remarques**\n",
    "\n",
    "Si c'est la première fois que vous utilisez un _notebook_ (\"carnet\" en français), voici quelques éléments à savoir :\n",
    "- Il s'agit d'un document où on peut mélanger des cellules de texte (comme celle que vous êtes en train de lire) et des cellules de code (devant lesquelles apparaît le mot `In[ ]`). C'est pratique pour combiner des explications et l'écriture de code.\n",
    "- Pour exécuter le code qui est dans une cellule de code, il suffit de se positionner sur la cellule en question et de cliquer sur le bouton **Run** situé dans la barre de menu en haut. On peut aussi utiliser le raccourci clavier Maj + Entrée.\n",
    "- Lorsqu'une cellule de code est exécutée, si le code en question produit une sortie (ou un affichage), celle-ci (celui-ci) apparaît directement en dessous de la cellule.\n",
    "- Il faut pensez à exécuter les cellules de code au fur et à mesure pour que toutes les instructions soient exécutées au fur et à mesure"
   ]
  },
  {
   "cell_type": "markdown",
   "metadata": {},
   "source": [
    "# Créer une carte numérique avec Python\n",
    "\n",
    "<img src=\"data:image/svg+xml;base64,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\" width=\"200\">\n",
    "\n",
    "Le langage Python permet de créer des cartes à partir d'Open Street Map. Pour cela, on va utiliser une bibliothèque appelée `folium` qui permet d'ajouter des fonctionnalités supplémentaires à Python pour créer des cartes numériques.\n",
    "\n",
    "## Création d'une carte\n",
    "\n",
    "Le code suivant permet d'importer la bibliothèque `folium` puis de créer une carte appelée `ma_carte`."
   ]
  },
  {
   "cell_type": "code",
   "execution_count": null,
   "metadata": {},
   "outputs": [],
   "source": [
    "# cellule à exécuter\n",
    "import folium\n",
    "ma_carte = folium.Map([51.165691, 10.451526], zoom_start=5)"
   ]
  },
  {
   "cell_type": "markdown",
   "metadata": {},
   "source": [
    "Pour afficher la carte, il suffit de l'appeler par son nom en dernière ligne du programme, comme ci-dessous :"
   ]
  },
  {
   "cell_type": "code",
   "execution_count": null,
   "metadata": {
    "scrolled": false
   },
   "outputs": [],
   "source": [
    "import folium\n",
    "ma_carte = folium.Map([51.165691, 10.451526], zoom_start=5)\n",
    "ma_carte  # pour afficher la carte"
   ]
  },
  {
   "cell_type": "markdown",
   "metadata": {},
   "source": [
    "**Explications** : C'est l'instruction\n",
    "\n",
    "```python\n",
    "folium.Map([51.165691, 10.451526], zoom_start=5)\n",
    "```\n",
    "qui permet de créer notre carte. Pour cela, on a spécifié deux paramètres :\n",
    "- `location` qui est égal à une liste contenant les coordonnées [latitude, longitude] en degrés décimaux. Ici `[51.165691, 10.451526]` correspond au lieu ayant pour latitude 51.165691 et pour longitude 10.451526, soit le centre de l'Allemagne.\n",
    "- `zoom_start` qui est égal à la valeur de zoom de départ. Ici on a choisi la valeur 5. Plus la valeur est grande, plus le zoom est important."
   ]
  },
  {
   "cell_type": "markdown",
   "metadata": {},
   "source": [
    "**Question 1** : Cherchez les coordonnées géographiques du centre de la France sur [https://www.coordonnees-gps.fr/](https://www.coordonnees-gps.fr/) puis créez une carte `ma_carte` centrée sur la France avec un zoom permettant de voir tout le pays."
   ]
  },
  {
   "cell_type": "code",
   "execution_count": null,
   "metadata": {},
   "outputs": [],
   "source": [
    "# code à écrire ici\n"
   ]
  },
  {
   "cell_type": "markdown",
   "metadata": {},
   "source": [
    "## Ajout de marqueurs\n",
    "\n",
    "<img src=\"data:image/svg+xml;base64,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\" width=\"100\">"
   ]
  },
  {
   "cell_type": "markdown",
   "metadata": {},
   "source": [
    "On peut facilement ajouter un marqueur à notre carte :"
   ]
  },
  {
   "cell_type": "code",
   "execution_count": null,
   "metadata": {},
   "outputs": [],
   "source": [
    "import folium\n",
    "ma_carte = folium.Map(location=[46.603354, 1.8883335], zoom_start=5)\n",
    "folium.Marker([48.8566969, 2.3514616], popup=\"Paris\").add_to(ma_carte)  # AJOUT DU MARQUEUR\n",
    "ma_carte  # pour afficher la carte"
   ]
  },
  {
   "cell_type": "markdown",
   "metadata": {},
   "source": [
    "**Explications** : C'est l'instruction\n",
    "\n",
    "```python\n",
    "folium.Marker([48.8566969, 2.3514616], popup=\"Paris\").add_to(ma_carte)\n",
    "```\n",
    "\n",
    "qui permet de créer et d'ajouter un marqueur à notre carte :\n",
    "- la fonction `Marker` crée un marqueur sur lieu de coordonnées géographiques [48.8566969, 2.3514616] (qui correspond à la ville de Paris) et une fenêtre popup qui s'ouvre au clic sur le marqueur et qui affiche le message `\"Paris\"`).\n",
    "- la fin de l'instruction `.add_to(ma_carte)` permet ensuite d'ajouter le marqueur à la carte `ma_carte` (_add_to_ signifie \"ajouter à\" en anglais)."
   ]
  },
  {
   "cell_type": "markdown",
   "metadata": {},
   "source": [
    "**Question 2** : Cherchez les coordonnées géographiques de la ville d'Angers sur https://www.coordonnees-gps.fr/ puis créez un deuxième marqueur sur la ville d'Angers."
   ]
  },
  {
   "cell_type": "code",
   "execution_count": null,
   "metadata": {},
   "outputs": [],
   "source": [
    "# code à écrire ici\n"
   ]
  },
  {
   "cell_type": "markdown",
   "metadata": {},
   "source": [
    "Supposons que l'on dispose d'informations sur deux villes :"
   ]
  },
  {
   "cell_type": "code",
   "execution_count": null,
   "metadata": {},
   "outputs": [],
   "source": [
    "# cellule à exécuter\n",
    "ville1 = {\"nom\" : \"Paris\", \"lat\": 48.8566969, \"long\": 2.3514616}\n",
    "ville2 = {\"nom\": \"Marseille\", \"lat\": 43.2961743, \"long\": 5.3699525}"
   ]
  },
  {
   "cell_type": "markdown",
   "metadata": {},
   "source": [
    "On peut alors accéder facilement aux informations sur une ville :\n",
    "\n",
    "**Exemples**\n",
    "- L'instruction `ville1[\"nom\"]` permet d'accéder au nom de `ville1` :"
   ]
  },
  {
   "cell_type": "code",
   "execution_count": null,
   "metadata": {
    "scrolled": true
   },
   "outputs": [],
   "source": [
    "ville1[\"nom\"]"
   ]
  },
  {
   "cell_type": "markdown",
   "metadata": {},
   "source": [
    "- L'instruction `ville1[\"lat\"]` permet d'accéder à la _latitude_ de `ville1` :"
   ]
  },
  {
   "cell_type": "code",
   "execution_count": null,
   "metadata": {},
   "outputs": [],
   "source": [
    "ville1[\"lat\"]"
   ]
  },
  {
   "cell_type": "markdown",
   "metadata": {},
   "source": [
    "- L'instruction `ville2[\"long\"]` permet d'accéder à la _longitude_ de `ville2` :"
   ]
  },
  {
   "cell_type": "code",
   "execution_count": null,
   "metadata": {},
   "outputs": [],
   "source": [
    "ville2[\"long\"]"
   ]
  },
  {
   "cell_type": "markdown",
   "metadata": {},
   "source": [
    "**Question 3** : Écrivez l'instruction permettant d'accéder au nom de `ville2` puis exécutez la cellule afin de voir si la valeur renvoyée est correcte."
   ]
  },
  {
   "cell_type": "code",
   "execution_count": null,
   "metadata": {},
   "outputs": [],
   "source": [
    "# instruction à écrire ici\n"
   ]
  },
  {
   "cell_type": "markdown",
   "metadata": {},
   "source": [
    "**Question 4** : Créez une variable appelée `ville3` qui contient les informations sur la ville d'Angers (au même format que pour les deux premières villes)."
   ]
  },
  {
   "cell_type": "code",
   "execution_count": null,
   "metadata": {},
   "outputs": [],
   "source": [
    "# code à écrire ici\n"
   ]
  },
  {
   "cell_type": "markdown",
   "metadata": {},
   "source": [
    "> N'oubliez pas d'exécuter la cellule ci-dessus pour mémoriser les informations sur la nouvelle ville."
   ]
  },
  {
   "cell_type": "markdown",
   "metadata": {},
   "source": [
    "**Question 5** : Écrivez l'instruction permettant d'accéder à la latitude de `ville3` et vérifiez que la valeur renvoyée est la bonne."
   ]
  },
  {
   "cell_type": "code",
   "execution_count": null,
   "metadata": {},
   "outputs": [],
   "source": [
    "# instruction à écrire ici\n"
   ]
  },
  {
   "cell_type": "markdown",
   "metadata": {},
   "source": [
    "On peut alors utiliser les informations stockées dans `ville1`, `ville2`, etc. pour ajouter les marqueurs correspondants sur la carte. \n",
    "\n",
    "Par exemple pour `ville1` (Paris), au lieu d'écrire \n",
    "\n",
    "```python\n",
    "folium.Marker([48.8566969, 2.3514616], popup=\"Paris\").add_to(ma_carte)\n",
    "```\n",
    "\n",
    "on peut écrire\n",
    "\n",
    "```python\n",
    "folium.Marker([ville1[\"lat\"], ville1[\"long\"]], popup=ville1[\"nom\"]).add_to(ma_carte)\n",
    "```\n",
    "\n",
    ">👉 Cela peut paraître plus long mais cela a l'avantage de mettre en évidence une \"formule\" valable quelle que soit la ville.\n",
    "\n",
    "On pourrait faire de même pour chaque ville, en écrivant plusieurs fois le même genre d'instructions. Cependant, pour éviter les répétitions on va utiliser une boucle `for`, c'est l'objet du paragraphe suivant."
   ]
  },
  {
   "cell_type": "markdown",
   "metadata": {},
   "source": [
    "## Ajouter plusieurs marqueurs avec une boucle `for`\n",
    "\n",
    "On suppose que l'on dispose désormais d'une liste appelée `liste_villes` qui contient des informations sur plusieurs villes."
   ]
  },
  {
   "cell_type": "code",
   "execution_count": null,
   "metadata": {},
   "outputs": [],
   "source": [
    "# cellule à exécuter\n",
    "liste_villes = [\n",
    "    {\"nom\" : \"Paris\", \"lat\": 48.8566969, \"long\": 2.3514616},\n",
    "    {\"nom\": \"Marseille\", \"lat\": 43.2961743, \"long\": 5.3699525},\n",
    "    {\"nom\": \"Bordeaux\", \"lat\": 44.841225, \"long\": -0.5800364},\n",
    "    {\"nom\": \"Nantes\", \"lat\": 47.2186371, \"long\": -1.5541362},\n",
    "    {\"nom\": \"Angers\", \"lat\": 47.4739884, \"long\": -0.5515588},\n",
    "    {\"nom\": \"Metz\", \"lat\": 49.1196964, \"long\": 6.1763552},\n",
    "    {\"nom\": \"Tours\", \"lat\": 47.3900474, \"long\": 0.6889268},\n",
    "    {\"nom\": \"Lille\", \"lat\": 50.6365654, \"long\": 3.0635282},\n",
    "    {\"nom\": \"Toulouse\", \"lat\": 43.6044622, \"long\": 1.4442469},\n",
    "    {\"nom\": \"Strasbourg\", \"lat\": 48.584614, \"long\": 7.7507127}\n",
    "]"
   ]
  },
  {
   "cell_type": "markdown",
   "metadata": {},
   "source": [
    "On souhaite créer un marqueur pour chacune de ces villes sur notre carte.\n",
    "\n",
    "Pour cela, on peut parcourir les éléments de `liste_villes` avec une boucle `for` et ajouter un marqueur pour chaque élément, c'est-à-dire pour chaque ville. Le code ci-dessous permet de le faire :"
   ]
  },
  {
   "cell_type": "code",
   "execution_count": null,
   "metadata": {},
   "outputs": [],
   "source": [
    "import folium\n",
    "ma_carte = folium.Map(location=[46.603354, 1.8883335], zoom_start=5)\n",
    "for ville in liste_villes:  # pour chaque ville de liste_villes\n",
    "    folium.Marker([ville[\"lat\"], ville[\"long\"]], popup=ville[\"nom\"]).add_to(ma_carte)  # on ajoute un marqueur\n",
    "ma_carte"
   ]
  },
  {
   "cell_type": "markdown",
   "metadata": {},
   "source": [
    "**Explications** : \n",
    "\n",
    "- Au premier passage dans la boucle `for`, la variable `ville` prend la valeur `{\"nom\" : \"Paris\", \"lat\": 48.8566969, \"long\": 2.3514616}`, puis au second passage, elle prend la valeur `{\"nom\": \"Marseille\", \"lat\": 43.2961743, \"long\": 5.3699525}`, ainsi de suite...\n",
    "- Ainsi, on sait que `ville[\"lat\"]` représente la latitude, `ville[\"long\"]` la longitude et `ville[\"nom\"]` le nom de la ville parcourue, ce qui permet de créer un marqueur au bon endroit avec l'instruction\n",
    "```python\n",
    "folium.Marker([ville[\"lat\"], ville[\"long\"]], popup=ville[\"nom\"]).add_to(ma_carte)\n",
    "```"
   ]
  },
  {
   "cell_type": "markdown",
   "metadata": {},
   "source": [
    "### Ajouter certains marqueurs selon des conditions\n",
    "\n",
    "Le code suivant permet de parcourir toutes les villes de notre liste mais de ne créer un marqueur que pour celles situées _au nord de Paris_."
   ]
  },
  {
   "cell_type": "code",
   "execution_count": null,
   "metadata": {},
   "outputs": [],
   "source": [
    "import folium\n",
    "ma_carte = folium.Map(location=[46.603354, 1.8883335], zoom_start=5)\n",
    "for ville in liste_villes:\n",
    "    if ville[\"lat\"] >= 48.8566969:\n",
    "        folium.Marker([ville[\"lat\"], ville[\"long\"]], popup=ville[\"nom\"]).add_to(ma_carte)\n",
    "ma_carte"
   ]
  },
  {
   "cell_type": "markdown",
   "metadata": {},
   "source": [
    "**Question 7** : Modifiez le code précédent pour ne créer un marqueur que pour les villes situées _au sud_ d'Angers (Angers inclus)."
   ]
  },
  {
   "cell_type": "code",
   "execution_count": null,
   "metadata": {},
   "outputs": [],
   "source": [
    "# code à écrire ici\n"
   ]
  },
  {
   "cell_type": "markdown",
   "metadata": {},
   "source": [
    "**Question 8** : Modifiez le code précédent pour ne créer un marqueur que pour les villes situées _à l'ouest_ de Lille (Lille inclus)."
   ]
  },
  {
   "cell_type": "code",
   "execution_count": null,
   "metadata": {},
   "outputs": [],
   "source": [
    "# code à écrire ici\n"
   ]
  },
  {
   "cell_type": "markdown",
   "metadata": {},
   "source": [
    "--- \n",
    "<span style=\"font-size: 30px\">👏</span> **Bravo** ! Si vous êtes arrivés ici vous avez terminé l'exercice !\n",
    "\n",
    "Vous pouvez conserver un lien vers votre travail : pour cela, il suffit de cliquer sur le bouton \"Share this notebook\" dans la barre de menu pour copier le lien vers votre notebook. Libre à vous d'enregistrer ou de communiquer ce lien.\n",
    "![logo share](data:image/png;base64,iVBORw0KGgoAAAANSUhEUgAAACAAAAAgCAYAAABzenr0AAAABHNCSVQICAgIfAhkiAAAAAlwSFlzAAAOxAAADsQBlSsOGwAAAYNJREFUWIXF17FOG0EYBOBvSeGAkpKK9LTkCaBOCps+NbxC+pRuoU5eIR0FSFzKQJEieQAqUtLYllDsS3E+2ZzO58PeNSNtc/q1M3v37/xzpEUPGYbTlU2fbQT9EEJet9BPTd5bRD4nIumbyFoIyCAkEjAMIWw3FeR5PsLOVgLygNb7xhZwiJ8hhE6L2puYxPv4HkKYLPv2cz1wHIN4F2d4rGw+wEXKa/gan/FQ2XiMb3g3resqun1gZkRrnTzgE+5qTnWF9+tszlPrHOBacQqKBrupIf6Dj+sS02ydv6oNhr84xasY5Euts9JgX/A2BnGJNtY5xlfsxSQurbi1dcYkJ74TriygjS12JPgEJY5XaMI3sUU89xre40Ska1iihx9mRpSZGdERbmvE/caHmCKa0GTFlzjYlJBFw+ifYhiVjdpV2Pn8MIqaBXdx7gXGcRWrBJIkqfhITaNuOhUHjJblwpSpOMekbXGqWdDG2qOm4iqWWrtIqbgJL/pzWmLe2mtT8X+LG/XJRwcUSgAAAABJRU5ErkJggg==)"
   ]
  },
  {
   "cell_type": "markdown",
   "metadata": {},
   "source": [
    "---\n",
    "\n",
    "Germain BECKER, Marine DENAIS, Carine LEGALL, Sébastien POINT, Lycée Mounier, ANGERS ![Licence Creative Commons](https://i.creativecommons.org/l/by-nc-sa/4.0/88x31.png)"
   ]
  }
 ],
 "metadata": {
  "celltoolbar": "Aucun(e)",
  "kernelspec": {
   "display_name": "Python 3",
   "language": "python",
   "name": "python3"
  },
  "language_info": {
   "codemirror_mode": {
    "name": "ipython",
    "version": 3
   },
   "file_extension": ".py",
   "mimetype": "text/x-python",
   "name": "python",
   "nbconvert_exporter": "python",
   "pygments_lexer": "ipython3",
   "version": "3.7.9"
  }
 },
 "nbformat": 4,
 "nbformat_minor": 2
}
